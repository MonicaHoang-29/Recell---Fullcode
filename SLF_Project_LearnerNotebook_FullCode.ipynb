{
 "cells": [
  {
   "cell_type": "markdown",
   "metadata": {
    "id": "p2r5o8SR4rqH"
   },
   "source": [
    "# Supervised Learning - Foundations Project: ReCell "
   ]
  },
  {
   "cell_type": "markdown",
   "metadata": {
    "id": "3SntBY974rqJ"
   },
   "source": [
    "## Problem Statement"
   ]
  },
  {
   "cell_type": "markdown",
   "metadata": {
    "id": "RA_GXJwuhmVz"
   },
   "source": [
    "### Business Context\n",
    "\n",
    "Buying and selling used phones and tablets used to be something that happened on a handful of online marketplace sites. But the used and refurbished device market has grown considerably over the past decade, and a new IDC (International Data Corporation) forecast predicts that the used phone market would be worth \\\\$52.7bn by 2023 with a compound annual growth rate (CAGR) of 13.6% from 2018 to 2023. This growth can be attributed to an uptick in demand for used phones and tablets that offer considerable savings compared with new models.\n",
    "\n",
    "Refurbished and used devices continue to provide cost-effective alternatives to both consumers and businesses that are looking to save money when purchasing one. There are plenty of other benefits associated with the used device market. Used and refurbished devices can be sold with warranties and can also be insured with proof of purchase. Third-party vendors/platforms, such as Verizon, Amazon, etc., provide attractive offers to customers for refurbished devices. Maximizing the longevity of devices through second-hand trade also reduces their environmental impact and helps in recycling and reducing waste. The impact of the COVID-19 outbreak may further boost this segment as consumers cut back on discretionary spending and buy phones and tablets only for immediate needs.\n",
    "\n",
    " \n",
    "### Objective\n",
    "\n",
    "The rising potential of this comparatively under-the-radar market fuels the need for an ML-based solution to develop a dynamic pricing strategy for used and refurbished devices. ReCell, a startup aiming to tap the potential in this market, has hired you as a data scientist. They want you to analyze the data provided and build a linear regression model to predict the price of a used phone/tablet and identify factors that significantly influence it.\n",
    "\n",
    " \n",
    "### Data Description\n",
    "\n",
    "The data contains the different attributes of used/refurbished phones and tablets. The data was collected in the year 2021. The detailed data dictionary is given below.\n",
    "\n",
    "\n",
    "- brand_name: Name of manufacturing brand\n",
    "- os: OS on which the device runs\n",
    "- screen_size: Size of the screen in cm\n",
    "- 4g: Whether 4G is available or not\n",
    "- 5g: Whether 5G is available or not\n",
    "- main_camera_mp: Resolution of the rear camera in megapixels\n",
    "- selfie_camera_mp: Resolution of the front camera in megapixels\n",
    "- int_memory: Amount of internal memory (ROM) in GB\n",
    "- ram: Amount of RAM in GB\n",
    "- battery: Energy capacity of the device battery in mAh\n",
    "- weight: Weight of the device in grams\n",
    "- release_year: Year when the device model was released\n",
    "- days_used: Number of days the used/refurbished device has been used\n",
    "- normalized_new_price: Normalized price of a new device of the same model in euros\n",
    "- normalized_used_price: Normalized price of the used/refurbished device in euros"
   ]
  },
  {
   "cell_type": "markdown",
   "metadata": {
    "id": "v_-uuGqH-qTt"
   },
   "source": [
    "## Importing necessary libraries"
   ]
  },
  {
   "cell_type": "code",
   "execution_count": 1,
   "metadata": {
    "id": "zeF8YaNKDPyK"
   },
   "outputs": [
    {
     "data": {
      "application/javascript": [
       "\n",
       "            setTimeout(function() {\n",
       "                var nbb_cell_id = 1;\n",
       "                var nbb_unformatted_code = \"# this will help in making the Python code more structured automatically (good coding practice)\\n%load_ext nb_black\\n\\n# Libraries to help with reading and manipulating data\\nimport numpy as np\\nimport pandas as pd\\n\\n# Libraries to help with data visualization\\nimport matplotlib.pyplot as plt\\nimport seaborn as sns\\n\\nsns.set()\\n\\n# split the data into train and test\\nfrom sklearn.model_selection import train_test_split\\n\\n# to build linear regression_model\\nfrom sklearn.linear_model import LinearRegression\\n\\n# to check model performance\\nfrom sklearn.metrics import mean_absolute_error, mean_squared_error, r2_score\\n\\n# to build linear regression_model using statsmodels\\nimport statsmodels.api as sm\\n\\n# to compute VIF\\nfrom statsmodels.stats.outliers_influence import variance_inflation_factor\";\n",
       "                var nbb_formatted_code = \"# this will help in making the Python code more structured automatically (good coding practice)\\n%load_ext nb_black\\n\\n# Libraries to help with reading and manipulating data\\nimport numpy as np\\nimport pandas as pd\\n\\n# Libraries to help with data visualization\\nimport matplotlib.pyplot as plt\\nimport seaborn as sns\\n\\nsns.set()\\n\\n# split the data into train and test\\nfrom sklearn.model_selection import train_test_split\\n\\n# to build linear regression_model\\nfrom sklearn.linear_model import LinearRegression\\n\\n# to check model performance\\nfrom sklearn.metrics import mean_absolute_error, mean_squared_error, r2_score\\n\\n# to build linear regression_model using statsmodels\\nimport statsmodels.api as sm\\n\\n# to compute VIF\\nfrom statsmodels.stats.outliers_influence import variance_inflation_factor\";\n",
       "                var nbb_cells = Jupyter.notebook.get_cells();\n",
       "                for (var i = 0; i < nbb_cells.length; ++i) {\n",
       "                    if (nbb_cells[i].input_prompt_number == nbb_cell_id) {\n",
       "                        if (nbb_cells[i].get_text() == nbb_unformatted_code) {\n",
       "                             nbb_cells[i].set_text(nbb_formatted_code);\n",
       "                        }\n",
       "                        break;\n",
       "                    }\n",
       "                }\n",
       "            }, 500);\n",
       "            "
      ],
      "text/plain": [
       "<IPython.core.display.Javascript object>"
      ]
     },
     "metadata": {},
     "output_type": "display_data"
    }
   ],
   "source": [
    "# this will help in making the Python code more structured automatically (good coding practice)\n",
    "%load_ext nb_black\n",
    "\n",
    "# Libraries to help with reading and manipulating data\n",
    "import numpy as np\n",
    "import pandas as pd\n",
    "\n",
    "# Libraries to help with data visualization\n",
    "import matplotlib.pyplot as plt\n",
    "import seaborn as sns\n",
    "\n",
    "sns.set()\n",
    "\n",
    "# split the data into train and test\n",
    "from sklearn.model_selection import train_test_split\n",
    "\n",
    "# to build linear regression_model\n",
    "from sklearn.linear_model import LinearRegression\n",
    "\n",
    "# to check model performance\n",
    "from sklearn.metrics import mean_absolute_error, mean_squared_error, r2_score\n",
    "\n",
    "# to build linear regression_model using statsmodels\n",
    "import statsmodels.api as sm\n",
    "\n",
    "# to compute VIF\n",
    "from statsmodels.stats.outliers_influence import variance_inflation_factor"
   ]
  },
  {
   "cell_type": "markdown",
   "metadata": {
    "id": "xxhpZv9y-qTw"
   },
   "source": [
    "## Loading the dataset"
   ]
  },
  {
   "cell_type": "code",
   "execution_count": 2,
   "metadata": {
    "id": "ZJwX9wuc4rqL"
   },
   "outputs": [
    {
     "data": {
      "application/javascript": [
       "\n",
       "            setTimeout(function() {\n",
       "                var nbb_cell_id = 2;\n",
       "                var nbb_unformatted_code = \"df = pd.read_csv(\\\"used_device_data.csv\\\")\";\n",
       "                var nbb_formatted_code = \"df = pd.read_csv(\\\"used_device_data.csv\\\")\";\n",
       "                var nbb_cells = Jupyter.notebook.get_cells();\n",
       "                for (var i = 0; i < nbb_cells.length; ++i) {\n",
       "                    if (nbb_cells[i].input_prompt_number == nbb_cell_id) {\n",
       "                        if (nbb_cells[i].get_text() == nbb_unformatted_code) {\n",
       "                             nbb_cells[i].set_text(nbb_formatted_code);\n",
       "                        }\n",
       "                        break;\n",
       "                    }\n",
       "                }\n",
       "            }, 500);\n",
       "            "
      ],
      "text/plain": [
       "<IPython.core.display.Javascript object>"
      ]
     },
     "metadata": {},
     "output_type": "display_data"
    }
   ],
   "source": [
    "df = pd.read_csv(\"used_device_data.csv\")"
   ]
  },
  {
   "cell_type": "markdown",
   "metadata": {
    "id": "UvpMDcaaMKtI"
   },
   "source": [
    "## Data Overview"
   ]
  },
  {
   "cell_type": "markdown",
   "metadata": {
    "id": "tIiCRwqZ54_C"
   },
   "source": [
    "- Observations\n",
    "- Sanity checks"
   ]
  },
  {
   "cell_type": "markdown",
   "metadata": {
    "id": "01hJQ7EfMKtK"
   },
   "source": [
    "### Displaying the first few rows of the dataset"
   ]
  },
  {
   "cell_type": "code",
   "execution_count": 3,
   "metadata": {},
   "outputs": [
    {
     "data": {
      "text/html": [
       "<div>\n",
       "<style scoped>\n",
       "    .dataframe tbody tr th:only-of-type {\n",
       "        vertical-align: middle;\n",
       "    }\n",
       "\n",
       "    .dataframe tbody tr th {\n",
       "        vertical-align: top;\n",
       "    }\n",
       "\n",
       "    .dataframe thead th {\n",
       "        text-align: right;\n",
       "    }\n",
       "</style>\n",
       "<table border=\"1\" class=\"dataframe\">\n",
       "  <thead>\n",
       "    <tr style=\"text-align: right;\">\n",
       "      <th></th>\n",
       "      <th>brand_name</th>\n",
       "      <th>os</th>\n",
       "      <th>screen_size</th>\n",
       "      <th>4g</th>\n",
       "      <th>5g</th>\n",
       "      <th>main_camera_mp</th>\n",
       "      <th>selfie_camera_mp</th>\n",
       "      <th>int_memory</th>\n",
       "      <th>ram</th>\n",
       "      <th>battery</th>\n",
       "      <th>weight</th>\n",
       "      <th>release_year</th>\n",
       "      <th>days_used</th>\n",
       "      <th>normalized_used_price</th>\n",
       "      <th>normalized_new_price</th>\n",
       "    </tr>\n",
       "  </thead>\n",
       "  <tbody>\n",
       "    <tr>\n",
       "      <th>0</th>\n",
       "      <td>Honor</td>\n",
       "      <td>Android</td>\n",
       "      <td>14.50</td>\n",
       "      <td>yes</td>\n",
       "      <td>no</td>\n",
       "      <td>13.0</td>\n",
       "      <td>5.0</td>\n",
       "      <td>64.0</td>\n",
       "      <td>3.0</td>\n",
       "      <td>3020.0</td>\n",
       "      <td>146.0</td>\n",
       "      <td>2020</td>\n",
       "      <td>127</td>\n",
       "      <td>4.307572</td>\n",
       "      <td>4.715100</td>\n",
       "    </tr>\n",
       "    <tr>\n",
       "      <th>1</th>\n",
       "      <td>Honor</td>\n",
       "      <td>Android</td>\n",
       "      <td>17.30</td>\n",
       "      <td>yes</td>\n",
       "      <td>yes</td>\n",
       "      <td>13.0</td>\n",
       "      <td>16.0</td>\n",
       "      <td>128.0</td>\n",
       "      <td>8.0</td>\n",
       "      <td>4300.0</td>\n",
       "      <td>213.0</td>\n",
       "      <td>2020</td>\n",
       "      <td>325</td>\n",
       "      <td>5.162097</td>\n",
       "      <td>5.519018</td>\n",
       "    </tr>\n",
       "    <tr>\n",
       "      <th>2</th>\n",
       "      <td>Honor</td>\n",
       "      <td>Android</td>\n",
       "      <td>16.69</td>\n",
       "      <td>yes</td>\n",
       "      <td>yes</td>\n",
       "      <td>13.0</td>\n",
       "      <td>8.0</td>\n",
       "      <td>128.0</td>\n",
       "      <td>8.0</td>\n",
       "      <td>4200.0</td>\n",
       "      <td>213.0</td>\n",
       "      <td>2020</td>\n",
       "      <td>162</td>\n",
       "      <td>5.111084</td>\n",
       "      <td>5.884631</td>\n",
       "    </tr>\n",
       "    <tr>\n",
       "      <th>3</th>\n",
       "      <td>Honor</td>\n",
       "      <td>Android</td>\n",
       "      <td>25.50</td>\n",
       "      <td>yes</td>\n",
       "      <td>yes</td>\n",
       "      <td>13.0</td>\n",
       "      <td>8.0</td>\n",
       "      <td>64.0</td>\n",
       "      <td>6.0</td>\n",
       "      <td>7250.0</td>\n",
       "      <td>480.0</td>\n",
       "      <td>2020</td>\n",
       "      <td>345</td>\n",
       "      <td>5.135387</td>\n",
       "      <td>5.630961</td>\n",
       "    </tr>\n",
       "    <tr>\n",
       "      <th>4</th>\n",
       "      <td>Honor</td>\n",
       "      <td>Android</td>\n",
       "      <td>15.32</td>\n",
       "      <td>yes</td>\n",
       "      <td>no</td>\n",
       "      <td>13.0</td>\n",
       "      <td>8.0</td>\n",
       "      <td>64.0</td>\n",
       "      <td>3.0</td>\n",
       "      <td>5000.0</td>\n",
       "      <td>185.0</td>\n",
       "      <td>2020</td>\n",
       "      <td>293</td>\n",
       "      <td>4.389995</td>\n",
       "      <td>4.947837</td>\n",
       "    </tr>\n",
       "  </tbody>\n",
       "</table>\n",
       "</div>"
      ],
      "text/plain": [
       "  brand_name       os  screen_size   4g   5g  main_camera_mp  \\\n",
       "0      Honor  Android        14.50  yes   no            13.0   \n",
       "1      Honor  Android        17.30  yes  yes            13.0   \n",
       "2      Honor  Android        16.69  yes  yes            13.0   \n",
       "3      Honor  Android        25.50  yes  yes            13.0   \n",
       "4      Honor  Android        15.32  yes   no            13.0   \n",
       "\n",
       "   selfie_camera_mp  int_memory  ram  battery  weight  release_year  \\\n",
       "0               5.0        64.0  3.0   3020.0   146.0          2020   \n",
       "1              16.0       128.0  8.0   4300.0   213.0          2020   \n",
       "2               8.0       128.0  8.0   4200.0   213.0          2020   \n",
       "3               8.0        64.0  6.0   7250.0   480.0          2020   \n",
       "4               8.0        64.0  3.0   5000.0   185.0          2020   \n",
       "\n",
       "   days_used  normalized_used_price  normalized_new_price  \n",
       "0        127               4.307572              4.715100  \n",
       "1        325               5.162097              5.519018  \n",
       "2        162               5.111084              5.884631  \n",
       "3        345               5.135387              5.630961  \n",
       "4        293               4.389995              4.947837  "
      ]
     },
     "execution_count": 3,
     "metadata": {},
     "output_type": "execute_result"
    },
    {
     "data": {
      "application/javascript": [
       "\n",
       "            setTimeout(function() {\n",
       "                var nbb_cell_id = 3;\n",
       "                var nbb_unformatted_code = \"df.head()\";\n",
       "                var nbb_formatted_code = \"df.head()\";\n",
       "                var nbb_cells = Jupyter.notebook.get_cells();\n",
       "                for (var i = 0; i < nbb_cells.length; ++i) {\n",
       "                    if (nbb_cells[i].input_prompt_number == nbb_cell_id) {\n",
       "                        if (nbb_cells[i].get_text() == nbb_unformatted_code) {\n",
       "                             nbb_cells[i].set_text(nbb_formatted_code);\n",
       "                        }\n",
       "                        break;\n",
       "                    }\n",
       "                }\n",
       "            }, 500);\n",
       "            "
      ],
      "text/plain": [
       "<IPython.core.display.Javascript object>"
      ]
     },
     "metadata": {},
     "output_type": "display_data"
    }
   ],
   "source": [
    "df.head()"
   ]
  },
  {
   "cell_type": "code",
   "execution_count": 4,
   "metadata": {},
   "outputs": [
    {
     "data": {
      "text/html": [
       "<div>\n",
       "<style scoped>\n",
       "    .dataframe tbody tr th:only-of-type {\n",
       "        vertical-align: middle;\n",
       "    }\n",
       "\n",
       "    .dataframe tbody tr th {\n",
       "        vertical-align: top;\n",
       "    }\n",
       "\n",
       "    .dataframe thead th {\n",
       "        text-align: right;\n",
       "    }\n",
       "</style>\n",
       "<table border=\"1\" class=\"dataframe\">\n",
       "  <thead>\n",
       "    <tr style=\"text-align: right;\">\n",
       "      <th></th>\n",
       "      <th>brand_name</th>\n",
       "      <th>os</th>\n",
       "      <th>screen_size</th>\n",
       "      <th>4g</th>\n",
       "      <th>5g</th>\n",
       "      <th>main_camera_mp</th>\n",
       "      <th>selfie_camera_mp</th>\n",
       "      <th>int_memory</th>\n",
       "      <th>ram</th>\n",
       "      <th>battery</th>\n",
       "      <th>weight</th>\n",
       "      <th>release_year</th>\n",
       "      <th>days_used</th>\n",
       "      <th>normalized_used_price</th>\n",
       "      <th>normalized_new_price</th>\n",
       "    </tr>\n",
       "  </thead>\n",
       "  <tbody>\n",
       "    <tr>\n",
       "      <th>2325</th>\n",
       "      <td>Others</td>\n",
       "      <td>Android</td>\n",
       "      <td>10.08</td>\n",
       "      <td>no</td>\n",
       "      <td>no</td>\n",
       "      <td>3.15</td>\n",
       "      <td>0.3</td>\n",
       "      <td>512.0</td>\n",
       "      <td>0.25</td>\n",
       "      <td>2100.0</td>\n",
       "      <td>150.0</td>\n",
       "      <td>2014</td>\n",
       "      <td>818</td>\n",
       "      <td>3.100543</td>\n",
       "      <td>4.115617</td>\n",
       "    </tr>\n",
       "    <tr>\n",
       "      <th>91</th>\n",
       "      <td>LG</td>\n",
       "      <td>Android</td>\n",
       "      <td>15.90</td>\n",
       "      <td>yes</td>\n",
       "      <td>no</td>\n",
       "      <td>8.00</td>\n",
       "      <td>16.0</td>\n",
       "      <td>32.0</td>\n",
       "      <td>3.00</td>\n",
       "      <td>4000.0</td>\n",
       "      <td>175.0</td>\n",
       "      <td>2019</td>\n",
       "      <td>200</td>\n",
       "      <td>4.582311</td>\n",
       "      <td>4.864607</td>\n",
       "    </tr>\n",
       "    <tr>\n",
       "      <th>1078</th>\n",
       "      <td>Gionee</td>\n",
       "      <td>Android</td>\n",
       "      <td>10.29</td>\n",
       "      <td>no</td>\n",
       "      <td>no</td>\n",
       "      <td>5.00</td>\n",
       "      <td>0.3</td>\n",
       "      <td>16.0</td>\n",
       "      <td>4.00</td>\n",
       "      <td>1800.0</td>\n",
       "      <td>142.9</td>\n",
       "      <td>2013</td>\n",
       "      <td>688</td>\n",
       "      <td>3.535145</td>\n",
       "      <td>4.698114</td>\n",
       "    </tr>\n",
       "    <tr>\n",
       "      <th>1277</th>\n",
       "      <td>Huawei</td>\n",
       "      <td>Android</td>\n",
       "      <td>25.43</td>\n",
       "      <td>yes</td>\n",
       "      <td>no</td>\n",
       "      <td>8.00</td>\n",
       "      <td>8.0</td>\n",
       "      <td>64.0</td>\n",
       "      <td>4.00</td>\n",
       "      <td>7500.0</td>\n",
       "      <td>475.0</td>\n",
       "      <td>2018</td>\n",
       "      <td>708</td>\n",
       "      <td>5.232979</td>\n",
       "      <td>5.703882</td>\n",
       "    </tr>\n",
       "    <tr>\n",
       "      <th>508</th>\n",
       "      <td>Alcatel</td>\n",
       "      <td>Android</td>\n",
       "      <td>20.32</td>\n",
       "      <td>no</td>\n",
       "      <td>no</td>\n",
       "      <td>2.00</td>\n",
       "      <td>0.3</td>\n",
       "      <td>16.0</td>\n",
       "      <td>4.00</td>\n",
       "      <td>3240.0</td>\n",
       "      <td>335.0</td>\n",
       "      <td>2015</td>\n",
       "      <td>686</td>\n",
       "      <td>4.385894</td>\n",
       "      <td>4.602667</td>\n",
       "    </tr>\n",
       "    <tr>\n",
       "      <th>3442</th>\n",
       "      <td>Samsung</td>\n",
       "      <td>Android</td>\n",
       "      <td>15.29</td>\n",
       "      <td>yes</td>\n",
       "      <td>no</td>\n",
       "      <td>12.00</td>\n",
       "      <td>8.0</td>\n",
       "      <td>32.0</td>\n",
       "      <td>2.00</td>\n",
       "      <td>4000.0</td>\n",
       "      <td>168.0</td>\n",
       "      <td>2019</td>\n",
       "      <td>497</td>\n",
       "      <td>4.243626</td>\n",
       "      <td>4.624875</td>\n",
       "    </tr>\n",
       "    <tr>\n",
       "      <th>33</th>\n",
       "      <td>Huawei</td>\n",
       "      <td>Android</td>\n",
       "      <td>25.50</td>\n",
       "      <td>yes</td>\n",
       "      <td>no</td>\n",
       "      <td>8.00</td>\n",
       "      <td>8.0</td>\n",
       "      <td>64.0</td>\n",
       "      <td>4.00</td>\n",
       "      <td>7250.0</td>\n",
       "      <td>450.0</td>\n",
       "      <td>2020</td>\n",
       "      <td>211</td>\n",
       "      <td>5.133089</td>\n",
       "      <td>5.518777</td>\n",
       "    </tr>\n",
       "    <tr>\n",
       "      <th>2822</th>\n",
       "      <td>Vivo</td>\n",
       "      <td>Android</td>\n",
       "      <td>15.32</td>\n",
       "      <td>yes</td>\n",
       "      <td>no</td>\n",
       "      <td>13.00</td>\n",
       "      <td>12.0</td>\n",
       "      <td>64.0</td>\n",
       "      <td>4.00</td>\n",
       "      <td>3315.0</td>\n",
       "      <td>164.0</td>\n",
       "      <td>2018</td>\n",
       "      <td>477</td>\n",
       "      <td>4.794467</td>\n",
       "      <td>5.521661</td>\n",
       "    </tr>\n",
       "    <tr>\n",
       "      <th>813</th>\n",
       "      <td>Asus</td>\n",
       "      <td>Android</td>\n",
       "      <td>12.75</td>\n",
       "      <td>yes</td>\n",
       "      <td>no</td>\n",
       "      <td>13.00</td>\n",
       "      <td>8.0</td>\n",
       "      <td>32.0</td>\n",
       "      <td>4.00</td>\n",
       "      <td>5000.0</td>\n",
       "      <td>168.0</td>\n",
       "      <td>2017</td>\n",
       "      <td>593</td>\n",
       "      <td>4.961095</td>\n",
       "      <td>5.797971</td>\n",
       "    </tr>\n",
       "    <tr>\n",
       "      <th>2800</th>\n",
       "      <td>Others</td>\n",
       "      <td>Android</td>\n",
       "      <td>10.16</td>\n",
       "      <td>no</td>\n",
       "      <td>no</td>\n",
       "      <td>8.00</td>\n",
       "      <td>1.3</td>\n",
       "      <td>16.0</td>\n",
       "      <td>4.00</td>\n",
       "      <td>2500.0</td>\n",
       "      <td>128.0</td>\n",
       "      <td>2015</td>\n",
       "      <td>782</td>\n",
       "      <td>3.903386</td>\n",
       "      <td>4.373868</td>\n",
       "    </tr>\n",
       "    <tr>\n",
       "      <th>2706</th>\n",
       "      <td>Sony</td>\n",
       "      <td>Android</td>\n",
       "      <td>15.24</td>\n",
       "      <td>yes</td>\n",
       "      <td>no</td>\n",
       "      <td>13.00</td>\n",
       "      <td>13.0</td>\n",
       "      <td>16.0</td>\n",
       "      <td>4.00</td>\n",
       "      <td>2930.0</td>\n",
       "      <td>187.0</td>\n",
       "      <td>2015</td>\n",
       "      <td>848</td>\n",
       "      <td>4.428433</td>\n",
       "      <td>5.293857</td>\n",
       "    </tr>\n",
       "    <tr>\n",
       "      <th>798</th>\n",
       "      <td>Asus</td>\n",
       "      <td>Android</td>\n",
       "      <td>10.16</td>\n",
       "      <td>no</td>\n",
       "      <td>no</td>\n",
       "      <td>8.00</td>\n",
       "      <td>2.0</td>\n",
       "      <td>32.0</td>\n",
       "      <td>4.00</td>\n",
       "      <td>1170.0</td>\n",
       "      <td>116.0</td>\n",
       "      <td>2014</td>\n",
       "      <td>824</td>\n",
       "      <td>4.284552</td>\n",
       "      <td>5.349581</td>\n",
       "    </tr>\n",
       "    <tr>\n",
       "      <th>654</th>\n",
       "      <td>Apple</td>\n",
       "      <td>iOS</td>\n",
       "      <td>25.53</td>\n",
       "      <td>yes</td>\n",
       "      <td>no</td>\n",
       "      <td>12.00</td>\n",
       "      <td>7.0</td>\n",
       "      <td>64.0</td>\n",
       "      <td>4.00</td>\n",
       "      <td>8134.0</td>\n",
       "      <td>469.0</td>\n",
       "      <td>2017</td>\n",
       "      <td>629</td>\n",
       "      <td>5.290789</td>\n",
       "      <td>6.594071</td>\n",
       "    </tr>\n",
       "    <tr>\n",
       "      <th>1661</th>\n",
       "      <td>LG</td>\n",
       "      <td>Android</td>\n",
       "      <td>12.70</td>\n",
       "      <td>yes</td>\n",
       "      <td>no</td>\n",
       "      <td>8.00</td>\n",
       "      <td>5.0</td>\n",
       "      <td>16.0</td>\n",
       "      <td>4.00</td>\n",
       "      <td>2500.0</td>\n",
       "      <td>143.0</td>\n",
       "      <td>2017</td>\n",
       "      <td>642</td>\n",
       "      <td>4.077876</td>\n",
       "      <td>4.598146</td>\n",
       "    </tr>\n",
       "    <tr>\n",
       "      <th>2595</th>\n",
       "      <td>Samsung</td>\n",
       "      <td>Android</td>\n",
       "      <td>10.29</td>\n",
       "      <td>no</td>\n",
       "      <td>no</td>\n",
       "      <td>5.00</td>\n",
       "      <td>0.3</td>\n",
       "      <td>32.0</td>\n",
       "      <td>4.00</td>\n",
       "      <td>2100.0</td>\n",
       "      <td>139.0</td>\n",
       "      <td>2013</td>\n",
       "      <td>870</td>\n",
       "      <td>4.150882</td>\n",
       "      <td>5.137268</td>\n",
       "    </tr>\n",
       "    <tr>\n",
       "      <th>289</th>\n",
       "      <td>Lenovo</td>\n",
       "      <td>Android</td>\n",
       "      <td>20.32</td>\n",
       "      <td>yes</td>\n",
       "      <td>no</td>\n",
       "      <td>5.00</td>\n",
       "      <td>2.0</td>\n",
       "      <td>16.0</td>\n",
       "      <td>2.00</td>\n",
       "      <td>5000.0</td>\n",
       "      <td>305.0</td>\n",
       "      <td>2019</td>\n",
       "      <td>349</td>\n",
       "      <td>4.390367</td>\n",
       "      <td>4.947198</td>\n",
       "    </tr>\n",
       "    <tr>\n",
       "      <th>3424</th>\n",
       "      <td>Samsung</td>\n",
       "      <td>Android</td>\n",
       "      <td>15.29</td>\n",
       "      <td>yes</td>\n",
       "      <td>yes</td>\n",
       "      <td>8.00</td>\n",
       "      <td>13.0</td>\n",
       "      <td>128.0</td>\n",
       "      <td>12.00</td>\n",
       "      <td>4000.0</td>\n",
       "      <td>163.0</td>\n",
       "      <td>2020</td>\n",
       "      <td>124</td>\n",
       "      <td>5.486165</td>\n",
       "      <td>6.522078</td>\n",
       "    </tr>\n",
       "    <tr>\n",
       "      <th>1881</th>\n",
       "      <td>Micromax</td>\n",
       "      <td>Android</td>\n",
       "      <td>20.32</td>\n",
       "      <td>no</td>\n",
       "      <td>no</td>\n",
       "      <td>5.00</td>\n",
       "      <td>2.0</td>\n",
       "      <td>32.0</td>\n",
       "      <td>4.00</td>\n",
       "      <td>4400.0</td>\n",
       "      <td>310.5</td>\n",
       "      <td>2015</td>\n",
       "      <td>604</td>\n",
       "      <td>4.580775</td>\n",
       "      <td>5.006226</td>\n",
       "    </tr>\n",
       "    <tr>\n",
       "      <th>2813</th>\n",
       "      <td>Vivo</td>\n",
       "      <td>Android</td>\n",
       "      <td>16.23</td>\n",
       "      <td>yes</td>\n",
       "      <td>no</td>\n",
       "      <td>13.00</td>\n",
       "      <td>12.0</td>\n",
       "      <td>128.0</td>\n",
       "      <td>4.00</td>\n",
       "      <td>3500.0</td>\n",
       "      <td>199.0</td>\n",
       "      <td>2018</td>\n",
       "      <td>603</td>\n",
       "      <td>4.830232</td>\n",
       "      <td>6.552194</td>\n",
       "    </tr>\n",
       "    <tr>\n",
       "      <th>1434</th>\n",
       "      <td>Karbonn</td>\n",
       "      <td>Android</td>\n",
       "      <td>10.24</td>\n",
       "      <td>no</td>\n",
       "      <td>no</td>\n",
       "      <td>8.00</td>\n",
       "      <td>2.0</td>\n",
       "      <td>16.0</td>\n",
       "      <td>4.00</td>\n",
       "      <td>1625.0</td>\n",
       "      <td>126.5</td>\n",
       "      <td>2013</td>\n",
       "      <td>840</td>\n",
       "      <td>3.697591</td>\n",
       "      <td>5.072921</td>\n",
       "    </tr>\n",
       "    <tr>\n",
       "      <th>969</th>\n",
       "      <td>Celkon</td>\n",
       "      <td>Android</td>\n",
       "      <td>11.76</td>\n",
       "      <td>no</td>\n",
       "      <td>no</td>\n",
       "      <td>5.00</td>\n",
       "      <td>0.3</td>\n",
       "      <td>256.0</td>\n",
       "      <td>0.25</td>\n",
       "      <td>1400.0</td>\n",
       "      <td>140.0</td>\n",
       "      <td>2013</td>\n",
       "      <td>857</td>\n",
       "      <td>4.335721</td>\n",
       "      <td>4.787825</td>\n",
       "    </tr>\n",
       "    <tr>\n",
       "      <th>2313</th>\n",
       "      <td>Others</td>\n",
       "      <td>Android</td>\n",
       "      <td>12.70</td>\n",
       "      <td>no</td>\n",
       "      <td>no</td>\n",
       "      <td>5.00</td>\n",
       "      <td>0.3</td>\n",
       "      <td>32.0</td>\n",
       "      <td>4.00</td>\n",
       "      <td>2500.0</td>\n",
       "      <td>154.0</td>\n",
       "      <td>2015</td>\n",
       "      <td>667</td>\n",
       "      <td>3.891820</td>\n",
       "      <td>4.388009</td>\n",
       "    </tr>\n",
       "    <tr>\n",
       "      <th>1378</th>\n",
       "      <td>Huawei</td>\n",
       "      <td>Android</td>\n",
       "      <td>25.43</td>\n",
       "      <td>yes</td>\n",
       "      <td>no</td>\n",
       "      <td>3.15</td>\n",
       "      <td>0.3</td>\n",
       "      <td>32.0</td>\n",
       "      <td>4.00</td>\n",
       "      <td>6600.0</td>\n",
       "      <td>620.0</td>\n",
       "      <td>2014</td>\n",
       "      <td>620</td>\n",
       "      <td>4.898437</td>\n",
       "      <td>5.855358</td>\n",
       "    </tr>\n",
       "    <tr>\n",
       "      <th>2078</th>\n",
       "      <td>Nokia</td>\n",
       "      <td>Windows</td>\n",
       "      <td>10.29</td>\n",
       "      <td>no</td>\n",
       "      <td>no</td>\n",
       "      <td>5.00</td>\n",
       "      <td>1.6</td>\n",
       "      <td>32.0</td>\n",
       "      <td>4.00</td>\n",
       "      <td>1830.0</td>\n",
       "      <td>134.0</td>\n",
       "      <td>2014</td>\n",
       "      <td>825</td>\n",
       "      <td>4.209903</td>\n",
       "      <td>4.949114</td>\n",
       "    </tr>\n",
       "    <tr>\n",
       "      <th>1849</th>\n",
       "      <td>Micromax</td>\n",
       "      <td>Android</td>\n",
       "      <td>12.70</td>\n",
       "      <td>yes</td>\n",
       "      <td>no</td>\n",
       "      <td>13.00</td>\n",
       "      <td>5.0</td>\n",
       "      <td>16.0</td>\n",
       "      <td>4.00</td>\n",
       "      <td>2500.0</td>\n",
       "      <td>159.0</td>\n",
       "      <td>2016</td>\n",
       "      <td>617</td>\n",
       "      <td>4.296060</td>\n",
       "      <td>4.606669</td>\n",
       "    </tr>\n",
       "    <tr>\n",
       "      <th>99</th>\n",
       "      <td>Meizu</td>\n",
       "      <td>Android</td>\n",
       "      <td>15.37</td>\n",
       "      <td>yes</td>\n",
       "      <td>no</td>\n",
       "      <td>NaN</td>\n",
       "      <td>8.0</td>\n",
       "      <td>32.0</td>\n",
       "      <td>2.00</td>\n",
       "      <td>4000.0</td>\n",
       "      <td>184.0</td>\n",
       "      <td>2019</td>\n",
       "      <td>190</td>\n",
       "      <td>4.290185</td>\n",
       "      <td>5.195177</td>\n",
       "    </tr>\n",
       "    <tr>\n",
       "      <th>3181</th>\n",
       "      <td>ZTE</td>\n",
       "      <td>Android</td>\n",
       "      <td>12.70</td>\n",
       "      <td>no</td>\n",
       "      <td>no</td>\n",
       "      <td>8.00</td>\n",
       "      <td>1.3</td>\n",
       "      <td>16.0</td>\n",
       "      <td>4.00</td>\n",
       "      <td>2500.0</td>\n",
       "      <td>163.0</td>\n",
       "      <td>2013</td>\n",
       "      <td>829</td>\n",
       "      <td>4.008242</td>\n",
       "      <td>5.296816</td>\n",
       "    </tr>\n",
       "    <tr>\n",
       "      <th>1971</th>\n",
       "      <td>Motorola</td>\n",
       "      <td>Android</td>\n",
       "      <td>12.75</td>\n",
       "      <td>yes</td>\n",
       "      <td>no</td>\n",
       "      <td>8.00</td>\n",
       "      <td>5.0</td>\n",
       "      <td>16.0</td>\n",
       "      <td>4.00</td>\n",
       "      <td>2800.0</td>\n",
       "      <td>150.0</td>\n",
       "      <td>2018</td>\n",
       "      <td>598</td>\n",
       "      <td>4.161068</td>\n",
       "      <td>4.400358</td>\n",
       "    </tr>\n",
       "    <tr>\n",
       "      <th>601</th>\n",
       "      <td>Others</td>\n",
       "      <td>Android</td>\n",
       "      <td>10.34</td>\n",
       "      <td>no</td>\n",
       "      <td>no</td>\n",
       "      <td>16.00</td>\n",
       "      <td>4.0</td>\n",
       "      <td>16.0</td>\n",
       "      <td>4.00</td>\n",
       "      <td>2200.0</td>\n",
       "      <td>139.2</td>\n",
       "      <td>2014</td>\n",
       "      <td>786</td>\n",
       "      <td>4.326250</td>\n",
       "      <td>5.703449</td>\n",
       "    </tr>\n",
       "    <tr>\n",
       "      <th>771</th>\n",
       "      <td>Asus</td>\n",
       "      <td>Android</td>\n",
       "      <td>12.70</td>\n",
       "      <td>yes</td>\n",
       "      <td>no</td>\n",
       "      <td>8.00</td>\n",
       "      <td>5.0</td>\n",
       "      <td>32.0</td>\n",
       "      <td>4.00</td>\n",
       "      <td>2500.0</td>\n",
       "      <td>140.0</td>\n",
       "      <td>2014</td>\n",
       "      <td>857</td>\n",
       "      <td>4.176999</td>\n",
       "      <td>4.373490</td>\n",
       "    </tr>\n",
       "    <tr>\n",
       "      <th>3260</th>\n",
       "      <td>Realme</td>\n",
       "      <td>Android</td>\n",
       "      <td>16.36</td>\n",
       "      <td>yes</td>\n",
       "      <td>yes</td>\n",
       "      <td>NaN</td>\n",
       "      <td>8.0</td>\n",
       "      <td>128.0</td>\n",
       "      <td>6.00</td>\n",
       "      <td>4200.0</td>\n",
       "      <td>209.0</td>\n",
       "      <td>2020</td>\n",
       "      <td>148</td>\n",
       "      <td>4.755313</td>\n",
       "      <td>5.979493</td>\n",
       "    </tr>\n",
       "    <tr>\n",
       "      <th>1352</th>\n",
       "      <td>Huawei</td>\n",
       "      <td>Android</td>\n",
       "      <td>12.70</td>\n",
       "      <td>no</td>\n",
       "      <td>no</td>\n",
       "      <td>8.00</td>\n",
       "      <td>2.0</td>\n",
       "      <td>16.0</td>\n",
       "      <td>4.00</td>\n",
       "      <td>2000.0</td>\n",
       "      <td>160.0</td>\n",
       "      <td>2015</td>\n",
       "      <td>673</td>\n",
       "      <td>4.019262</td>\n",
       "      <td>4.863449</td>\n",
       "    </tr>\n",
       "    <tr>\n",
       "      <th>2216</th>\n",
       "      <td>Panasonic</td>\n",
       "      <td>Android</td>\n",
       "      <td>12.83</td>\n",
       "      <td>yes</td>\n",
       "      <td>no</td>\n",
       "      <td>13.00</td>\n",
       "      <td>5.0</td>\n",
       "      <td>16.0</td>\n",
       "      <td>4.00</td>\n",
       "      <td>2500.0</td>\n",
       "      <td>155.0</td>\n",
       "      <td>2016</td>\n",
       "      <td>924</td>\n",
       "      <td>4.355041</td>\n",
       "      <td>4.617099</td>\n",
       "    </tr>\n",
       "    <tr>\n",
       "      <th>2026</th>\n",
       "      <td>Motorola</td>\n",
       "      <td>Android</td>\n",
       "      <td>10.24</td>\n",
       "      <td>yes</td>\n",
       "      <td>no</td>\n",
       "      <td>10.00</td>\n",
       "      <td>2.0</td>\n",
       "      <td>16.0</td>\n",
       "      <td>4.00</td>\n",
       "      <td>2000.0</td>\n",
       "      <td>130.0</td>\n",
       "      <td>2013</td>\n",
       "      <td>1044</td>\n",
       "      <td>4.292375</td>\n",
       "      <td>5.196119</td>\n",
       "    </tr>\n",
       "    <tr>\n",
       "      <th>287</th>\n",
       "      <td>Lenovo</td>\n",
       "      <td>Android</td>\n",
       "      <td>15.47</td>\n",
       "      <td>yes</td>\n",
       "      <td>no</td>\n",
       "      <td>8.00</td>\n",
       "      <td>5.0</td>\n",
       "      <td>16.0</td>\n",
       "      <td>2.00</td>\n",
       "      <td>4000.0</td>\n",
       "      <td>172.0</td>\n",
       "      <td>2019</td>\n",
       "      <td>531</td>\n",
       "      <td>4.145196</td>\n",
       "      <td>4.602166</td>\n",
       "    </tr>\n",
       "    <tr>\n",
       "      <th>2877</th>\n",
       "      <td>Vivo</td>\n",
       "      <td>Android</td>\n",
       "      <td>12.70</td>\n",
       "      <td>no</td>\n",
       "      <td>no</td>\n",
       "      <td>13.00</td>\n",
       "      <td>0.3</td>\n",
       "      <td>16.0</td>\n",
       "      <td>4.00</td>\n",
       "      <td>2000.0</td>\n",
       "      <td>150.0</td>\n",
       "      <td>2014</td>\n",
       "      <td>585</td>\n",
       "      <td>3.949897</td>\n",
       "      <td>4.713397</td>\n",
       "    </tr>\n",
       "    <tr>\n",
       "      <th>2436</th>\n",
       "      <td>Samsung</td>\n",
       "      <td>Android</td>\n",
       "      <td>12.83</td>\n",
       "      <td>yes</td>\n",
       "      <td>no</td>\n",
       "      <td>13.00</td>\n",
       "      <td>5.0</td>\n",
       "      <td>16.0</td>\n",
       "      <td>4.00</td>\n",
       "      <td>3000.0</td>\n",
       "      <td>172.0</td>\n",
       "      <td>2016</td>\n",
       "      <td>607</td>\n",
       "      <td>4.297013</td>\n",
       "      <td>5.009635</td>\n",
       "    </tr>\n",
       "    <tr>\n",
       "      <th>1954</th>\n",
       "      <td>Microsoft</td>\n",
       "      <td>Windows</td>\n",
       "      <td>12.70</td>\n",
       "      <td>yes</td>\n",
       "      <td>no</td>\n",
       "      <td>8.00</td>\n",
       "      <td>1.0</td>\n",
       "      <td>32.0</td>\n",
       "      <td>4.00</td>\n",
       "      <td>2500.0</td>\n",
       "      <td>145.0</td>\n",
       "      <td>2015</td>\n",
       "      <td>564</td>\n",
       "      <td>4.277499</td>\n",
       "      <td>4.786741</td>\n",
       "    </tr>\n",
       "    <tr>\n",
       "      <th>500</th>\n",
       "      <td>Alcatel</td>\n",
       "      <td>Android</td>\n",
       "      <td>12.83</td>\n",
       "      <td>yes</td>\n",
       "      <td>no</td>\n",
       "      <td>5.00</td>\n",
       "      <td>2.0</td>\n",
       "      <td>32.0</td>\n",
       "      <td>4.00</td>\n",
       "      <td>2580.0</td>\n",
       "      <td>174.0</td>\n",
       "      <td>2016</td>\n",
       "      <td>622</td>\n",
       "      <td>4.138999</td>\n",
       "      <td>4.788574</td>\n",
       "    </tr>\n",
       "    <tr>\n",
       "      <th>1877</th>\n",
       "      <td>Micromax</td>\n",
       "      <td>Android</td>\n",
       "      <td>12.70</td>\n",
       "      <td>no</td>\n",
       "      <td>no</td>\n",
       "      <td>5.00</td>\n",
       "      <td>0.3</td>\n",
       "      <td>16.0</td>\n",
       "      <td>4.00</td>\n",
       "      <td>1800.0</td>\n",
       "      <td>143.0</td>\n",
       "      <td>2015</td>\n",
       "      <td>801</td>\n",
       "      <td>3.711863</td>\n",
       "      <td>4.378019</td>\n",
       "    </tr>\n",
       "    <tr>\n",
       "      <th>54</th>\n",
       "      <td>Huawei</td>\n",
       "      <td>Android</td>\n",
       "      <td>15.34</td>\n",
       "      <td>yes</td>\n",
       "      <td>no</td>\n",
       "      <td>13.00</td>\n",
       "      <td>24.0</td>\n",
       "      <td>128.0</td>\n",
       "      <td>6.00</td>\n",
       "      <td>4000.0</td>\n",
       "      <td>178.0</td>\n",
       "      <td>2019</td>\n",
       "      <td>202</td>\n",
       "      <td>5.058854</td>\n",
       "      <td>5.562948</td>\n",
       "    </tr>\n",
       "    <tr>\n",
       "      <th>1487</th>\n",
       "      <td>Lenovo</td>\n",
       "      <td>Android</td>\n",
       "      <td>17.65</td>\n",
       "      <td>yes</td>\n",
       "      <td>no</td>\n",
       "      <td>13.00</td>\n",
       "      <td>5.0</td>\n",
       "      <td>64.0</td>\n",
       "      <td>4.00</td>\n",
       "      <td>5180.0</td>\n",
       "      <td>195.0</td>\n",
       "      <td>2019</td>\n",
       "      <td>502</td>\n",
       "      <td>4.774238</td>\n",
       "      <td>5.523179</td>\n",
       "    </tr>\n",
       "    <tr>\n",
       "      <th>2050</th>\n",
       "      <td>Nokia</td>\n",
       "      <td>Android</td>\n",
       "      <td>12.70</td>\n",
       "      <td>yes</td>\n",
       "      <td>no</td>\n",
       "      <td>8.00</td>\n",
       "      <td>5.0</td>\n",
       "      <td>32.0</td>\n",
       "      <td>4.00</td>\n",
       "      <td>4100.0</td>\n",
       "      <td>161.0</td>\n",
       "      <td>2017</td>\n",
       "      <td>564</td>\n",
       "      <td>4.154969</td>\n",
       "      <td>4.690614</td>\n",
       "    </tr>\n",
       "    <tr>\n",
       "      <th>2908</th>\n",
       "      <td>Others</td>\n",
       "      <td>Android</td>\n",
       "      <td>12.70</td>\n",
       "      <td>no</td>\n",
       "      <td>no</td>\n",
       "      <td>5.00</td>\n",
       "      <td>2.0</td>\n",
       "      <td>16.0</td>\n",
       "      <td>4.00</td>\n",
       "      <td>1800.0</td>\n",
       "      <td>156.0</td>\n",
       "      <td>2015</td>\n",
       "      <td>1065</td>\n",
       "      <td>3.795489</td>\n",
       "      <td>4.776936</td>\n",
       "    </tr>\n",
       "    <tr>\n",
       "      <th>377</th>\n",
       "      <td>Others</td>\n",
       "      <td>Android</td>\n",
       "      <td>16.59</td>\n",
       "      <td>yes</td>\n",
       "      <td>no</td>\n",
       "      <td>2.00</td>\n",
       "      <td>16.0</td>\n",
       "      <td>64.0</td>\n",
       "      <td>4.00</td>\n",
       "      <td>4000.0</td>\n",
       "      <td>193.0</td>\n",
       "      <td>2020</td>\n",
       "      <td>168</td>\n",
       "      <td>4.314015</td>\n",
       "      <td>5.435990</td>\n",
       "    </tr>\n",
       "    <tr>\n",
       "      <th>3309</th>\n",
       "      <td>Xiaomi</td>\n",
       "      <td>Android</td>\n",
       "      <td>16.94</td>\n",
       "      <td>yes</td>\n",
       "      <td>yes</td>\n",
       "      <td>12.00</td>\n",
       "      <td>20.0</td>\n",
       "      <td>64.0</td>\n",
       "      <td>6.00</td>\n",
       "      <td>4500.0</td>\n",
       "      <td>208.0</td>\n",
       "      <td>2019</td>\n",
       "      <td>221</td>\n",
       "      <td>4.903570</td>\n",
       "      <td>5.507321</td>\n",
       "    </tr>\n",
       "    <tr>\n",
       "      <th>3334</th>\n",
       "      <td>Honor</td>\n",
       "      <td>Android</td>\n",
       "      <td>16.69</td>\n",
       "      <td>yes</td>\n",
       "      <td>yes</td>\n",
       "      <td>13.00</td>\n",
       "      <td>8.0</td>\n",
       "      <td>256.0</td>\n",
       "      <td>8.00</td>\n",
       "      <td>4000.0</td>\n",
       "      <td>190.0</td>\n",
       "      <td>2020</td>\n",
       "      <td>266</td>\n",
       "      <td>5.557214</td>\n",
       "      <td>6.452191</td>\n",
       "    </tr>\n",
       "    <tr>\n",
       "      <th>1217</th>\n",
       "      <td>HTC</td>\n",
       "      <td>Android</td>\n",
       "      <td>12.70</td>\n",
       "      <td>yes</td>\n",
       "      <td>no</td>\n",
       "      <td>13.00</td>\n",
       "      <td>5.0</td>\n",
       "      <td>16.0</td>\n",
       "      <td>4.00</td>\n",
       "      <td>2600.0</td>\n",
       "      <td>164.0</td>\n",
       "      <td>2014</td>\n",
       "      <td>1057</td>\n",
       "      <td>4.766609</td>\n",
       "      <td>5.860473</td>\n",
       "    </tr>\n",
       "    <tr>\n",
       "      <th>2035</th>\n",
       "      <td>Nokia</td>\n",
       "      <td>Others</td>\n",
       "      <td>5.18</td>\n",
       "      <td>no</td>\n",
       "      <td>no</td>\n",
       "      <td>5.00</td>\n",
       "      <td>0.0</td>\n",
       "      <td>NaN</td>\n",
       "      <td>0.03</td>\n",
       "      <td>1020.0</td>\n",
       "      <td>157.0</td>\n",
       "      <td>2019</td>\n",
       "      <td>501</td>\n",
       "      <td>2.343727</td>\n",
       "      <td>3.420346</td>\n",
       "    </tr>\n",
       "    <tr>\n",
       "      <th>1592</th>\n",
       "      <td>Lenovo</td>\n",
       "      <td>Android</td>\n",
       "      <td>12.78</td>\n",
       "      <td>no</td>\n",
       "      <td>no</td>\n",
       "      <td>13.00</td>\n",
       "      <td>5.0</td>\n",
       "      <td>32.0</td>\n",
       "      <td>4.00</td>\n",
       "      <td>2000.0</td>\n",
       "      <td>146.0</td>\n",
       "      <td>2014</td>\n",
       "      <td>610</td>\n",
       "      <td>4.122770</td>\n",
       "      <td>4.998967</td>\n",
       "    </tr>\n",
       "  </tbody>\n",
       "</table>\n",
       "</div>"
      ],
      "text/plain": [
       "     brand_name       os  screen_size   4g   5g  main_camera_mp  \\\n",
       "2325     Others  Android        10.08   no   no            3.15   \n",
       "91           LG  Android        15.90  yes   no            8.00   \n",
       "1078     Gionee  Android        10.29   no   no            5.00   \n",
       "1277     Huawei  Android        25.43  yes   no            8.00   \n",
       "508     Alcatel  Android        20.32   no   no            2.00   \n",
       "3442    Samsung  Android        15.29  yes   no           12.00   \n",
       "33       Huawei  Android        25.50  yes   no            8.00   \n",
       "2822       Vivo  Android        15.32  yes   no           13.00   \n",
       "813        Asus  Android        12.75  yes   no           13.00   \n",
       "2800     Others  Android        10.16   no   no            8.00   \n",
       "2706       Sony  Android        15.24  yes   no           13.00   \n",
       "798        Asus  Android        10.16   no   no            8.00   \n",
       "654       Apple      iOS        25.53  yes   no           12.00   \n",
       "1661         LG  Android        12.70  yes   no            8.00   \n",
       "2595    Samsung  Android        10.29   no   no            5.00   \n",
       "289      Lenovo  Android        20.32  yes   no            5.00   \n",
       "3424    Samsung  Android        15.29  yes  yes            8.00   \n",
       "1881   Micromax  Android        20.32   no   no            5.00   \n",
       "2813       Vivo  Android        16.23  yes   no           13.00   \n",
       "1434    Karbonn  Android        10.24   no   no            8.00   \n",
       "969      Celkon  Android        11.76   no   no            5.00   \n",
       "2313     Others  Android        12.70   no   no            5.00   \n",
       "1378     Huawei  Android        25.43  yes   no            3.15   \n",
       "2078      Nokia  Windows        10.29   no   no            5.00   \n",
       "1849   Micromax  Android        12.70  yes   no           13.00   \n",
       "99        Meizu  Android        15.37  yes   no             NaN   \n",
       "3181        ZTE  Android        12.70   no   no            8.00   \n",
       "1971   Motorola  Android        12.75  yes   no            8.00   \n",
       "601      Others  Android        10.34   no   no           16.00   \n",
       "771        Asus  Android        12.70  yes   no            8.00   \n",
       "3260     Realme  Android        16.36  yes  yes             NaN   \n",
       "1352     Huawei  Android        12.70   no   no            8.00   \n",
       "2216  Panasonic  Android        12.83  yes   no           13.00   \n",
       "2026   Motorola  Android        10.24  yes   no           10.00   \n",
       "287      Lenovo  Android        15.47  yes   no            8.00   \n",
       "2877       Vivo  Android        12.70   no   no           13.00   \n",
       "2436    Samsung  Android        12.83  yes   no           13.00   \n",
       "1954  Microsoft  Windows        12.70  yes   no            8.00   \n",
       "500     Alcatel  Android        12.83  yes   no            5.00   \n",
       "1877   Micromax  Android        12.70   no   no            5.00   \n",
       "54       Huawei  Android        15.34  yes   no           13.00   \n",
       "1487     Lenovo  Android        17.65  yes   no           13.00   \n",
       "2050      Nokia  Android        12.70  yes   no            8.00   \n",
       "2908     Others  Android        12.70   no   no            5.00   \n",
       "377      Others  Android        16.59  yes   no            2.00   \n",
       "3309     Xiaomi  Android        16.94  yes  yes           12.00   \n",
       "3334      Honor  Android        16.69  yes  yes           13.00   \n",
       "1217        HTC  Android        12.70  yes   no           13.00   \n",
       "2035      Nokia   Others         5.18   no   no            5.00   \n",
       "1592     Lenovo  Android        12.78   no   no           13.00   \n",
       "\n",
       "      selfie_camera_mp  int_memory    ram  battery  weight  release_year  \\\n",
       "2325               0.3       512.0   0.25   2100.0   150.0          2014   \n",
       "91                16.0        32.0   3.00   4000.0   175.0          2019   \n",
       "1078               0.3        16.0   4.00   1800.0   142.9          2013   \n",
       "1277               8.0        64.0   4.00   7500.0   475.0          2018   \n",
       "508                0.3        16.0   4.00   3240.0   335.0          2015   \n",
       "3442               8.0        32.0   2.00   4000.0   168.0          2019   \n",
       "33                 8.0        64.0   4.00   7250.0   450.0          2020   \n",
       "2822              12.0        64.0   4.00   3315.0   164.0          2018   \n",
       "813                8.0        32.0   4.00   5000.0   168.0          2017   \n",
       "2800               1.3        16.0   4.00   2500.0   128.0          2015   \n",
       "2706              13.0        16.0   4.00   2930.0   187.0          2015   \n",
       "798                2.0        32.0   4.00   1170.0   116.0          2014   \n",
       "654                7.0        64.0   4.00   8134.0   469.0          2017   \n",
       "1661               5.0        16.0   4.00   2500.0   143.0          2017   \n",
       "2595               0.3        32.0   4.00   2100.0   139.0          2013   \n",
       "289                2.0        16.0   2.00   5000.0   305.0          2019   \n",
       "3424              13.0       128.0  12.00   4000.0   163.0          2020   \n",
       "1881               2.0        32.0   4.00   4400.0   310.5          2015   \n",
       "2813              12.0       128.0   4.00   3500.0   199.0          2018   \n",
       "1434               2.0        16.0   4.00   1625.0   126.5          2013   \n",
       "969                0.3       256.0   0.25   1400.0   140.0          2013   \n",
       "2313               0.3        32.0   4.00   2500.0   154.0          2015   \n",
       "1378               0.3        32.0   4.00   6600.0   620.0          2014   \n",
       "2078               1.6        32.0   4.00   1830.0   134.0          2014   \n",
       "1849               5.0        16.0   4.00   2500.0   159.0          2016   \n",
       "99                 8.0        32.0   2.00   4000.0   184.0          2019   \n",
       "3181               1.3        16.0   4.00   2500.0   163.0          2013   \n",
       "1971               5.0        16.0   4.00   2800.0   150.0          2018   \n",
       "601                4.0        16.0   4.00   2200.0   139.2          2014   \n",
       "771                5.0        32.0   4.00   2500.0   140.0          2014   \n",
       "3260               8.0       128.0   6.00   4200.0   209.0          2020   \n",
       "1352               2.0        16.0   4.00   2000.0   160.0          2015   \n",
       "2216               5.0        16.0   4.00   2500.0   155.0          2016   \n",
       "2026               2.0        16.0   4.00   2000.0   130.0          2013   \n",
       "287                5.0        16.0   2.00   4000.0   172.0          2019   \n",
       "2877               0.3        16.0   4.00   2000.0   150.0          2014   \n",
       "2436               5.0        16.0   4.00   3000.0   172.0          2016   \n",
       "1954               1.0        32.0   4.00   2500.0   145.0          2015   \n",
       "500                2.0        32.0   4.00   2580.0   174.0          2016   \n",
       "1877               0.3        16.0   4.00   1800.0   143.0          2015   \n",
       "54                24.0       128.0   6.00   4000.0   178.0          2019   \n",
       "1487               5.0        64.0   4.00   5180.0   195.0          2019   \n",
       "2050               5.0        32.0   4.00   4100.0   161.0          2017   \n",
       "2908               2.0        16.0   4.00   1800.0   156.0          2015   \n",
       "377               16.0        64.0   4.00   4000.0   193.0          2020   \n",
       "3309              20.0        64.0   6.00   4500.0   208.0          2019   \n",
       "3334               8.0       256.0   8.00   4000.0   190.0          2020   \n",
       "1217               5.0        16.0   4.00   2600.0   164.0          2014   \n",
       "2035               0.0         NaN   0.03   1020.0   157.0          2019   \n",
       "1592               5.0        32.0   4.00   2000.0   146.0          2014   \n",
       "\n",
       "      days_used  normalized_used_price  normalized_new_price  \n",
       "2325        818               3.100543              4.115617  \n",
       "91          200               4.582311              4.864607  \n",
       "1078        688               3.535145              4.698114  \n",
       "1277        708               5.232979              5.703882  \n",
       "508         686               4.385894              4.602667  \n",
       "3442        497               4.243626              4.624875  \n",
       "33          211               5.133089              5.518777  \n",
       "2822        477               4.794467              5.521661  \n",
       "813         593               4.961095              5.797971  \n",
       "2800        782               3.903386              4.373868  \n",
       "2706        848               4.428433              5.293857  \n",
       "798         824               4.284552              5.349581  \n",
       "654         629               5.290789              6.594071  \n",
       "1661        642               4.077876              4.598146  \n",
       "2595        870               4.150882              5.137268  \n",
       "289         349               4.390367              4.947198  \n",
       "3424        124               5.486165              6.522078  \n",
       "1881        604               4.580775              5.006226  \n",
       "2813        603               4.830232              6.552194  \n",
       "1434        840               3.697591              5.072921  \n",
       "969         857               4.335721              4.787825  \n",
       "2313        667               3.891820              4.388009  \n",
       "1378        620               4.898437              5.855358  \n",
       "2078        825               4.209903              4.949114  \n",
       "1849        617               4.296060              4.606669  \n",
       "99          190               4.290185              5.195177  \n",
       "3181        829               4.008242              5.296816  \n",
       "1971        598               4.161068              4.400358  \n",
       "601         786               4.326250              5.703449  \n",
       "771         857               4.176999              4.373490  \n",
       "3260        148               4.755313              5.979493  \n",
       "1352        673               4.019262              4.863449  \n",
       "2216        924               4.355041              4.617099  \n",
       "2026       1044               4.292375              5.196119  \n",
       "287         531               4.145196              4.602166  \n",
       "2877        585               3.949897              4.713397  \n",
       "2436        607               4.297013              5.009635  \n",
       "1954        564               4.277499              4.786741  \n",
       "500         622               4.138999              4.788574  \n",
       "1877        801               3.711863              4.378019  \n",
       "54          202               5.058854              5.562948  \n",
       "1487        502               4.774238              5.523179  \n",
       "2050        564               4.154969              4.690614  \n",
       "2908       1065               3.795489              4.776936  \n",
       "377         168               4.314015              5.435990  \n",
       "3309        221               4.903570              5.507321  \n",
       "3334        266               5.557214              6.452191  \n",
       "1217       1057               4.766609              5.860473  \n",
       "2035        501               2.343727              3.420346  \n",
       "1592        610               4.122770              4.998967  "
      ]
     },
     "execution_count": 4,
     "metadata": {},
     "output_type": "execute_result"
    },
    {
     "data": {
      "application/javascript": [
       "\n",
       "            setTimeout(function() {\n",
       "                var nbb_cell_id = 4;\n",
       "                var nbb_unformatted_code = \"df.sample(50)\";\n",
       "                var nbb_formatted_code = \"df.sample(50)\";\n",
       "                var nbb_cells = Jupyter.notebook.get_cells();\n",
       "                for (var i = 0; i < nbb_cells.length; ++i) {\n",
       "                    if (nbb_cells[i].input_prompt_number == nbb_cell_id) {\n",
       "                        if (nbb_cells[i].get_text() == nbb_unformatted_code) {\n",
       "                             nbb_cells[i].set_text(nbb_formatted_code);\n",
       "                        }\n",
       "                        break;\n",
       "                    }\n",
       "                }\n",
       "            }, 500);\n",
       "            "
      ],
      "text/plain": [
       "<IPython.core.display.Javascript object>"
      ]
     },
     "metadata": {},
     "output_type": "display_data"
    }
   ],
   "source": [
    "df.sample(50)"
   ]
  },
  {
   "cell_type": "markdown",
   "metadata": {},
   "source": [
    "### Checking the shape of the dataset"
   ]
  },
  {
   "cell_type": "code",
   "execution_count": 5,
   "metadata": {},
   "outputs": [
    {
     "data": {
      "text/plain": [
       "(3454, 15)"
      ]
     },
     "execution_count": 5,
     "metadata": {},
     "output_type": "execute_result"
    },
    {
     "data": {
      "application/javascript": [
       "\n",
       "            setTimeout(function() {\n",
       "                var nbb_cell_id = 5;\n",
       "                var nbb_unformatted_code = \"df.shape\";\n",
       "                var nbb_formatted_code = \"df.shape\";\n",
       "                var nbb_cells = Jupyter.notebook.get_cells();\n",
       "                for (var i = 0; i < nbb_cells.length; ++i) {\n",
       "                    if (nbb_cells[i].input_prompt_number == nbb_cell_id) {\n",
       "                        if (nbb_cells[i].get_text() == nbb_unformatted_code) {\n",
       "                             nbb_cells[i].set_text(nbb_formatted_code);\n",
       "                        }\n",
       "                        break;\n",
       "                    }\n",
       "                }\n",
       "            }, 500);\n",
       "            "
      ],
      "text/plain": [
       "<IPython.core.display.Javascript object>"
      ]
     },
     "metadata": {},
     "output_type": "display_data"
    }
   ],
   "source": [
    "df.shape"
   ]
  },
  {
   "cell_type": "markdown",
   "metadata": {},
   "source": [
    "- The dataset has 3454 rows and 15 columns"
   ]
  },
  {
   "cell_type": "markdown",
   "metadata": {},
   "source": [
    "### Checking the data types of the columns for the dataset"
   ]
  },
  {
   "cell_type": "code",
   "execution_count": 6,
   "metadata": {},
   "outputs": [
    {
     "name": "stdout",
     "output_type": "stream",
     "text": [
      "<class 'pandas.core.frame.DataFrame'>\n",
      "RangeIndex: 3454 entries, 0 to 3453\n",
      "Data columns (total 15 columns):\n",
      " #   Column                 Non-Null Count  Dtype  \n",
      "---  ------                 --------------  -----  \n",
      " 0   brand_name             3454 non-null   object \n",
      " 1   os                     3454 non-null   object \n",
      " 2   screen_size            3454 non-null   float64\n",
      " 3   4g                     3454 non-null   object \n",
      " 4   5g                     3454 non-null   object \n",
      " 5   main_camera_mp         3275 non-null   float64\n",
      " 6   selfie_camera_mp       3452 non-null   float64\n",
      " 7   int_memory             3450 non-null   float64\n",
      " 8   ram                    3450 non-null   float64\n",
      " 9   battery                3448 non-null   float64\n",
      " 10  weight                 3447 non-null   float64\n",
      " 11  release_year           3454 non-null   int64  \n",
      " 12  days_used              3454 non-null   int64  \n",
      " 13  normalized_used_price  3454 non-null   float64\n",
      " 14  normalized_new_price   3454 non-null   float64\n",
      "dtypes: float64(9), int64(2), object(4)\n",
      "memory usage: 404.9+ KB\n"
     ]
    },
    {
     "data": {
      "application/javascript": [
       "\n",
       "            setTimeout(function() {\n",
       "                var nbb_cell_id = 6;\n",
       "                var nbb_unformatted_code = \"df.info()\";\n",
       "                var nbb_formatted_code = \"df.info()\";\n",
       "                var nbb_cells = Jupyter.notebook.get_cells();\n",
       "                for (var i = 0; i < nbb_cells.length; ++i) {\n",
       "                    if (nbb_cells[i].input_prompt_number == nbb_cell_id) {\n",
       "                        if (nbb_cells[i].get_text() == nbb_unformatted_code) {\n",
       "                             nbb_cells[i].set_text(nbb_formatted_code);\n",
       "                        }\n",
       "                        break;\n",
       "                    }\n",
       "                }\n",
       "            }, 500);\n",
       "            "
      ],
      "text/plain": [
       "<IPython.core.display.Javascript object>"
      ]
     },
     "metadata": {},
     "output_type": "display_data"
    }
   ],
   "source": [
    "df.info()"
   ]
  },
  {
   "cell_type": "markdown",
   "metadata": {},
   "source": [
    "- brand_name, os, 4g and 5g are categorical while all others are numerical (float and integer) data types\n",
    "- main_camera_mp, selfie_camera_mp, int_memory, ram, battery and weight have missing values, these will be fixed soon"
   ]
  },
  {
   "cell_type": "markdown",
   "metadata": {},
   "source": [
    "### Statistical summary of the dataset"
   ]
  },
  {
   "cell_type": "code",
   "execution_count": 7,
   "metadata": {
    "scrolled": true
   },
   "outputs": [
    {
     "data": {
      "text/html": [
       "<div>\n",
       "<style scoped>\n",
       "    .dataframe tbody tr th:only-of-type {\n",
       "        vertical-align: middle;\n",
       "    }\n",
       "\n",
       "    .dataframe tbody tr th {\n",
       "        vertical-align: top;\n",
       "    }\n",
       "\n",
       "    .dataframe thead th {\n",
       "        text-align: right;\n",
       "    }\n",
       "</style>\n",
       "<table border=\"1\" class=\"dataframe\">\n",
       "  <thead>\n",
       "    <tr style=\"text-align: right;\">\n",
       "      <th></th>\n",
       "      <th>count</th>\n",
       "      <th>unique</th>\n",
       "      <th>top</th>\n",
       "      <th>freq</th>\n",
       "      <th>mean</th>\n",
       "      <th>std</th>\n",
       "      <th>min</th>\n",
       "      <th>25%</th>\n",
       "      <th>50%</th>\n",
       "      <th>75%</th>\n",
       "      <th>max</th>\n",
       "    </tr>\n",
       "  </thead>\n",
       "  <tbody>\n",
       "    <tr>\n",
       "      <th>brand_name</th>\n",
       "      <td>3454</td>\n",
       "      <td>34</td>\n",
       "      <td>Others</td>\n",
       "      <td>502</td>\n",
       "      <td>NaN</td>\n",
       "      <td>NaN</td>\n",
       "      <td>NaN</td>\n",
       "      <td>NaN</td>\n",
       "      <td>NaN</td>\n",
       "      <td>NaN</td>\n",
       "      <td>NaN</td>\n",
       "    </tr>\n",
       "    <tr>\n",
       "      <th>os</th>\n",
       "      <td>3454</td>\n",
       "      <td>4</td>\n",
       "      <td>Android</td>\n",
       "      <td>3214</td>\n",
       "      <td>NaN</td>\n",
       "      <td>NaN</td>\n",
       "      <td>NaN</td>\n",
       "      <td>NaN</td>\n",
       "      <td>NaN</td>\n",
       "      <td>NaN</td>\n",
       "      <td>NaN</td>\n",
       "    </tr>\n",
       "    <tr>\n",
       "      <th>screen_size</th>\n",
       "      <td>3454.0</td>\n",
       "      <td>NaN</td>\n",
       "      <td>NaN</td>\n",
       "      <td>NaN</td>\n",
       "      <td>13.713115</td>\n",
       "      <td>3.80528</td>\n",
       "      <td>5.08</td>\n",
       "      <td>12.7</td>\n",
       "      <td>12.83</td>\n",
       "      <td>15.34</td>\n",
       "      <td>30.71</td>\n",
       "    </tr>\n",
       "    <tr>\n",
       "      <th>4g</th>\n",
       "      <td>3454</td>\n",
       "      <td>2</td>\n",
       "      <td>yes</td>\n",
       "      <td>2335</td>\n",
       "      <td>NaN</td>\n",
       "      <td>NaN</td>\n",
       "      <td>NaN</td>\n",
       "      <td>NaN</td>\n",
       "      <td>NaN</td>\n",
       "      <td>NaN</td>\n",
       "      <td>NaN</td>\n",
       "    </tr>\n",
       "    <tr>\n",
       "      <th>5g</th>\n",
       "      <td>3454</td>\n",
       "      <td>2</td>\n",
       "      <td>no</td>\n",
       "      <td>3302</td>\n",
       "      <td>NaN</td>\n",
       "      <td>NaN</td>\n",
       "      <td>NaN</td>\n",
       "      <td>NaN</td>\n",
       "      <td>NaN</td>\n",
       "      <td>NaN</td>\n",
       "      <td>NaN</td>\n",
       "    </tr>\n",
       "    <tr>\n",
       "      <th>main_camera_mp</th>\n",
       "      <td>3275.0</td>\n",
       "      <td>NaN</td>\n",
       "      <td>NaN</td>\n",
       "      <td>NaN</td>\n",
       "      <td>9.460208</td>\n",
       "      <td>4.815461</td>\n",
       "      <td>0.08</td>\n",
       "      <td>5.0</td>\n",
       "      <td>8.0</td>\n",
       "      <td>13.0</td>\n",
       "      <td>48.0</td>\n",
       "    </tr>\n",
       "    <tr>\n",
       "      <th>selfie_camera_mp</th>\n",
       "      <td>3452.0</td>\n",
       "      <td>NaN</td>\n",
       "      <td>NaN</td>\n",
       "      <td>NaN</td>\n",
       "      <td>6.554229</td>\n",
       "      <td>6.970372</td>\n",
       "      <td>0.0</td>\n",
       "      <td>2.0</td>\n",
       "      <td>5.0</td>\n",
       "      <td>8.0</td>\n",
       "      <td>32.0</td>\n",
       "    </tr>\n",
       "    <tr>\n",
       "      <th>int_memory</th>\n",
       "      <td>3450.0</td>\n",
       "      <td>NaN</td>\n",
       "      <td>NaN</td>\n",
       "      <td>NaN</td>\n",
       "      <td>54.573099</td>\n",
       "      <td>84.972371</td>\n",
       "      <td>0.01</td>\n",
       "      <td>16.0</td>\n",
       "      <td>32.0</td>\n",
       "      <td>64.0</td>\n",
       "      <td>1024.0</td>\n",
       "    </tr>\n",
       "    <tr>\n",
       "      <th>ram</th>\n",
       "      <td>3450.0</td>\n",
       "      <td>NaN</td>\n",
       "      <td>NaN</td>\n",
       "      <td>NaN</td>\n",
       "      <td>4.036122</td>\n",
       "      <td>1.365105</td>\n",
       "      <td>0.02</td>\n",
       "      <td>4.0</td>\n",
       "      <td>4.0</td>\n",
       "      <td>4.0</td>\n",
       "      <td>12.0</td>\n",
       "    </tr>\n",
       "    <tr>\n",
       "      <th>battery</th>\n",
       "      <td>3448.0</td>\n",
       "      <td>NaN</td>\n",
       "      <td>NaN</td>\n",
       "      <td>NaN</td>\n",
       "      <td>3133.402697</td>\n",
       "      <td>1299.682844</td>\n",
       "      <td>500.0</td>\n",
       "      <td>2100.0</td>\n",
       "      <td>3000.0</td>\n",
       "      <td>4000.0</td>\n",
       "      <td>9720.0</td>\n",
       "    </tr>\n",
       "    <tr>\n",
       "      <th>weight</th>\n",
       "      <td>3447.0</td>\n",
       "      <td>NaN</td>\n",
       "      <td>NaN</td>\n",
       "      <td>NaN</td>\n",
       "      <td>182.751871</td>\n",
       "      <td>88.413228</td>\n",
       "      <td>69.0</td>\n",
       "      <td>142.0</td>\n",
       "      <td>160.0</td>\n",
       "      <td>185.0</td>\n",
       "      <td>855.0</td>\n",
       "    </tr>\n",
       "    <tr>\n",
       "      <th>release_year</th>\n",
       "      <td>3454.0</td>\n",
       "      <td>NaN</td>\n",
       "      <td>NaN</td>\n",
       "      <td>NaN</td>\n",
       "      <td>2015.965258</td>\n",
       "      <td>2.298455</td>\n",
       "      <td>2013.0</td>\n",
       "      <td>2014.0</td>\n",
       "      <td>2015.5</td>\n",
       "      <td>2018.0</td>\n",
       "      <td>2020.0</td>\n",
       "    </tr>\n",
       "    <tr>\n",
       "      <th>days_used</th>\n",
       "      <td>3454.0</td>\n",
       "      <td>NaN</td>\n",
       "      <td>NaN</td>\n",
       "      <td>NaN</td>\n",
       "      <td>674.869716</td>\n",
       "      <td>248.580166</td>\n",
       "      <td>91.0</td>\n",
       "      <td>533.5</td>\n",
       "      <td>690.5</td>\n",
       "      <td>868.75</td>\n",
       "      <td>1094.0</td>\n",
       "    </tr>\n",
       "    <tr>\n",
       "      <th>normalized_used_price</th>\n",
       "      <td>3454.0</td>\n",
       "      <td>NaN</td>\n",
       "      <td>NaN</td>\n",
       "      <td>NaN</td>\n",
       "      <td>4.364712</td>\n",
       "      <td>0.588914</td>\n",
       "      <td>1.536867</td>\n",
       "      <td>4.033931</td>\n",
       "      <td>4.405133</td>\n",
       "      <td>4.7557</td>\n",
       "      <td>6.619433</td>\n",
       "    </tr>\n",
       "    <tr>\n",
       "      <th>normalized_new_price</th>\n",
       "      <td>3454.0</td>\n",
       "      <td>NaN</td>\n",
       "      <td>NaN</td>\n",
       "      <td>NaN</td>\n",
       "      <td>5.233107</td>\n",
       "      <td>0.683637</td>\n",
       "      <td>2.901422</td>\n",
       "      <td>4.790342</td>\n",
       "      <td>5.245892</td>\n",
       "      <td>5.673718</td>\n",
       "      <td>7.847841</td>\n",
       "    </tr>\n",
       "  </tbody>\n",
       "</table>\n",
       "</div>"
      ],
      "text/plain": [
       "                        count unique      top  freq         mean          std  \\\n",
       "brand_name               3454     34   Others   502          NaN          NaN   \n",
       "os                       3454      4  Android  3214          NaN          NaN   \n",
       "screen_size            3454.0    NaN      NaN   NaN    13.713115      3.80528   \n",
       "4g                       3454      2      yes  2335          NaN          NaN   \n",
       "5g                       3454      2       no  3302          NaN          NaN   \n",
       "main_camera_mp         3275.0    NaN      NaN   NaN     9.460208     4.815461   \n",
       "selfie_camera_mp       3452.0    NaN      NaN   NaN     6.554229     6.970372   \n",
       "int_memory             3450.0    NaN      NaN   NaN    54.573099    84.972371   \n",
       "ram                    3450.0    NaN      NaN   NaN     4.036122     1.365105   \n",
       "battery                3448.0    NaN      NaN   NaN  3133.402697  1299.682844   \n",
       "weight                 3447.0    NaN      NaN   NaN   182.751871    88.413228   \n",
       "release_year           3454.0    NaN      NaN   NaN  2015.965258     2.298455   \n",
       "days_used              3454.0    NaN      NaN   NaN   674.869716   248.580166   \n",
       "normalized_used_price  3454.0    NaN      NaN   NaN     4.364712     0.588914   \n",
       "normalized_new_price   3454.0    NaN      NaN   NaN     5.233107     0.683637   \n",
       "\n",
       "                            min       25%       50%       75%       max  \n",
       "brand_name                  NaN       NaN       NaN       NaN       NaN  \n",
       "os                          NaN       NaN       NaN       NaN       NaN  \n",
       "screen_size                5.08      12.7     12.83     15.34     30.71  \n",
       "4g                          NaN       NaN       NaN       NaN       NaN  \n",
       "5g                          NaN       NaN       NaN       NaN       NaN  \n",
       "main_camera_mp             0.08       5.0       8.0      13.0      48.0  \n",
       "selfie_camera_mp            0.0       2.0       5.0       8.0      32.0  \n",
       "int_memory                 0.01      16.0      32.0      64.0    1024.0  \n",
       "ram                        0.02       4.0       4.0       4.0      12.0  \n",
       "battery                   500.0    2100.0    3000.0    4000.0    9720.0  \n",
       "weight                     69.0     142.0     160.0     185.0     855.0  \n",
       "release_year             2013.0    2014.0    2015.5    2018.0    2020.0  \n",
       "days_used                  91.0     533.5     690.5    868.75    1094.0  \n",
       "normalized_used_price  1.536867  4.033931  4.405133    4.7557  6.619433  \n",
       "normalized_new_price   2.901422  4.790342  5.245892  5.673718  7.847841  "
      ]
     },
     "execution_count": 7,
     "metadata": {},
     "output_type": "execute_result"
    },
    {
     "data": {
      "application/javascript": [
       "\n",
       "            setTimeout(function() {\n",
       "                var nbb_cell_id = 7;\n",
       "                var nbb_unformatted_code = \"df.describe(include=\\\"all\\\").T\";\n",
       "                var nbb_formatted_code = \"df.describe(include=\\\"all\\\").T\";\n",
       "                var nbb_cells = Jupyter.notebook.get_cells();\n",
       "                for (var i = 0; i < nbb_cells.length; ++i) {\n",
       "                    if (nbb_cells[i].input_prompt_number == nbb_cell_id) {\n",
       "                        if (nbb_cells[i].get_text() == nbb_unformatted_code) {\n",
       "                             nbb_cells[i].set_text(nbb_formatted_code);\n",
       "                        }\n",
       "                        break;\n",
       "                    }\n",
       "                }\n",
       "            }, 500);\n",
       "            "
      ],
      "text/plain": [
       "<IPython.core.display.Javascript object>"
      ]
     },
     "metadata": {},
     "output_type": "display_data"
    }
   ],
   "source": [
    "df.describe(include=\"all\").T"
   ]
  },
  {
   "cell_type": "markdown",
   "metadata": {},
   "source": [
    "- There are 34 cell phone brands and 4 operating systems (os) in the dataset.\n",
    "- Anroid is the most common operating system, with 3214 phones, followed by 3302 phones having 5g and the 2335 phones having 4g.\n",
    "- Most numerical data categories, such as screen size, main camera mp, selfie camera mp, int memory, battery, weight, have average values that are greater than median values, indicating that data may be skewed to the right.\n",
    "- The screen size varies from 5.08 to 30.71 inches."
   ]
  },
  {
   "cell_type": "code",
   "execution_count": 8,
   "metadata": {},
   "outputs": [
    {
     "data": {
      "text/html": [
       "<div>\n",
       "<style scoped>\n",
       "    .dataframe tbody tr th:only-of-type {\n",
       "        vertical-align: middle;\n",
       "    }\n",
       "\n",
       "    .dataframe tbody tr th {\n",
       "        vertical-align: top;\n",
       "    }\n",
       "\n",
       "    .dataframe thead th {\n",
       "        text-align: right;\n",
       "    }\n",
       "</style>\n",
       "<table border=\"1\" class=\"dataframe\">\n",
       "  <thead>\n",
       "    <tr style=\"text-align: right;\">\n",
       "      <th></th>\n",
       "      <th>count</th>\n",
       "      <th>unique</th>\n",
       "      <th>top</th>\n",
       "      <th>freq</th>\n",
       "    </tr>\n",
       "  </thead>\n",
       "  <tbody>\n",
       "    <tr>\n",
       "      <th>brand_name</th>\n",
       "      <td>3454</td>\n",
       "      <td>34</td>\n",
       "      <td>Others</td>\n",
       "      <td>502</td>\n",
       "    </tr>\n",
       "    <tr>\n",
       "      <th>os</th>\n",
       "      <td>3454</td>\n",
       "      <td>4</td>\n",
       "      <td>Android</td>\n",
       "      <td>3214</td>\n",
       "    </tr>\n",
       "    <tr>\n",
       "      <th>4g</th>\n",
       "      <td>3454</td>\n",
       "      <td>2</td>\n",
       "      <td>yes</td>\n",
       "      <td>2335</td>\n",
       "    </tr>\n",
       "    <tr>\n",
       "      <th>5g</th>\n",
       "      <td>3454</td>\n",
       "      <td>2</td>\n",
       "      <td>no</td>\n",
       "      <td>3302</td>\n",
       "    </tr>\n",
       "  </tbody>\n",
       "</table>\n",
       "</div>"
      ],
      "text/plain": [
       "           count unique      top  freq\n",
       "brand_name  3454     34   Others   502\n",
       "os          3454      4  Android  3214\n",
       "4g          3454      2      yes  2335\n",
       "5g          3454      2       no  3302"
      ]
     },
     "execution_count": 8,
     "metadata": {},
     "output_type": "execute_result"
    },
    {
     "data": {
      "application/javascript": [
       "\n",
       "            setTimeout(function() {\n",
       "                var nbb_cell_id = 8;\n",
       "                var nbb_unformatted_code = \"df.describe(include =\\\"object\\\").T\";\n",
       "                var nbb_formatted_code = \"df.describe(include=\\\"object\\\").T\";\n",
       "                var nbb_cells = Jupyter.notebook.get_cells();\n",
       "                for (var i = 0; i < nbb_cells.length; ++i) {\n",
       "                    if (nbb_cells[i].input_prompt_number == nbb_cell_id) {\n",
       "                        if (nbb_cells[i].get_text() == nbb_unformatted_code) {\n",
       "                             nbb_cells[i].set_text(nbb_formatted_code);\n",
       "                        }\n",
       "                        break;\n",
       "                    }\n",
       "                }\n",
       "            }, 500);\n",
       "            "
      ],
      "text/plain": [
       "<IPython.core.display.Javascript object>"
      ]
     },
     "metadata": {},
     "output_type": "display_data"
    }
   ],
   "source": [
    "df.describe(include=\"object\").T"
   ]
  },
  {
   "cell_type": "markdown",
   "metadata": {},
   "source": [
    "### Checking for duplicate values"
   ]
  },
  {
   "cell_type": "code",
   "execution_count": 9,
   "metadata": {},
   "outputs": [
    {
     "data": {
      "text/plain": [
       "0"
      ]
     },
     "execution_count": 9,
     "metadata": {},
     "output_type": "execute_result"
    },
    {
     "data": {
      "application/javascript": [
       "\n",
       "            setTimeout(function() {\n",
       "                var nbb_cell_id = 9;\n",
       "                var nbb_unformatted_code = \"df.duplicated().sum()\";\n",
       "                var nbb_formatted_code = \"df.duplicated().sum()\";\n",
       "                var nbb_cells = Jupyter.notebook.get_cells();\n",
       "                for (var i = 0; i < nbb_cells.length; ++i) {\n",
       "                    if (nbb_cells[i].input_prompt_number == nbb_cell_id) {\n",
       "                        if (nbb_cells[i].get_text() == nbb_unformatted_code) {\n",
       "                             nbb_cells[i].set_text(nbb_formatted_code);\n",
       "                        }\n",
       "                        break;\n",
       "                    }\n",
       "                }\n",
       "            }, 500);\n",
       "            "
      ],
      "text/plain": [
       "<IPython.core.display.Javascript object>"
      ]
     },
     "metadata": {},
     "output_type": "display_data"
    }
   ],
   "source": [
    "df.duplicated().sum()"
   ]
  },
  {
   "cell_type": "markdown",
   "metadata": {},
   "source": [
    "- There are no duplicate values."
   ]
  },
  {
   "cell_type": "markdown",
   "metadata": {},
   "source": [
    "### Checking for missing values"
   ]
  },
  {
   "cell_type": "code",
   "execution_count": 10,
   "metadata": {},
   "outputs": [
    {
     "data": {
      "text/plain": [
       "main_camera_mp           179\n",
       "weight                     7\n",
       "battery                    6\n",
       "int_memory                 4\n",
       "ram                        4\n",
       "selfie_camera_mp           2\n",
       "brand_name                 0\n",
       "os                         0\n",
       "screen_size                0\n",
       "4g                         0\n",
       "5g                         0\n",
       "release_year               0\n",
       "days_used                  0\n",
       "normalized_used_price      0\n",
       "normalized_new_price       0\n",
       "dtype: int64"
      ]
     },
     "execution_count": 10,
     "metadata": {},
     "output_type": "execute_result"
    },
    {
     "data": {
      "application/javascript": [
       "\n",
       "            setTimeout(function() {\n",
       "                var nbb_cell_id = 10;\n",
       "                var nbb_unformatted_code = \"df.isnull().sum().sort_values(ascending=False)\";\n",
       "                var nbb_formatted_code = \"df.isnull().sum().sort_values(ascending=False)\";\n",
       "                var nbb_cells = Jupyter.notebook.get_cells();\n",
       "                for (var i = 0; i < nbb_cells.length; ++i) {\n",
       "                    if (nbb_cells[i].input_prompt_number == nbb_cell_id) {\n",
       "                        if (nbb_cells[i].get_text() == nbb_unformatted_code) {\n",
       "                             nbb_cells[i].set_text(nbb_formatted_code);\n",
       "                        }\n",
       "                        break;\n",
       "                    }\n",
       "                }\n",
       "            }, 500);\n",
       "            "
      ],
      "text/plain": [
       "<IPython.core.display.Javascript object>"
      ]
     },
     "metadata": {},
     "output_type": "display_data"
    }
   ],
   "source": [
    "df.isnull().sum().sort_values(ascending=False)"
   ]
  },
  {
   "cell_type": "markdown",
   "metadata": {},
   "source": [
    "- main_camera_mp has the most missing values"
   ]
  },
  {
   "cell_type": "markdown",
   "metadata": {
    "id": "__7ciGcIDPyk"
   },
   "source": [
    "## Exploratory Data Analysis (EDA)"
   ]
  },
  {
   "cell_type": "markdown",
   "metadata": {
    "id": "3bGVKmh75ri8"
   },
   "source": [
    "- EDA is an important part of any project involving data.\n",
    "- It is important to investigate and understand the data better before building a model with it.\n",
    "- A few questions have been mentioned below which will help you approach the analysis in the right manner and generate insights from the data.\n",
    "- A thorough analysis of the data, in addition to the questions mentioned below, should be done."
   ]
  },
  {
   "cell_type": "markdown",
   "metadata": {
    "id": "cN1lyueHttwW"
   },
   "source": [
    "#### 1. What does the distribution of normalized used device prices look like?"
   ]
  },
  {
   "cell_type": "code",
   "execution_count": 11,
   "metadata": {},
   "outputs": [
    {
     "data": {
      "text/plain": [
       "Text(0.5, 0, 'Normalized Price')"
      ]
     },
     "execution_count": 11,
     "metadata": {},
     "output_type": "execute_result"
    },
    {
     "data": {
      "image/png": "[encoded data removed]",
      "text/plain": [
       "<Figure size 432x288 with 1 Axes>"
      ]
     },
     "metadata": {
      "needs_background": "light"
     },
     "output_type": "display_data"
    },
    {
     "data": {
      "application/javascript": [
       "\n",
       "            setTimeout(function() {\n",
       "                var nbb_cell_id = 11;\n",
       "                var nbb_unformatted_code = \"# plot histogram of the distribution\\nax = df.normalized_used_price.plot(\\n    kind=\\\"hist\\\", bins=50, title=\\\"The distribution of normalized used device prices\\\"\\n)\\n\\nax.set_xlabel(\\\"Normalized Price\\\")\";\n",
       "                var nbb_formatted_code = \"# plot histogram of the distribution\\nax = df.normalized_used_price.plot(\\n    kind=\\\"hist\\\", bins=50, title=\\\"The distribution of normalized used device prices\\\"\\n)\\n\\nax.set_xlabel(\\\"Normalized Price\\\")\";\n",
       "                var nbb_cells = Jupyter.notebook.get_cells();\n",
       "                for (var i = 0; i < nbb_cells.length; ++i) {\n",
       "                    if (nbb_cells[i].input_prompt_number == nbb_cell_id) {\n",
       "                        if (nbb_cells[i].get_text() == nbb_unformatted_code) {\n",
       "                             nbb_cells[i].set_text(nbb_formatted_code);\n",
       "                        }\n",
       "                        break;\n",
       "                    }\n",
       "                }\n",
       "            }, 500);\n",
       "            "
      ],
      "text/plain": [
       "<IPython.core.display.Javascript object>"
      ]
     },
     "metadata": {},
     "output_type": "display_data"
    }
   ],
   "source": [
    "# plot histogram of the distribution\n",
    "ax = df.normalized_used_price.plot(\n",
    "    kind=\"hist\", bins=50, title=\"The distribution of normalized used device prices\"\n",
    ")\n",
    "\n",
    "ax.set_xlabel(\"Normalized Price\")"
   ]
  },
  {
   "cell_type": "markdown",
   "metadata": {},
   "source": [
    "- The dependent variable ('normalized_used_price') approximately follows a normal distribution\n",
    "- The histogram is skewed towards the right, indicating that some device are sold much more higher than the average price."
   ]
  },
  {
   "cell_type": "markdown",
   "metadata": {
    "id": "cN1lyueHttwW",
    "tags": []
   },
   "source": [
    "#### 2. What percentage of the used device market is dominated by Android devices?"
   ]
  },
  {
   "cell_type": "code",
   "execution_count": 12,
   "metadata": {},
   "outputs": [
    {
     "data": {
      "text/plain": [
       "<matplotlib.legend.Legend at 0x1cad1448d60>"
      ]
     },
     "execution_count": 12,
     "metadata": {},
     "output_type": "execute_result"
    },
    {
     "data": {
      "image/png": "[encoded data removed]",
      "text/plain": [
       "<Figure size 432x288 with 1 Axes>"
      ]
     },
     "metadata": {},
     "output_type": "display_data"
    },
    {
     "data": {
      "application/javascript": [
       "\n",
       "            setTimeout(function() {\n",
       "                var nbb_cell_id = 12;\n",
       "                var nbb_unformatted_code = \"# group by OS type\\ndfOSGroups = df.groupby(\\\"os\\\")\\n\\n# count each group\\ncounts = dfOSGroups.os.count()\\n\\n# get labels, os and percentage\\nlabels = [f\\\"{os}, {count*100/sum(counts):.2f} %\\\" for os, count in counts.iteritems()]\\n\\n# separate Android from the rest\\nexplode = [0.1, 0, 0, 0]\\n\\n# plot pie chart without labels on chart itself\\nax = dfOSGroups.os.count().plot(\\n    kind=\\\"pie\\\", explode=explode, labels=[\\\"\\\" for _ in dfOSGroups]\\n)\\n\\n# add legend with custom labels\\nax.legend(labels)\";\n",
       "                var nbb_formatted_code = \"# group by OS type\\ndfOSGroups = df.groupby(\\\"os\\\")\\n\\n# count each group\\ncounts = dfOSGroups.os.count()\\n\\n# get labels, os and percentage\\nlabels = [f\\\"{os}, {count*100/sum(counts):.2f} %\\\" for os, count in counts.iteritems()]\\n\\n# separate Android from the rest\\nexplode = [0.1, 0, 0, 0]\\n\\n# plot pie chart without labels on chart itself\\nax = dfOSGroups.os.count().plot(\\n    kind=\\\"pie\\\", explode=explode, labels=[\\\"\\\" for _ in dfOSGroups]\\n)\\n\\n# add legend with custom labels\\nax.legend(labels)\";\n",
       "                var nbb_cells = Jupyter.notebook.get_cells();\n",
       "                for (var i = 0; i < nbb_cells.length; ++i) {\n",
       "                    if (nbb_cells[i].input_prompt_number == nbb_cell_id) {\n",
       "                        if (nbb_cells[i].get_text() == nbb_unformatted_code) {\n",
       "                             nbb_cells[i].set_text(nbb_formatted_code);\n",
       "                        }\n",
       "                        break;\n",
       "                    }\n",
       "                }\n",
       "            }, 500);\n",
       "            "
      ],
      "text/plain": [
       "<IPython.core.display.Javascript object>"
      ]
     },
     "metadata": {},
     "output_type": "display_data"
    }
   ],
   "source": [
    "# group by OS type\n",
    "dfOSGroups = df.groupby(\"os\")\n",
    "\n",
    "# count each group\n",
    "counts = dfOSGroups.os.count()\n",
    "\n",
    "# get labels, os and percentage\n",
    "labels = [f\"{os}, {count*100/sum(counts):.2f} %\" for os, count in counts.iteritems()]\n",
    "\n",
    "# separate Android from the rest\n",
    "explode = [0.1, 0, 0, 0]\n",
    "\n",
    "# plot pie chart without labels on chart itself\n",
    "ax = dfOSGroups.os.count().plot(\n",
    "    kind=\"pie\", explode=explode, labels=[\"\" for _ in dfOSGroups]\n",
    ")\n",
    "\n",
    "# add legend with custom labels\n",
    "ax.legend(labels)"
   ]
  },
  {
   "cell_type": "markdown",
   "metadata": {},
   "source": [
    "Android dominates 93% of the used phones market"
   ]
  },
  {
   "cell_type": "markdown",
   "metadata": {
    "id": "cN1lyueHttwW",
    "tags": []
   },
   "source": [
    "#### 3. The amount of RAM is important for the smooth functioning of a device. How does the amount of RAM vary with the brand?"
   ]
  },
  {
   "cell_type": "code",
   "execution_count": 13,
   "metadata": {},
   "outputs": [
    {
     "data": {
      "text/plain": [
       "Text(0, 0.5, 'Ram (GB)')"
      ]
     },
     "execution_count": 13,
     "metadata": {},
     "output_type": "execute_result"
    },
    {
     "data": {
      "image/png": "[encoded data removed]",
      "text/plain": [
       "<Figure size 1080x360 with 1 Axes>"
      ]
     },
     "metadata": {
      "needs_background": "light"
     },
     "output_type": "display_data"
    },
    {
     "data": {
      "application/javascript": [
       "\n",
       "            setTimeout(function() {\n",
       "                var nbb_cell_id = 13;\n",
       "                var nbb_unformatted_code = \"# plot box plot of ram based on brand\\ndf.plot(\\n    kind=\\\"box\\\",\\n    by=\\\"brand_name\\\",\\n    column=\\\"ram\\\",\\n    figsize=(15, 5),\\n    rot=90,\\n    color=\\\"b\\\",\\n    title=\\\"RAM Size Based on Brand\\\",\\n)\\n\\nplt.xlabel(\\\"Brand\\\")\\nplt.ylabel(\\\"Ram (GB)\\\")\";\n",
       "                var nbb_formatted_code = \"# plot box plot of ram based on brand\\ndf.plot(\\n    kind=\\\"box\\\",\\n    by=\\\"brand_name\\\",\\n    column=\\\"ram\\\",\\n    figsize=(15, 5),\\n    rot=90,\\n    color=\\\"b\\\",\\n    title=\\\"RAM Size Based on Brand\\\",\\n)\\n\\nplt.xlabel(\\\"Brand\\\")\\nplt.ylabel(\\\"Ram (GB)\\\")\";\n",
       "                var nbb_cells = Jupyter.notebook.get_cells();\n",
       "                for (var i = 0; i < nbb_cells.length; ++i) {\n",
       "                    if (nbb_cells[i].input_prompt_number == nbb_cell_id) {\n",
       "                        if (nbb_cells[i].get_text() == nbb_unformatted_code) {\n",
       "                             nbb_cells[i].set_text(nbb_formatted_code);\n",
       "                        }\n",
       "                        break;\n",
       "                    }\n",
       "                }\n",
       "            }, 500);\n",
       "            "
      ],
      "text/plain": [
       "<IPython.core.display.Javascript object>"
      ]
     },
     "metadata": {},
     "output_type": "display_data"
    }
   ],
   "source": [
    "# plot box plot of ram based on brand\n",
    "df.plot(\n",
    "    kind=\"box\",\n",
    "    by=\"brand_name\",\n",
    "    column=\"ram\",\n",
    "    figsize=(15, 5),\n",
    "    rot=90,\n",
    "    color=\"b\",\n",
    "    title=\"RAM Size Based on Brand\",\n",
    ")\n",
    "\n",
    "plt.xlabel(\"Brand\")\n",
    "plt.ylabel(\"Ram (GB)\")"
   ]
  },
  {
   "cell_type": "markdown",
   "metadata": {},
   "source": [
    "- The minimum, 25%, 50%, 75%, and maximum RAM (in GB) for several brands are all the same: 4GB.\n",
    "- However, there are still outliers present, it means  some devices has low or no ram memory and others has very high GB for ram memory."
   ]
  },
  {
   "cell_type": "markdown",
   "metadata": {
    "id": "cN1lyueHttwW",
    "tags": []
   },
   "source": [
    "#### 4. A large battery often increases a device's weight, making it feel uncomfortable in the hands. How does the weight vary for phones and tablets offering large batteries (more than 4500 mAh)?"
   ]
  },
  {
   "cell_type": "code",
   "execution_count": 14,
   "metadata": {},
   "outputs": [
    {
     "data": {
      "text/plain": [
       "<matplotlib.legend.Legend at 0x1cad2870520>"
      ]
     },
     "execution_count": 14,
     "metadata": {},
     "output_type": "execute_result"
    },
    {
     "data": {
      "image/png": "[encoded data removed]",
      "text/plain": [
       "<Figure size 432x288 with 1 Axes>"
      ]
     },
     "metadata": {
      "needs_background": "light"
     },
     "output_type": "display_data"
    },
    {
     "data": {
      "application/javascript": [
       "\n",
       "            setTimeout(function() {\n",
       "                var nbb_cell_id = 14;\n",
       "                var nbb_unformatted_code = \"# filter data get phones with large batteries, get relative columns\\ndf_lagrgeBattery = df[[\\\"battery\\\", \\\"weight\\\"]][df.battery > 4500]\\n\\n# plot variables against eachother\\nax = df_lagrgeBattery.plot(\\n    kind=\\\"scatter\\\",\\n    x=\\\"battery\\\",\\n    y=\\\"weight\\\",\\n    color=\\\"b\\\",\\n    title=\\\"phones' wight with large batteries\\\",\\n)\\n\\nax.set_xlabel(\\\"Battery (mAh)\\\")\\nax.set_ylabel(\\\"Weight (g)\\\")\\n\\n# get trend line\\nz = np.polyfit(df_lagrgeBattery.battery, df_lagrgeBattery.weight, 1)\\np = np.poly1d(z)\\n\\n# plot trend line\\nax.plot(df_lagrgeBattery.battery, p(df_lagrgeBattery.battery), \\\"r--\\\")\\n\\n# add legend\\nax.legend([\\\"phones\\\", \\\"trend line\\\"])\";\n",
       "                var nbb_formatted_code = \"# filter data get phones with large batteries, get relative columns\\ndf_lagrgeBattery = df[[\\\"battery\\\", \\\"weight\\\"]][df.battery > 4500]\\n\\n# plot variables against eachother\\nax = df_lagrgeBattery.plot(\\n    kind=\\\"scatter\\\",\\n    x=\\\"battery\\\",\\n    y=\\\"weight\\\",\\n    color=\\\"b\\\",\\n    title=\\\"phones' wight with large batteries\\\",\\n)\\n\\nax.set_xlabel(\\\"Battery (mAh)\\\")\\nax.set_ylabel(\\\"Weight (g)\\\")\\n\\n# get trend line\\nz = np.polyfit(df_lagrgeBattery.battery, df_lagrgeBattery.weight, 1)\\np = np.poly1d(z)\\n\\n# plot trend line\\nax.plot(df_lagrgeBattery.battery, p(df_lagrgeBattery.battery), \\\"r--\\\")\\n\\n# add legend\\nax.legend([\\\"phones\\\", \\\"trend line\\\"])\";\n",
       "                var nbb_cells = Jupyter.notebook.get_cells();\n",
       "                for (var i = 0; i < nbb_cells.length; ++i) {\n",
       "                    if (nbb_cells[i].input_prompt_number == nbb_cell_id) {\n",
       "                        if (nbb_cells[i].get_text() == nbb_unformatted_code) {\n",
       "                             nbb_cells[i].set_text(nbb_formatted_code);\n",
       "                        }\n",
       "                        break;\n",
       "                    }\n",
       "                }\n",
       "            }, 500);\n",
       "            "
      ],
      "text/plain": [
       "<IPython.core.display.Javascript object>"
      ]
     },
     "metadata": {},
     "output_type": "display_data"
    }
   ],
   "source": [
    "# filter data get phones with large batteries, get relative columns\n",
    "df_lagrgeBattery = df[[\"battery\", \"weight\"]][df.battery > 4500]\n",
    "\n",
    "# plot variables against eachother\n",
    "ax = df_lagrgeBattery.plot(\n",
    "    kind=\"scatter\",\n",
    "    x=\"battery\",\n",
    "    y=\"weight\",\n",
    "    color=\"b\",\n",
    "    title=\"phones' wight with large batteries\",\n",
    ")\n",
    "\n",
    "ax.set_xlabel(\"Battery (mAh)\")\n",
    "ax.set_ylabel(\"Weight (g)\")\n",
    "\n",
    "# get trend line\n",
    "z = np.polyfit(df_lagrgeBattery.battery, df_lagrgeBattery.weight, 1)\n",
    "p = np.poly1d(z)\n",
    "\n",
    "# plot trend line\n",
    "ax.plot(df_lagrgeBattery.battery, p(df_lagrgeBattery.battery), \"r--\")\n",
    "\n",
    "# add legend\n",
    "ax.legend([\"phones\", \"trend line\"])"
   ]
  },
  {
   "cell_type": "markdown",
   "metadata": {},
   "source": [
    "- Linear correlation factor between phone's weight and battery\n",
    "- As the battery size increases, so does the weight"
   ]
  },
  {
   "cell_type": "markdown",
   "metadata": {
    "id": "cN1lyueHttwW",
    "tags": []
   },
   "source": [
    "#### 5. Bigger screens are desirable for entertainment purposes as they offer a better viewing experience. How many phones and tablets are available across different brands with a screen size larger than 6 inches?"
   ]
  },
  {
   "cell_type": "code",
   "execution_count": 15,
   "metadata": {},
   "outputs": [
    {
     "name": "stdout",
     "output_type": "stream",
     "text": [
      "(1099, 15)\n"
     ]
    },
    {
     "data": {
      "application/javascript": [
       "\n",
       "            setTimeout(function() {\n",
       "                var nbb_cell_id = 15;\n",
       "                var nbb_unformatted_code = \"# 6 inches = 6*2.54cm = 15.24cm\\ndf_largescreen = df[df[\\\"screen_size\\\"] > 15.24]\\nprint(df_largescreen.shape)\";\n",
       "                var nbb_formatted_code = \"# 6 inches = 6*2.54cm = 15.24cm\\ndf_largescreen = df[df[\\\"screen_size\\\"] > 15.24]\\nprint(df_largescreen.shape)\";\n",
       "                var nbb_cells = Jupyter.notebook.get_cells();\n",
       "                for (var i = 0; i < nbb_cells.length; ++i) {\n",
       "                    if (nbb_cells[i].input_prompt_number == nbb_cell_id) {\n",
       "                        if (nbb_cells[i].get_text() == nbb_unformatted_code) {\n",
       "                             nbb_cells[i].set_text(nbb_formatted_code);\n",
       "                        }\n",
       "                        break;\n",
       "                    }\n",
       "                }\n",
       "            }, 500);\n",
       "            "
      ],
      "text/plain": [
       "<IPython.core.display.Javascript object>"
      ]
     },
     "metadata": {},
     "output_type": "display_data"
    }
   ],
   "source": [
    "# 6 inches = 6*2.54cm = 15.24cm\n",
    "df_largescreen = df[df[\"screen_size\"] > 15.24]\n",
    "print(df_largescreen.shape)"
   ]
  },
  {
   "cell_type": "code",
   "execution_count": 16,
   "metadata": {},
   "outputs": [
    {
     "data": {
      "image/png": "[encoded data removed]",
      "text/plain": [
       "<Figure size 1440x360 with 1 Axes>"
      ]
     },
     "metadata": {
      "needs_background": "light"
     },
     "output_type": "display_data"
    },
    {
     "data": {
      "application/javascript": [
       "\n",
       "            setTimeout(function() {\n",
       "                var nbb_cell_id = 16;\n",
       "                var nbb_unformatted_code = \"plt.figure(figsize=(20, 5))\\n\\nax = sns.countplot(\\n    data=df_largescreen.sort_values(\\\"brand_name\\\", ascending=True), x=\\\"brand_name\\\"\\n)\\nplt.xticks(rotation=90)\\nplt.title(\\n    \\\"Number of refurbished phones with large screen size (>6 inches) for different manufacturing brands\\\"\\n)\\nfor p in ax.patches:\\n    label = p.get_height()\\n    x = p.get_x() + p.get_width() / 2\\n    y = p.get_height()\\n    ax.annotate(\\n        label,\\n        (x, y),\\n        ha=\\\"center\\\",\\n        va=\\\"center\\\",\\n        size=12,\\n        xytext=(0, 5),\\n        textcoords=\\\"offset points\\\",\\n    )\\nplt.show()\";\n",
       "                var nbb_formatted_code = \"plt.figure(figsize=(20, 5))\\n\\nax = sns.countplot(\\n    data=df_largescreen.sort_values(\\\"brand_name\\\", ascending=True), x=\\\"brand_name\\\"\\n)\\nplt.xticks(rotation=90)\\nplt.title(\\n    \\\"Number of refurbished phones with large screen size (>6 inches) for different manufacturing brands\\\"\\n)\\nfor p in ax.patches:\\n    label = p.get_height()\\n    x = p.get_x() + p.get_width() / 2\\n    y = p.get_height()\\n    ax.annotate(\\n        label,\\n        (x, y),\\n        ha=\\\"center\\\",\\n        va=\\\"center\\\",\\n        size=12,\\n        xytext=(0, 5),\\n        textcoords=\\\"offset points\\\",\\n    )\\nplt.show()\";\n",
       "                var nbb_cells = Jupyter.notebook.get_cells();\n",
       "                for (var i = 0; i < nbb_cells.length; ++i) {\n",
       "                    if (nbb_cells[i].input_prompt_number == nbb_cell_id) {\n",
       "                        if (nbb_cells[i].get_text() == nbb_unformatted_code) {\n",
       "                             nbb_cells[i].set_text(nbb_formatted_code);\n",
       "                        }\n",
       "                        break;\n",
       "                    }\n",
       "                }\n",
       "            }, 500);\n",
       "            "
      ],
      "text/plain": [
       "<IPython.core.display.Javascript object>"
      ]
     },
     "metadata": {},
     "output_type": "display_data"
    }
   ],
   "source": [
    "plt.figure(figsize=(20, 5))\n",
    "\n",
    "ax = sns.countplot(\n",
    "    data=df_largescreen.sort_values(\"brand_name\", ascending=True), x=\"brand_name\"\n",
    ")\n",
    "plt.xticks(rotation=90)\n",
    "plt.title(\n",
    "    \"Number of refurbished phones with large screen size (>6 inches) for different manufacturing brands\"\n",
    ")\n",
    "for p in ax.patches:\n",
    "    label = p.get_height()\n",
    "    x = p.get_x() + p.get_width() / 2\n",
    "    y = p.get_height()\n",
    "    ax.annotate(\n",
    "        label,\n",
    "        (x, y),\n",
    "        ha=\"center\",\n",
    "        va=\"center\",\n",
    "        size=12,\n",
    "        xytext=(0, 5),\n",
    "        textcoords=\"offset points\",\n",
    "    )\n",
    "plt.show()"
   ]
  },
  {
   "cell_type": "markdown",
   "metadata": {},
   "source": [
    "- Huawei has the highest number of refurbished phones with large screen (i.e. 149 phones), followed by Samsung (119 phones),  Vivo (80 phones), Honor (72 phones), Oppo (70 phones) and Xiaomi (69 phones) among known manufacturing brands\n",
    "- Microsoft (1 phone), Karbonn/Panasonic/Spice (2 phones) have the lowest number of refurbished phones with large screen size"
   ]
  },
  {
   "cell_type": "markdown",
   "metadata": {
    "id": "cN1lyueHttwW",
    "tags": []
   },
   "source": [
    "#### 6. A lot of devices nowadays offer great selfie cameras, allowing us to capture our favorite moments with loved ones. What is the distribution of devices offering greater than 8MP selfie cameras across brands?"
   ]
  },
  {
   "cell_type": "code",
   "execution_count": 17,
   "metadata": {},
   "outputs": [
    {
     "data": {
      "text/plain": [
       "Text(0, 0.5, 'Count')"
      ]
     },
     "execution_count": 17,
     "metadata": {},
     "output_type": "execute_result"
    },
    {
     "data": {
      "image/png": "[encoded data removed]",
      "text/plain": [
       "<Figure size 1080x360 with 1 Axes>"
      ]
     },
     "metadata": {
      "needs_background": "light"
     },
     "output_type": "display_data"
    },
    {
     "data": {
      "application/javascript": [
       "\n",
       "            setTimeout(function() {\n",
       "                var nbb_cell_id = 17;\n",
       "                var nbb_unformatted_code = \"# filter data get phones with large screens, get relative columns\\ndf_goodSelfie = df[[\\\"brand_name\\\"]][df.selfie_camera_mp > 8]\\n\\n# group by brand name\\ndf_goodSelfien_grouped = df_goodSelfie.groupby(\\\"brand_name\\\")\\n\\n# plot count of each group\\nax = df_goodSelfien_grouped.brand_name.count().plot(kind=\\\"bar\\\", figsize=(15,5),\\n                                                     title=\\\"Number of phones with good selfie camera (>8 MP)\\\")\\n\\n\\nax.set_xlabel(\\\"Brand\\\")\\nax.set_ylabel(\\\"Count\\\")\";\n",
       "                var nbb_formatted_code = \"# filter data get phones with large screens, get relative columns\\ndf_goodSelfie = df[[\\\"brand_name\\\"]][df.selfie_camera_mp > 8]\\n\\n# group by brand name\\ndf_goodSelfien_grouped = df_goodSelfie.groupby(\\\"brand_name\\\")\\n\\n# plot count of each group\\nax = df_goodSelfien_grouped.brand_name.count().plot(\\n    kind=\\\"bar\\\",\\n    figsize=(15, 5),\\n    title=\\\"Number of phones with good selfie camera (>8 MP)\\\",\\n)\\n\\n\\nax.set_xlabel(\\\"Brand\\\")\\nax.set_ylabel(\\\"Count\\\")\";\n",
       "                var nbb_cells = Jupyter.notebook.get_cells();\n",
       "                for (var i = 0; i < nbb_cells.length; ++i) {\n",
       "                    if (nbb_cells[i].input_prompt_number == nbb_cell_id) {\n",
       "                        if (nbb_cells[i].get_text() == nbb_unformatted_code) {\n",
       "                             nbb_cells[i].set_text(nbb_formatted_code);\n",
       "                        }\n",
       "                        break;\n",
       "                    }\n",
       "                }\n",
       "            }, 500);\n",
       "            "
      ],
      "text/plain": [
       "<IPython.core.display.Javascript object>"
      ]
     },
     "metadata": {},
     "output_type": "display_data"
    }
   ],
   "source": [
    "# filter data get phones with large screens, get relative columns\n",
    "df_goodSelfie = df[[\"brand_name\"]][df.selfie_camera_mp > 8]\n",
    "\n",
    "# group by brand name\n",
    "df_goodSelfien_grouped = df_goodSelfie.groupby(\"brand_name\")\n",
    "\n",
    "# plot count of each group\n",
    "ax = df_goodSelfien_grouped.brand_name.count().plot(kind=\"bar\", figsize=(15,5),\n",
    "                                                     title=\"Number of phones with good selfie camera (>8 MP)\")\n",
    "\n",
    "\n",
    "ax.set_xlabel(\"Brand\")\n",
    "ax.set_ylabel(\"Count\")\n"
   ]
  },
  {
   "cell_type": "markdown",
   "metadata": {},
   "source": [
    "- Huawei (87 phones), Oppo (75 phones), Vivo (78 phones), Xiaomi (63 phones) and Samsung (57 phones) have some of the highest number of refurbished phones with a great selfie camera (>8MP) - similar brand names observed as for phones with large screen size\n",
    "- Acer (1 phone), Blackberry/Micromax/Panasonic (2 phones) have some of the lowest number of refurbished phones with a great selfie camera (>8MP)"
   ]
  },
  {
   "cell_type": "code",
   "execution_count": 18,
   "metadata": {},
   "outputs": [
    {
     "data": {
      "text/plain": [
       "Text(0, 0.5, 'count')"
      ]
     },
     "execution_count": 18,
     "metadata": {},
     "output_type": "execute_result"
    },
    {
     "data": {
      "image/png": "[encoded data removed]",
      "text/plain": [
       "<Figure size 432x288 with 1 Axes>"
      ]
     },
     "metadata": {
      "needs_background": "light"
     },
     "output_type": "display_data"
    },
    {
     "data": {
      "application/javascript": [
       "\n",
       "            setTimeout(function() {\n",
       "                var nbb_cell_id = 18;\n",
       "                var nbb_unformatted_code = \"# We will now bucket the 34 manufacturing brands into 3 categories: low range (<4), mid range (5-6), high range (>6)\\n# cut new prices into 3 groups\\npriceCategories = pd.cut(x=df[\\\"normalized_new_price\\\"], bins=[0, 4, 6, 8])\\n\\n# plot the count of each group\\nax = priceCategories.value_counts().plot(\\n    kind=\\\"bar\\\", title=\\\"New Price Category distribution\\\"\\n)\\n\\nax.set_xticklabels([\\\"mid-range\\\", \\\"high-range\\\", \\\"low-range\\\"])\\nax.set_xlabel(\\\"new price category\\\")\\nax.set_ylabel(\\\"count\\\")\";\n",
       "                var nbb_formatted_code = \"# We will now bucket the 34 manufacturing brands into 3 categories: low range (<4), mid range (5-6), high range (>6)\\n# cut new prices into 3 groups\\npriceCategories = pd.cut(x=df[\\\"normalized_new_price\\\"], bins=[0, 4, 6, 8])\\n\\n# plot the count of each group\\nax = priceCategories.value_counts().plot(\\n    kind=\\\"bar\\\", title=\\\"New Price Category distribution\\\"\\n)\\n\\nax.set_xticklabels([\\\"mid-range\\\", \\\"high-range\\\", \\\"low-range\\\"])\\nax.set_xlabel(\\\"new price category\\\")\\nax.set_ylabel(\\\"count\\\")\";\n",
       "                var nbb_cells = Jupyter.notebook.get_cells();\n",
       "                for (var i = 0; i < nbb_cells.length; ++i) {\n",
       "                    if (nbb_cells[i].input_prompt_number == nbb_cell_id) {\n",
       "                        if (nbb_cells[i].get_text() == nbb_unformatted_code) {\n",
       "                             nbb_cells[i].set_text(nbb_formatted_code);\n",
       "                        }\n",
       "                        break;\n",
       "                    }\n",
       "                }\n",
       "            }, 500);\n",
       "            "
      ],
      "text/plain": [
       "<IPython.core.display.Javascript object>"
      ]
     },
     "metadata": {},
     "output_type": "display_data"
    }
   ],
   "source": [
    "# We will now bucket the 34 manufacturing brands into 3 categories: low range (<4), mid range (5-6), high range (>6)\n",
    "# cut new prices into 3 groups\n",
    "priceCategories = pd.cut(x=df[\"normalized_new_price\"], bins=[0, 4, 6, 8])\n",
    "\n",
    "# plot the count of each group\n",
    "ax = priceCategories.value_counts().plot(\n",
    "    kind=\"bar\", title=\"New Price Category distribution\"\n",
    ")\n",
    "\n",
    "ax.set_xticklabels([\"mid-range\", \"high-range\", \"low-range\"])\n",
    "ax.set_xlabel(\"new price category\")\n",
    "ax.set_ylabel(\"count\")"
   ]
  },
  {
   "cell_type": "markdown",
   "metadata": {},
   "source": [
    "- The number of phones with mid-range is the highest, which is around 3000. While the ones with low-range is the lowest (around 100)."
   ]
  },
  {
   "cell_type": "markdown",
   "metadata": {
    "id": "cN1lyueHttwW",
    "tags": []
   },
   "source": [
    "#### 7. Which attributes are highly correlated with the normalized price of a used device?"
   ]
  },
  {
   "cell_type": "code",
   "execution_count": 19,
   "metadata": {},
   "outputs": [
    {
     "data": {
      "text/plain": [
       "Text(0, 0.5, 'correlation')"
      ]
     },
     "execution_count": 19,
     "metadata": {},
     "output_type": "execute_result"
    },
    {
     "data": {
      "image/png": "[encoded data removed]",
      "text/plain": [
       "<Figure size 432x288 with 1 Axes>"
      ]
     },
     "metadata": {
      "needs_background": "light"
     },
     "output_type": "display_data"
    },
    {
     "data": {
      "application/javascript": [
       "\n",
       "            setTimeout(function() {\n",
       "                var nbb_cell_id = 19;\n",
       "                var nbb_unformatted_code = \"# get correlation matrix\\ncorr = df.corr()\\n\\n# plot correlation of all columns with normalized_used_price\\nax = corr.normalized_used_price.plot(kind=\\\"bar\\\")\\n\\nax.set_xlabel(\\\"attribute\\\")\\nax.set_ylabel(\\\"correlation\\\")\";\n",
       "                var nbb_formatted_code = \"# get correlation matrix\\ncorr = df.corr()\\n\\n# plot correlation of all columns with normalized_used_price\\nax = corr.normalized_used_price.plot(kind=\\\"bar\\\")\\n\\nax.set_xlabel(\\\"attribute\\\")\\nax.set_ylabel(\\\"correlation\\\")\";\n",
       "                var nbb_cells = Jupyter.notebook.get_cells();\n",
       "                for (var i = 0; i < nbb_cells.length; ++i) {\n",
       "                    if (nbb_cells[i].input_prompt_number == nbb_cell_id) {\n",
       "                        if (nbb_cells[i].get_text() == nbb_unformatted_code) {\n",
       "                             nbb_cells[i].set_text(nbb_formatted_code);\n",
       "                        }\n",
       "                        break;\n",
       "                    }\n",
       "                }\n",
       "            }, 500);\n",
       "            "
      ],
      "text/plain": [
       "<IPython.core.display.Javascript object>"
      ]
     },
     "metadata": {},
     "output_type": "display_data"
    }
   ],
   "source": [
    "# get correlation matrix\n",
    "corr = df.corr()\n",
    "\n",
    "# plot correlation of all columns with normalized_used_price\n",
    "ax = corr.normalized_used_price.plot(kind=\"bar\")\n",
    "\n",
    "ax.set_xlabel(\"attribute\")\n",
    "ax.set_ylabel(\"correlation\")\n"
   ]
  },
  {
   "cell_type": "markdown",
   "metadata": {},
   "source": [
    "The highest correlated attribute is the normalized_new_price. Other highly correlated attributes: battery, weight, selfie_camera_mp, main_camera_mp"
   ]
  },
  {
   "cell_type": "markdown",
   "metadata": {
    "id": "pVn5toJ7MKte"
   },
   "source": [
    "## Data Preprocessing (do this part)"
   ]
  },
  {
   "cell_type": "markdown",
   "metadata": {
    "id": "YcceZiPd5vGV"
   },
   "source": [
    "- Missing value treatment\n",
    "- Feature engineering (if needed)\n",
    "- Outlier detection and treatment (if needed)\n",
    "- Preparing data for modeling\n",
    "- Any other preprocessing steps (if needed)"
   ]
  },
  {
   "cell_type": "markdown",
   "metadata": {
    "id": "cN1lyueHttwW",
    "tags": []
   },
   "source": [
    "#### - Missing value treatment"
   ]
  },
  {
   "cell_type": "code",
   "execution_count": 20,
   "metadata": {},
   "outputs": [
    {
     "data": {
      "application/javascript": [
       "\n",
       "            setTimeout(function() {\n",
       "                var nbb_cell_id = 20;\n",
       "                var nbb_unformatted_code = \"# create a copy of the data\\ndf1 = df.copy()\";\n",
       "                var nbb_formatted_code = \"# create a copy of the data\\ndf1 = df.copy()\";\n",
       "                var nbb_cells = Jupyter.notebook.get_cells();\n",
       "                for (var i = 0; i < nbb_cells.length; ++i) {\n",
       "                    if (nbb_cells[i].input_prompt_number == nbb_cell_id) {\n",
       "                        if (nbb_cells[i].get_text() == nbb_unformatted_code) {\n",
       "                             nbb_cells[i].set_text(nbb_formatted_code);\n",
       "                        }\n",
       "                        break;\n",
       "                    }\n",
       "                }\n",
       "            }, 500);\n",
       "            "
      ],
      "text/plain": [
       "<IPython.core.display.Javascript object>"
      ]
     },
     "metadata": {},
     "output_type": "display_data"
    }
   ],
   "source": [
    "# create a copy of the data\n",
    "df1 = df.copy()"
   ]
  },
  {
   "cell_type": "code",
   "execution_count": 21,
   "metadata": {},
   "outputs": [
    {
     "data": {
      "text/plain": [
       "brand_name                 0\n",
       "os                         0\n",
       "screen_size                0\n",
       "4g                         0\n",
       "5g                         0\n",
       "main_camera_mp           179\n",
       "selfie_camera_mp           2\n",
       "int_memory                 4\n",
       "ram                        4\n",
       "battery                    6\n",
       "weight                     7\n",
       "release_year               0\n",
       "days_used                  0\n",
       "normalized_used_price      0\n",
       "normalized_new_price       0\n",
       "dtype: int64"
      ]
     },
     "execution_count": 21,
     "metadata": {},
     "output_type": "execute_result"
    },
    {
     "data": {
      "application/javascript": [
       "\n",
       "            setTimeout(function() {\n",
       "                var nbb_cell_id = 21;\n",
       "                var nbb_unformatted_code = \"# checking for missing values\\ndf1.isnull().sum()\";\n",
       "                var nbb_formatted_code = \"# checking for missing values\\ndf1.isnull().sum()\";\n",
       "                var nbb_cells = Jupyter.notebook.get_cells();\n",
       "                for (var i = 0; i < nbb_cells.length; ++i) {\n",
       "                    if (nbb_cells[i].input_prompt_number == nbb_cell_id) {\n",
       "                        if (nbb_cells[i].get_text() == nbb_unformatted_code) {\n",
       "                             nbb_cells[i].set_text(nbb_formatted_code);\n",
       "                        }\n",
       "                        break;\n",
       "                    }\n",
       "                }\n",
       "            }, 500);\n",
       "            "
      ],
      "text/plain": [
       "<IPython.core.display.Javascript object>"
      ]
     },
     "metadata": {},
     "output_type": "display_data"
    }
   ],
   "source": [
    "# checking for missing values\n",
    "df1.isnull().sum()"
   ]
  },
  {
   "cell_type": "markdown",
   "metadata": {},
   "source": [
    "- Let us impute missing values in the columns with median of the columns grouped by release year and brand name"
   ]
  },
  {
   "cell_type": "code",
   "execution_count": 22,
   "metadata": {},
   "outputs": [
    {
     "data": {
      "text/plain": [
       "brand_name                 0\n",
       "os                         0\n",
       "screen_size                0\n",
       "4g                         0\n",
       "5g                         0\n",
       "main_camera_mp           179\n",
       "selfie_camera_mp           2\n",
       "int_memory                 0\n",
       "ram                        0\n",
       "battery                    6\n",
       "weight                     7\n",
       "release_year               0\n",
       "days_used                  0\n",
       "normalized_used_price      0\n",
       "normalized_new_price       0\n",
       "dtype: int64"
      ]
     },
     "execution_count": 22,
     "metadata": {},
     "output_type": "execute_result"
    },
    {
     "data": {
      "application/javascript": [
       "\n",
       "            setTimeout(function() {\n",
       "                var nbb_cell_id = 22;\n",
       "                var nbb_unformatted_code = \"cols_impute = [\\n    \\\"main_camera_mp\\\",\\n    \\\"selfie_camera_mp\\\",\\n    \\\"int_memory\\\",\\n    \\\"ram\\\",\\n    \\\"battery\\\",\\n    \\\"weight\\\",\\n]\\n\\n# impute missing values in cols_impute with median by grouping the data on release year and brand name\\nfor col in cols_impute:\\n    df1[col] = df1[col].fillna(\\n        value=df1.groupby([\\\"brand_name\\\", \\\"release_year\\\"])[col].transform(\\\"median\\\")\\n    )\\n\\n# checking for missing values\\ndf1.isnull().sum()\";\n",
       "                var nbb_formatted_code = \"cols_impute = [\\n    \\\"main_camera_mp\\\",\\n    \\\"selfie_camera_mp\\\",\\n    \\\"int_memory\\\",\\n    \\\"ram\\\",\\n    \\\"battery\\\",\\n    \\\"weight\\\",\\n]\\n\\n# impute missing values in cols_impute with median by grouping the data on release year and brand name\\nfor col in cols_impute:\\n    df1[col] = df1[col].fillna(\\n        value=df1.groupby([\\\"brand_name\\\", \\\"release_year\\\"])[col].transform(\\\"median\\\")\\n    )\\n\\n# checking for missing values\\ndf1.isnull().sum()\";\n",
       "                var nbb_cells = Jupyter.notebook.get_cells();\n",
       "                for (var i = 0; i < nbb_cells.length; ++i) {\n",
       "                    if (nbb_cells[i].input_prompt_number == nbb_cell_id) {\n",
       "                        if (nbb_cells[i].get_text() == nbb_unformatted_code) {\n",
       "                             nbb_cells[i].set_text(nbb_formatted_code);\n",
       "                        }\n",
       "                        break;\n",
       "                    }\n",
       "                }\n",
       "            }, 500);\n",
       "            "
      ],
      "text/plain": [
       "<IPython.core.display.Javascript object>"
      ]
     },
     "metadata": {},
     "output_type": "display_data"
    }
   ],
   "source": [
    "cols_impute = [\n",
    "    \"main_camera_mp\",\n",
    "    \"selfie_camera_mp\",\n",
    "    \"int_memory\",\n",
    "    \"ram\",\n",
    "    \"battery\",\n",
    "    \"weight\",\n",
    "]\n",
    "\n",
    "# impute missing values in cols_impute with median by grouping the data on release year and brand name\n",
    "for col in cols_impute:\n",
    "    df1[col] = df1[col].fillna(\n",
    "        value=df1.groupby([\"brand_name\", \"release_year\"])[col].transform(\"median\")\n",
    "    )\n",
    "\n",
    "# checking for missing values\n",
    "df1.isnull().sum()"
   ]
  },
  {
   "cell_type": "markdown",
   "metadata": {},
   "source": [
    "- There are still have missing values\n",
    "- Let us impute these missing values with median of the columns grouped by just brand name"
   ]
  },
  {
   "cell_type": "code",
   "execution_count": 23,
   "metadata": {},
   "outputs": [
    {
     "data": {
      "text/plain": [
       "brand_name                0\n",
       "os                        0\n",
       "screen_size               0\n",
       "4g                        0\n",
       "5g                        0\n",
       "main_camera_mp           10\n",
       "selfie_camera_mp          0\n",
       "int_memory                0\n",
       "ram                       0\n",
       "battery                   0\n",
       "weight                    0\n",
       "release_year              0\n",
       "days_used                 0\n",
       "normalized_used_price     0\n",
       "normalized_new_price      0\n",
       "dtype: int64"
      ]
     },
     "execution_count": 23,
     "metadata": {},
     "output_type": "execute_result"
    },
    {
     "data": {
      "application/javascript": [
       "\n",
       "            setTimeout(function() {\n",
       "                var nbb_cell_id = 23;\n",
       "                var nbb_unformatted_code = \"cols_impute = [\\n    \\\"main_camera_mp\\\",\\n    \\\"selfie_camera_mp\\\",\\n    \\\"battery\\\",\\n    \\\"weight\\\",\\n]\\n\\n# impute the missing values in cols_impute with median by grouping the data on brand name\\nfor col in cols_impute:\\n    df1[col] = df1[col].fillna(\\n        value=df1.groupby([\\\"brand_name\\\"])[col].transform(\\\"median\\\")\\n    )\\n\\n# checking for missing values\\ndf1.isnull().sum()\";\n",
       "                var nbb_formatted_code = \"cols_impute = [\\n    \\\"main_camera_mp\\\",\\n    \\\"selfie_camera_mp\\\",\\n    \\\"battery\\\",\\n    \\\"weight\\\",\\n]\\n\\n# impute the missing values in cols_impute with median by grouping the data on brand name\\nfor col in cols_impute:\\n    df1[col] = df1[col].fillna(\\n        value=df1.groupby([\\\"brand_name\\\"])[col].transform(\\\"median\\\")\\n    )\\n\\n# checking for missing values\\ndf1.isnull().sum()\";\n",
       "                var nbb_cells = Jupyter.notebook.get_cells();\n",
       "                for (var i = 0; i < nbb_cells.length; ++i) {\n",
       "                    if (nbb_cells[i].input_prompt_number == nbb_cell_id) {\n",
       "                        if (nbb_cells[i].get_text() == nbb_unformatted_code) {\n",
       "                             nbb_cells[i].set_text(nbb_formatted_code);\n",
       "                        }\n",
       "                        break;\n",
       "                    }\n",
       "                }\n",
       "            }, 500);\n",
       "            "
      ],
      "text/plain": [
       "<IPython.core.display.Javascript object>"
      ]
     },
     "metadata": {},
     "output_type": "display_data"
    }
   ],
   "source": [
    "cols_impute = [\n",
    "    \"main_camera_mp\",\n",
    "    \"selfie_camera_mp\",\n",
    "    \"battery\",\n",
    "    \"weight\",\n",
    "]\n",
    "\n",
    "# impute the missing values in cols_impute with median by grouping the data on brand name\n",
    "for col in cols_impute:\n",
    "    df1[col] = df1[col].fillna(\n",
    "        value=df1.groupby([\"brand_name\"])[col].transform(\"median\")\n",
    "    )\n",
    "\n",
    "# checking for missing values\n",
    "df1.isnull().sum()"
   ]
  },
  {
   "cell_type": "markdown",
   "metadata": {},
   "source": [
    "- main_camera_mp still has 10 missing values\n",
    "- Let us impute these missing values with the median of the column(main_camera_mp)"
   ]
  },
  {
   "cell_type": "code",
   "execution_count": 24,
   "metadata": {},
   "outputs": [
    {
     "data": {
      "text/plain": [
       "brand_name               0\n",
       "os                       0\n",
       "screen_size              0\n",
       "4g                       0\n",
       "5g                       0\n",
       "main_camera_mp           0\n",
       "selfie_camera_mp         0\n",
       "int_memory               0\n",
       "ram                      0\n",
       "battery                  0\n",
       "weight                   0\n",
       "release_year             0\n",
       "days_used                0\n",
       "normalized_used_price    0\n",
       "normalized_new_price     0\n",
       "dtype: int64"
      ]
     },
     "execution_count": 24,
     "metadata": {},
     "output_type": "execute_result"
    },
    {
     "data": {
      "application/javascript": [
       "\n",
       "            setTimeout(function() {\n",
       "                var nbb_cell_id = 24;\n",
       "                var nbb_unformatted_code = \"# impute the remaining data with median\\ndf1[\\\"main_camera_mp\\\"] = df1[\\\"main_camera_mp\\\"].fillna(df1[\\\"main_camera_mp\\\"].median())\\n\\n# checking for missing values\\ndf1.isnull().sum()\";\n",
       "                var nbb_formatted_code = \"# impute the remaining data with median\\ndf1[\\\"main_camera_mp\\\"] = df1[\\\"main_camera_mp\\\"].fillna(df1[\\\"main_camera_mp\\\"].median())\\n\\n# checking for missing values\\ndf1.isnull().sum()\";\n",
       "                var nbb_cells = Jupyter.notebook.get_cells();\n",
       "                for (var i = 0; i < nbb_cells.length; ++i) {\n",
       "                    if (nbb_cells[i].input_prompt_number == nbb_cell_id) {\n",
       "                        if (nbb_cells[i].get_text() == nbb_unformatted_code) {\n",
       "                             nbb_cells[i].set_text(nbb_formatted_code);\n",
       "                        }\n",
       "                        break;\n",
       "                    }\n",
       "                }\n",
       "            }, 500);\n",
       "            "
      ],
      "text/plain": [
       "<IPython.core.display.Javascript object>"
      ]
     },
     "metadata": {},
     "output_type": "display_data"
    }
   ],
   "source": [
    "# impute the remaining data with median\n",
    "df1[\"main_camera_mp\"] = df1[\"main_camera_mp\"].fillna(df1[\"main_camera_mp\"].median())\n",
    "\n",
    "# checking for missing values\n",
    "df1.isnull().sum()"
   ]
  },
  {
   "cell_type": "markdown",
   "metadata": {},
   "source": [
    "- We have no more missing values"
   ]
  },
  {
   "cell_type": "markdown",
   "metadata": {
    "id": "cN1lyueHttwW",
    "tags": []
   },
   "source": [
    "#### - Feature engineering (if needed)"
   ]
  },
  {
   "cell_type": "markdown",
   "metadata": {},
   "source": [
    "- Let's create a new column years_since_release from the release_year column.\n",
    "- We will consider the year of data collection, 2021, as the baseline.\n",
    "- We will drop the release_year column."
   ]
  },
  {
   "cell_type": "code",
   "execution_count": 25,
   "metadata": {},
   "outputs": [
    {
     "data": {
      "text/plain": [
       "count    3454.000000\n",
       "mean        5.034742\n",
       "std         2.298455\n",
       "min         1.000000\n",
       "25%         3.000000\n",
       "50%         5.500000\n",
       "75%         7.000000\n",
       "max         8.000000\n",
       "Name: years_since_release, dtype: float64"
      ]
     },
     "execution_count": 25,
     "metadata": {},
     "output_type": "execute_result"
    },
    {
     "data": {
      "application/javascript": [
       "\n",
       "            setTimeout(function() {\n",
       "                var nbb_cell_id = 25;\n",
       "                var nbb_unformatted_code = \"# get years since release\\ndf1[\\\"years_since_release\\\"] = 2021 - df1[\\\"release_year\\\"]\\n# remove release_year column (temporal variable, doesnt make any sense)\\ndf1.drop(\\\"release_year\\\", axis=1, inplace=True)\\n\\n# describe the new column\\ndf1[\\\"years_since_release\\\"].describe()\";\n",
       "                var nbb_formatted_code = \"# get years since release\\ndf1[\\\"years_since_release\\\"] = 2021 - df1[\\\"release_year\\\"]\\n# remove release_year column (temporal variable, doesnt make any sense)\\ndf1.drop(\\\"release_year\\\", axis=1, inplace=True)\\n\\n# describe the new column\\ndf1[\\\"years_since_release\\\"].describe()\";\n",
       "                var nbb_cells = Jupyter.notebook.get_cells();\n",
       "                for (var i = 0; i < nbb_cells.length; ++i) {\n",
       "                    if (nbb_cells[i].input_prompt_number == nbb_cell_id) {\n",
       "                        if (nbb_cells[i].get_text() == nbb_unformatted_code) {\n",
       "                             nbb_cells[i].set_text(nbb_formatted_code);\n",
       "                        }\n",
       "                        break;\n",
       "                    }\n",
       "                }\n",
       "            }, 500);\n",
       "            "
      ],
      "text/plain": [
       "<IPython.core.display.Javascript object>"
      ]
     },
     "metadata": {},
     "output_type": "display_data"
    }
   ],
   "source": [
    "# get years since release\n",
    "df1[\"years_since_release\"] = 2021 - df1[\"release_year\"]\n",
    "# remove release_year column (temporal variable, doesnt make any sense)\n",
    "df1.drop(\"release_year\", axis=1, inplace=True)\n",
    "\n",
    "# describe the new column\n",
    "df1[\"years_since_release\"].describe()"
   ]
  },
  {
   "cell_type": "markdown",
   "metadata": {
    "id": "cN1lyueHttwW",
    "tags": []
   },
   "source": [
    "#### - Outlier detection and treatment (if needed)"
   ]
  },
  {
   "cell_type": "code",
   "execution_count": 26,
   "metadata": {},
   "outputs": [
    {
     "data": {
      "image/png": "[encoded data removed]",
      "text/plain": [
       "<Figure size 1080x1080 with 11 Axes>"
      ]
     },
     "metadata": {
      "needs_background": "light"
     },
     "output_type": "display_data"
    },
    {
     "data": {
      "application/javascript": [
       "\n",
       "            setTimeout(function() {\n",
       "                var nbb_cell_id = 26;\n",
       "                var nbb_unformatted_code = \"# outlier detection using boxplot\\nnumeric_columns = df1.select_dtypes(include=np.number).columns.tolist()\\n\\nplt.figure(figsize=(15, 15))\\n\\nfor i, variable in enumerate(numeric_columns):\\n    plt.subplot(3, 4, i + 1)\\n    plt.boxplot(df1[variable], whis=1.5)\\n    plt.tight_layout()\\n    plt.title(variable)\\n\\nplt.show()\";\n",
       "                var nbb_formatted_code = \"# outlier detection using boxplot\\nnumeric_columns = df1.select_dtypes(include=np.number).columns.tolist()\\n\\nplt.figure(figsize=(15, 15))\\n\\nfor i, variable in enumerate(numeric_columns):\\n    plt.subplot(3, 4, i + 1)\\n    plt.boxplot(df1[variable], whis=1.5)\\n    plt.tight_layout()\\n    plt.title(variable)\\n\\nplt.show()\";\n",
       "                var nbb_cells = Jupyter.notebook.get_cells();\n",
       "                for (var i = 0; i < nbb_cells.length; ++i) {\n",
       "                    if (nbb_cells[i].input_prompt_number == nbb_cell_id) {\n",
       "                        if (nbb_cells[i].get_text() == nbb_unformatted_code) {\n",
       "                             nbb_cells[i].set_text(nbb_formatted_code);\n",
       "                        }\n",
       "                        break;\n",
       "                    }\n",
       "                }\n",
       "            }, 500);\n",
       "            "
      ],
      "text/plain": [
       "<IPython.core.display.Javascript object>"
      ]
     },
     "metadata": {},
     "output_type": "display_data"
    }
   ],
   "source": [
    "# outlier detection using boxplot\n",
    "numeric_columns = df1.select_dtypes(include=np.number).columns.tolist()\n",
    "\n",
    "plt.figure(figsize=(15, 15))\n",
    "\n",
    "for i, variable in enumerate(numeric_columns):\n",
    "    plt.subplot(3, 4, i + 1)\n",
    "    plt.boxplot(df1[variable], whis=1.5)\n",
    "    plt.tight_layout()\n",
    "    plt.title(variable)\n",
    "\n",
    "plt.show()"
   ]
  },
  {
   "cell_type": "markdown",
   "metadata": {},
   "source": [
    " - All colums do have outliers in them excepted for days_used and years_since_release."
   ]
  },
  {
   "cell_type": "markdown",
   "metadata": {},
   "source": [
    "#### Treatment"
   ]
  },
  {
   "cell_type": "code",
   "execution_count": 27,
   "metadata": {},
   "outputs": [
    {
     "data": {
      "application/javascript": [
       "\n",
       "            setTimeout(function() {\n",
       "                var nbb_cell_id = 27;\n",
       "                var nbb_unformatted_code = \"# functions to treat outliers by flooring and capping\\n\\n\\ndef treat_outliers(df, col):\\n    \\\"\\\"\\\"\\n    Treats outliers in a variable\\n\\n    df: dataframe\\n    col: dataframe column\\n    \\\"\\\"\\\"\\n    Q1 = df[col].quantile(0.25)  # 25th quantile\\n    Q3 = df[col].quantile(0.75)  # 75th quantile\\n    IQR = Q3 - Q1\\n    Lower_Whisker = Q1 - 1.5 * IQR\\n    Upper_Whisker = Q3 + 1.5 * IQR\\n\\n    # all the values smaller than Lower_Whisker will be assigned the value of Lower_Whisker\\n    # all the values greater than Upper_Whisker will be assigned the value of Upper_Whisker\\n    df[col] = np.clip(df[col], Lower_Whisker, Upper_Whisker)\\n\\n    return df\\n\\n\\ndef treat_outliers_all(df, col_list):\\n    \\\"\\\"\\\"\\n    Treat outliers in a list of variables\\n\\n    df: dataframe\\n    col_list: list of dataframe columns\\n    \\\"\\\"\\\"\\n    for c in col_list:\\n        df = treat_outliers(df, c)\\n\\n    return df\";\n",
       "                var nbb_formatted_code = \"# functions to treat outliers by flooring and capping\\n\\n\\ndef treat_outliers(df, col):\\n    \\\"\\\"\\\"\\n    Treats outliers in a variable\\n\\n    df: dataframe\\n    col: dataframe column\\n    \\\"\\\"\\\"\\n    Q1 = df[col].quantile(0.25)  # 25th quantile\\n    Q3 = df[col].quantile(0.75)  # 75th quantile\\n    IQR = Q3 - Q1\\n    Lower_Whisker = Q1 - 1.5 * IQR\\n    Upper_Whisker = Q3 + 1.5 * IQR\\n\\n    # all the values smaller than Lower_Whisker will be assigned the value of Lower_Whisker\\n    # all the values greater than Upper_Whisker will be assigned the value of Upper_Whisker\\n    df[col] = np.clip(df[col], Lower_Whisker, Upper_Whisker)\\n\\n    return df\\n\\n\\ndef treat_outliers_all(df, col_list):\\n    \\\"\\\"\\\"\\n    Treat outliers in a list of variables\\n\\n    df: dataframe\\n    col_list: list of dataframe columns\\n    \\\"\\\"\\\"\\n    for c in col_list:\\n        df = treat_outliers(df, c)\\n\\n    return df\";\n",
       "                var nbb_cells = Jupyter.notebook.get_cells();\n",
       "                for (var i = 0; i < nbb_cells.length; ++i) {\n",
       "                    if (nbb_cells[i].input_prompt_number == nbb_cell_id) {\n",
       "                        if (nbb_cells[i].get_text() == nbb_unformatted_code) {\n",
       "                             nbb_cells[i].set_text(nbb_formatted_code);\n",
       "                        }\n",
       "                        break;\n",
       "                    }\n",
       "                }\n",
       "            }, 500);\n",
       "            "
      ],
      "text/plain": [
       "<IPython.core.display.Javascript object>"
      ]
     },
     "metadata": {},
     "output_type": "display_data"
    }
   ],
   "source": [
    "# functions to treat outliers by flooring and capping\n",
    "\n",
    "\n",
    "def treat_outliers(df, col):\n",
    "    \"\"\"\n",
    "    Treats outliers in a variable\n",
    "\n",
    "    df: dataframe\n",
    "    col: dataframe column\n",
    "    \"\"\"\n",
    "    Q1 = df[col].quantile(0.25)  # 25th quantile\n",
    "    Q3 = df[col].quantile(0.75)  # 75th quantile\n",
    "    IQR = Q3 - Q1\n",
    "    Lower_Whisker = Q1 - 1.5 * IQR\n",
    "    Upper_Whisker = Q3 + 1.5 * IQR\n",
    "\n",
    "    # all the values smaller than Lower_Whisker will be assigned the value of Lower_Whisker\n",
    "    # all the values greater than Upper_Whisker will be assigned the value of Upper_Whisker\n",
    "    df[col] = np.clip(df[col], Lower_Whisker, Upper_Whisker)\n",
    "\n",
    "    return df\n",
    "\n",
    "\n",
    "def treat_outliers_all(df, col_list):\n",
    "    \"\"\"\n",
    "    Treat outliers in a list of variables\n",
    "\n",
    "    df: dataframe\n",
    "    col_list: list of dataframe columns\n",
    "    \"\"\"\n",
    "    for c in col_list:\n",
    "        df = treat_outliers(df, c)\n",
    "\n",
    "    return df"
   ]
  },
  {
   "cell_type": "code",
   "execution_count": 28,
   "metadata": {},
   "outputs": [
    {
     "data": {
      "application/javascript": [
       "\n",
       "            setTimeout(function() {\n",
       "                var nbb_cell_id = 28;\n",
       "                var nbb_unformatted_code = \"# list of columns to treat for outliers\\ntreat_out_cols = [\\n    \\\"weight\\\",\\n    \\\"normalized_new_price\\\",\\n    \\\"normalized_used_price\\\",\\n    \\\"battery\\\",\\n    \\\"int_memory\\\",\\n    \\\"selfie_camera_mp\\\",\\n    \\\"main_camera_mp\\\",\\n    \\\"screen_size\\\",\\n]\";\n",
       "                var nbb_formatted_code = \"# list of columns to treat for outliers\\ntreat_out_cols = [\\n    \\\"weight\\\",\\n    \\\"normalized_new_price\\\",\\n    \\\"normalized_used_price\\\",\\n    \\\"battery\\\",\\n    \\\"int_memory\\\",\\n    \\\"selfie_camera_mp\\\",\\n    \\\"main_camera_mp\\\",\\n    \\\"screen_size\\\",\\n]\";\n",
       "                var nbb_cells = Jupyter.notebook.get_cells();\n",
       "                for (var i = 0; i < nbb_cells.length; ++i) {\n",
       "                    if (nbb_cells[i].input_prompt_number == nbb_cell_id) {\n",
       "                        if (nbb_cells[i].get_text() == nbb_unformatted_code) {\n",
       "                             nbb_cells[i].set_text(nbb_formatted_code);\n",
       "                        }\n",
       "                        break;\n",
       "                    }\n",
       "                }\n",
       "            }, 500);\n",
       "            "
      ],
      "text/plain": [
       "<IPython.core.display.Javascript object>"
      ]
     },
     "metadata": {},
     "output_type": "display_data"
    }
   ],
   "source": [
    "# list of columns to treat for outliers\n",
    "treat_out_cols = [\n",
    "    \"weight\",\n",
    "    \"normalized_new_price\",\n",
    "    \"normalized_used_price\",\n",
    "    \"battery\",\n",
    "    \"int_memory\",\n",
    "    \"selfie_camera_mp\",\n",
    "    \"main_camera_mp\",\n",
    "    \"screen_size\",\n",
    "]"
   ]
  },
  {
   "cell_type": "code",
   "execution_count": 29,
   "metadata": {},
   "outputs": [
    {
     "data": {
      "application/javascript": [
       "\n",
       "            setTimeout(function() {\n",
       "                var nbb_cell_id = 29;\n",
       "                var nbb_unformatted_code = \"# create a new data frame after treating outliers in the colums\\ndf2 = treat_outliers_all(df1, treat_out_cols)\";\n",
       "                var nbb_formatted_code = \"# create a new data frame after treating outliers in the colums\\ndf2 = treat_outliers_all(df1, treat_out_cols)\";\n",
       "                var nbb_cells = Jupyter.notebook.get_cells();\n",
       "                for (var i = 0; i < nbb_cells.length; ++i) {\n",
       "                    if (nbb_cells[i].input_prompt_number == nbb_cell_id) {\n",
       "                        if (nbb_cells[i].get_text() == nbb_unformatted_code) {\n",
       "                             nbb_cells[i].set_text(nbb_formatted_code);\n",
       "                        }\n",
       "                        break;\n",
       "                    }\n",
       "                }\n",
       "            }, 500);\n",
       "            "
      ],
      "text/plain": [
       "<IPython.core.display.Javascript object>"
      ]
     },
     "metadata": {},
     "output_type": "display_data"
    }
   ],
   "source": [
    "# create a new data frame after treating outliers in the colums\n",
    "df2 = treat_outliers_all(df1, treat_out_cols)"
   ]
  },
  {
   "cell_type": "code",
   "execution_count": 30,
   "metadata": {},
   "outputs": [
    {
     "data": {
      "image/png": "[encoded data removed]",
      "text/plain": [
       "<Figure size 1080x1080 with 11 Axes>"
      ]
     },
     "metadata": {
      "needs_background": "light"
     },
     "output_type": "display_data"
    },
    {
     "data": {
      "application/javascript": [
       "\n",
       "            setTimeout(function() {\n",
       "                var nbb_cell_id = 30;\n",
       "                var nbb_unformatted_code = \"# outlier detection using boxplot\\nnumeric_columns = df2.select_dtypes(include=np.number).columns.tolist()\\n\\nplt.figure(figsize=(15, 15))\\n\\nfor i, variable in enumerate(numeric_columns):\\n    plt.subplot(3, 4, i + 1)\\n    plt.boxplot(df1[variable], whis=1.5)\\n    plt.tight_layout()\\n    plt.title(variable)\\n\\nplt.show()\";\n",
       "                var nbb_formatted_code = \"# outlier detection using boxplot\\nnumeric_columns = df2.select_dtypes(include=np.number).columns.tolist()\\n\\nplt.figure(figsize=(15, 15))\\n\\nfor i, variable in enumerate(numeric_columns):\\n    plt.subplot(3, 4, i + 1)\\n    plt.boxplot(df1[variable], whis=1.5)\\n    plt.tight_layout()\\n    plt.title(variable)\\n\\nplt.show()\";\n",
       "                var nbb_cells = Jupyter.notebook.get_cells();\n",
       "                for (var i = 0; i < nbb_cells.length; ++i) {\n",
       "                    if (nbb_cells[i].input_prompt_number == nbb_cell_id) {\n",
       "                        if (nbb_cells[i].get_text() == nbb_unformatted_code) {\n",
       "                             nbb_cells[i].set_text(nbb_formatted_code);\n",
       "                        }\n",
       "                        break;\n",
       "                    }\n",
       "                }\n",
       "            }, 500);\n",
       "            "
      ],
      "text/plain": [
       "<IPython.core.display.Javascript object>"
      ]
     },
     "metadata": {},
     "output_type": "display_data"
    }
   ],
   "source": [
    "# outlier detection using boxplot\n",
    "numeric_columns = df2.select_dtypes(include=np.number).columns.tolist()\n",
    "\n",
    "plt.figure(figsize=(15, 15))\n",
    "\n",
    "for i, variable in enumerate(numeric_columns):\n",
    "    plt.subplot(3, 4, i + 1)\n",
    "    plt.boxplot(df1[variable], whis=1.5)\n",
    "    plt.tight_layout()\n",
    "    plt.title(variable)\n",
    "\n",
    "plt.show()"
   ]
  },
  {
   "cell_type": "markdown",
   "metadata": {},
   "source": [
    "- All outliers in the independent columns were treated apart from the ram column.\n",
    "- From question 3 of EDA, We will drop \"RAM\" column as majority of dataset has a constant RAM of 4GB with a few upper and lower outliers."
   ]
  },
  {
   "cell_type": "code",
   "execution_count": 31,
   "metadata": {},
   "outputs": [
    {
     "data": {
      "application/javascript": [
       "\n",
       "            setTimeout(function() {\n",
       "                var nbb_cell_id = 31;\n",
       "                var nbb_unformatted_code = \"df1.drop(\\\"ram\\\", axis=1, inplace=True)\";\n",
       "                var nbb_formatted_code = \"df1.drop(\\\"ram\\\", axis=1, inplace=True)\";\n",
       "                var nbb_cells = Jupyter.notebook.get_cells();\n",
       "                for (var i = 0; i < nbb_cells.length; ++i) {\n",
       "                    if (nbb_cells[i].input_prompt_number == nbb_cell_id) {\n",
       "                        if (nbb_cells[i].get_text() == nbb_unformatted_code) {\n",
       "                             nbb_cells[i].set_text(nbb_formatted_code);\n",
       "                        }\n",
       "                        break;\n",
       "                    }\n",
       "                }\n",
       "            }, 500);\n",
       "            "
      ],
      "text/plain": [
       "<IPython.core.display.Javascript object>"
      ]
     },
     "metadata": {},
     "output_type": "display_data"
    }
   ],
   "source": [
    "df1.drop(\"ram\", axis=1, inplace=True)"
   ]
  },
  {
   "cell_type": "code",
   "execution_count": 32,
   "metadata": {},
   "outputs": [
    {
     "data": {
      "application/javascript": [
       "\n",
       "            setTimeout(function() {\n",
       "                var nbb_cell_id = 32;\n",
       "                var nbb_unformatted_code = \"numeric_columns.remove(\\\"ram\\\")\";\n",
       "                var nbb_formatted_code = \"numeric_columns.remove(\\\"ram\\\")\";\n",
       "                var nbb_cells = Jupyter.notebook.get_cells();\n",
       "                for (var i = 0; i < nbb_cells.length; ++i) {\n",
       "                    if (nbb_cells[i].input_prompt_number == nbb_cell_id) {\n",
       "                        if (nbb_cells[i].get_text() == nbb_unformatted_code) {\n",
       "                             nbb_cells[i].set_text(nbb_formatted_code);\n",
       "                        }\n",
       "                        break;\n",
       "                    }\n",
       "                }\n",
       "            }, 500);\n",
       "            "
      ],
      "text/plain": [
       "<IPython.core.display.Javascript object>"
      ]
     },
     "metadata": {},
     "output_type": "display_data"
    }
   ],
   "source": [
    "numeric_columns.remove(\"ram\")"
   ]
  },
  {
   "cell_type": "code",
   "execution_count": 33,
   "metadata": {},
   "outputs": [
    {
     "data": {
      "image/png": "[encoded data removed]",
      "text/plain": [
       "<Figure size 1080x1080 with 10 Axes>"
      ]
     },
     "metadata": {
      "needs_background": "light"
     },
     "output_type": "display_data"
    },
    {
     "data": {
      "application/javascript": [
       "\n",
       "            setTimeout(function() {\n",
       "                var nbb_cell_id = 33;\n",
       "                var nbb_unformatted_code = \"# outlier detection using boxplot\\nnumeric_columns = df2.select_dtypes(include=np.number).columns.tolist()\\n\\nplt.figure(figsize=(15, 15))\\n\\nfor i, variable in enumerate(numeric_columns):\\n    plt.subplot(3, 4, i + 1)\\n    plt.boxplot(df1[variable], whis=1.5)\\n    plt.tight_layout()\\n    plt.title(variable)\\n\\nplt.show()\";\n",
       "                var nbb_formatted_code = \"# outlier detection using boxplot\\nnumeric_columns = df2.select_dtypes(include=np.number).columns.tolist()\\n\\nplt.figure(figsize=(15, 15))\\n\\nfor i, variable in enumerate(numeric_columns):\\n    plt.subplot(3, 4, i + 1)\\n    plt.boxplot(df1[variable], whis=1.5)\\n    plt.tight_layout()\\n    plt.title(variable)\\n\\nplt.show()\";\n",
       "                var nbb_cells = Jupyter.notebook.get_cells();\n",
       "                for (var i = 0; i < nbb_cells.length; ++i) {\n",
       "                    if (nbb_cells[i].input_prompt_number == nbb_cell_id) {\n",
       "                        if (nbb_cells[i].get_text() == nbb_unformatted_code) {\n",
       "                             nbb_cells[i].set_text(nbb_formatted_code);\n",
       "                        }\n",
       "                        break;\n",
       "                    }\n",
       "                }\n",
       "            }, 500);\n",
       "            "
      ],
      "text/plain": [
       "<IPython.core.display.Javascript object>"
      ]
     },
     "metadata": {},
     "output_type": "display_data"
    }
   ],
   "source": [
    "# outlier detection using boxplot\n",
    "numeric_columns = df2.select_dtypes(include=np.number).columns.tolist()\n",
    "\n",
    "plt.figure(figsize=(15, 15))\n",
    "\n",
    "for i, variable in enumerate(numeric_columns):\n",
    "    plt.subplot(3, 4, i + 1)\n",
    "    plt.boxplot(df1[variable], whis=1.5)\n",
    "    plt.tight_layout()\n",
    "    plt.title(variable)\n",
    "\n",
    "plt.show()"
   ]
  },
  {
   "cell_type": "markdown",
   "metadata": {},
   "source": [
    "- All outliers have been treated"
   ]
  },
  {
   "cell_type": "markdown",
   "metadata": {
    "id": "KNzFis7eEaXj"
   },
   "source": [
    "## EDA"
   ]
  },
  {
   "cell_type": "markdown",
   "metadata": {
    "id": "ZkYW8xGS5xdR"
   },
   "source": [
    "- It is a good idea to explore the data once again after manipulating it."
   ]
  },
  {
   "cell_type": "code",
   "execution_count": 34,
   "metadata": {},
   "outputs": [
    {
     "data": {
      "text/html": [
       "<div>\n",
       "<style scoped>\n",
       "    .dataframe tbody tr th:only-of-type {\n",
       "        vertical-align: middle;\n",
       "    }\n",
       "\n",
       "    .dataframe tbody tr th {\n",
       "        vertical-align: top;\n",
       "    }\n",
       "\n",
       "    .dataframe thead th {\n",
       "        text-align: right;\n",
       "    }\n",
       "</style>\n",
       "<table border=\"1\" class=\"dataframe\">\n",
       "  <thead>\n",
       "    <tr style=\"text-align: right;\">\n",
       "      <th></th>\n",
       "      <th>count</th>\n",
       "      <th>unique</th>\n",
       "      <th>top</th>\n",
       "      <th>freq</th>\n",
       "      <th>mean</th>\n",
       "      <th>std</th>\n",
       "      <th>min</th>\n",
       "      <th>25%</th>\n",
       "      <th>50%</th>\n",
       "      <th>75%</th>\n",
       "      <th>max</th>\n",
       "    </tr>\n",
       "  </thead>\n",
       "  <tbody>\n",
       "    <tr>\n",
       "      <th>brand_name</th>\n",
       "      <td>3454</td>\n",
       "      <td>34</td>\n",
       "      <td>Others</td>\n",
       "      <td>502</td>\n",
       "      <td>NaN</td>\n",
       "      <td>NaN</td>\n",
       "      <td>NaN</td>\n",
       "      <td>NaN</td>\n",
       "      <td>NaN</td>\n",
       "      <td>NaN</td>\n",
       "      <td>NaN</td>\n",
       "    </tr>\n",
       "    <tr>\n",
       "      <th>os</th>\n",
       "      <td>3454</td>\n",
       "      <td>4</td>\n",
       "      <td>Android</td>\n",
       "      <td>3214</td>\n",
       "      <td>NaN</td>\n",
       "      <td>NaN</td>\n",
       "      <td>NaN</td>\n",
       "      <td>NaN</td>\n",
       "      <td>NaN</td>\n",
       "      <td>NaN</td>\n",
       "      <td>NaN</td>\n",
       "    </tr>\n",
       "    <tr>\n",
       "      <th>screen_size</th>\n",
       "      <td>3454.0</td>\n",
       "      <td>NaN</td>\n",
       "      <td>NaN</td>\n",
       "      <td>NaN</td>\n",
       "      <td>13.551595</td>\n",
       "      <td>2.807499</td>\n",
       "      <td>8.74</td>\n",
       "      <td>12.7</td>\n",
       "      <td>12.83</td>\n",
       "      <td>15.34</td>\n",
       "      <td>19.3</td>\n",
       "    </tr>\n",
       "    <tr>\n",
       "      <th>4g</th>\n",
       "      <td>3454</td>\n",
       "      <td>2</td>\n",
       "      <td>yes</td>\n",
       "      <td>2335</td>\n",
       "      <td>NaN</td>\n",
       "      <td>NaN</td>\n",
       "      <td>NaN</td>\n",
       "      <td>NaN</td>\n",
       "      <td>NaN</td>\n",
       "      <td>NaN</td>\n",
       "      <td>NaN</td>\n",
       "    </tr>\n",
       "    <tr>\n",
       "      <th>5g</th>\n",
       "      <td>3454</td>\n",
       "      <td>2</td>\n",
       "      <td>no</td>\n",
       "      <td>3302</td>\n",
       "      <td>NaN</td>\n",
       "      <td>NaN</td>\n",
       "      <td>NaN</td>\n",
       "      <td>NaN</td>\n",
       "      <td>NaN</td>\n",
       "      <td>NaN</td>\n",
       "      <td>NaN</td>\n",
       "    </tr>\n",
       "    <tr>\n",
       "      <th>main_camera_mp</th>\n",
       "      <td>3454.0</td>\n",
       "      <td>NaN</td>\n",
       "      <td>NaN</td>\n",
       "      <td>NaN</td>\n",
       "      <td>9.586329</td>\n",
       "      <td>4.572418</td>\n",
       "      <td>0.08</td>\n",
       "      <td>5.0</td>\n",
       "      <td>8.0</td>\n",
       "      <td>13.0</td>\n",
       "      <td>25.0</td>\n",
       "    </tr>\n",
       "    <tr>\n",
       "      <th>selfie_camera_mp</th>\n",
       "      <td>3454.0</td>\n",
       "      <td>NaN</td>\n",
       "      <td>NaN</td>\n",
       "      <td>NaN</td>\n",
       "      <td>5.96242</td>\n",
       "      <td>5.345927</td>\n",
       "      <td>0.0</td>\n",
       "      <td>2.0</td>\n",
       "      <td>5.0</td>\n",
       "      <td>8.0</td>\n",
       "      <td>17.0</td>\n",
       "    </tr>\n",
       "    <tr>\n",
       "      <th>int_memory</th>\n",
       "      <td>3454.0</td>\n",
       "      <td>NaN</td>\n",
       "      <td>NaN</td>\n",
       "      <td>NaN</td>\n",
       "      <td>44.694079</td>\n",
       "      <td>39.079988</td>\n",
       "      <td>0.01</td>\n",
       "      <td>16.0</td>\n",
       "      <td>32.0</td>\n",
       "      <td>64.0</td>\n",
       "      <td>136.0</td>\n",
       "    </tr>\n",
       "    <tr>\n",
       "      <th>battery</th>\n",
       "      <td>3454.0</td>\n",
       "      <td>NaN</td>\n",
       "      <td>NaN</td>\n",
       "      <td>NaN</td>\n",
       "      <td>3109.100898</td>\n",
       "      <td>1212.793754</td>\n",
       "      <td>500.0</td>\n",
       "      <td>2100.0</td>\n",
       "      <td>3000.0</td>\n",
       "      <td>4000.0</td>\n",
       "      <td>6850.0</td>\n",
       "    </tr>\n",
       "    <tr>\n",
       "      <th>weight</th>\n",
       "      <td>3454.0</td>\n",
       "      <td>NaN</td>\n",
       "      <td>NaN</td>\n",
       "      <td>NaN</td>\n",
       "      <td>166.817371</td>\n",
       "      <td>38.857747</td>\n",
       "      <td>77.5</td>\n",
       "      <td>142.0</td>\n",
       "      <td>160.0</td>\n",
       "      <td>185.0</td>\n",
       "      <td>249.5</td>\n",
       "    </tr>\n",
       "    <tr>\n",
       "      <th>days_used</th>\n",
       "      <td>3454.0</td>\n",
       "      <td>NaN</td>\n",
       "      <td>NaN</td>\n",
       "      <td>NaN</td>\n",
       "      <td>674.869716</td>\n",
       "      <td>248.580166</td>\n",
       "      <td>91.0</td>\n",
       "      <td>533.5</td>\n",
       "      <td>690.5</td>\n",
       "      <td>868.75</td>\n",
       "      <td>1094.0</td>\n",
       "    </tr>\n",
       "    <tr>\n",
       "      <th>normalized_used_price</th>\n",
       "      <td>3454.0</td>\n",
       "      <td>NaN</td>\n",
       "      <td>NaN</td>\n",
       "      <td>NaN</td>\n",
       "      <td>4.371501</td>\n",
       "      <td>0.562947</td>\n",
       "      <td>2.951277</td>\n",
       "      <td>4.033931</td>\n",
       "      <td>4.405133</td>\n",
       "      <td>4.7557</td>\n",
       "      <td>5.838354</td>\n",
       "    </tr>\n",
       "    <tr>\n",
       "      <th>normalized_new_price</th>\n",
       "      <td>3454.0</td>\n",
       "      <td>NaN</td>\n",
       "      <td>NaN</td>\n",
       "      <td>NaN</td>\n",
       "      <td>5.234936</td>\n",
       "      <td>0.666538</td>\n",
       "      <td>3.465277</td>\n",
       "      <td>4.790342</td>\n",
       "      <td>5.245892</td>\n",
       "      <td>5.673718</td>\n",
       "      <td>6.998783</td>\n",
       "    </tr>\n",
       "    <tr>\n",
       "      <th>years_since_release</th>\n",
       "      <td>3454.0</td>\n",
       "      <td>NaN</td>\n",
       "      <td>NaN</td>\n",
       "      <td>NaN</td>\n",
       "      <td>5.034742</td>\n",
       "      <td>2.298455</td>\n",
       "      <td>1.0</td>\n",
       "      <td>3.0</td>\n",
       "      <td>5.5</td>\n",
       "      <td>7.0</td>\n",
       "      <td>8.0</td>\n",
       "    </tr>\n",
       "  </tbody>\n",
       "</table>\n",
       "</div>"
      ],
      "text/plain": [
       "                        count unique      top  freq         mean          std  \\\n",
       "brand_name               3454     34   Others   502          NaN          NaN   \n",
       "os                       3454      4  Android  3214          NaN          NaN   \n",
       "screen_size            3454.0    NaN      NaN   NaN    13.551595     2.807499   \n",
       "4g                       3454      2      yes  2335          NaN          NaN   \n",
       "5g                       3454      2       no  3302          NaN          NaN   \n",
       "main_camera_mp         3454.0    NaN      NaN   NaN     9.586329     4.572418   \n",
       "selfie_camera_mp       3454.0    NaN      NaN   NaN      5.96242     5.345927   \n",
       "int_memory             3454.0    NaN      NaN   NaN    44.694079    39.079988   \n",
       "battery                3454.0    NaN      NaN   NaN  3109.100898  1212.793754   \n",
       "weight                 3454.0    NaN      NaN   NaN   166.817371    38.857747   \n",
       "days_used              3454.0    NaN      NaN   NaN   674.869716   248.580166   \n",
       "normalized_used_price  3454.0    NaN      NaN   NaN     4.371501     0.562947   \n",
       "normalized_new_price   3454.0    NaN      NaN   NaN     5.234936     0.666538   \n",
       "years_since_release    3454.0    NaN      NaN   NaN     5.034742     2.298455   \n",
       "\n",
       "                            min       25%       50%       75%       max  \n",
       "brand_name                  NaN       NaN       NaN       NaN       NaN  \n",
       "os                          NaN       NaN       NaN       NaN       NaN  \n",
       "screen_size                8.74      12.7     12.83     15.34      19.3  \n",
       "4g                          NaN       NaN       NaN       NaN       NaN  \n",
       "5g                          NaN       NaN       NaN       NaN       NaN  \n",
       "main_camera_mp             0.08       5.0       8.0      13.0      25.0  \n",
       "selfie_camera_mp            0.0       2.0       5.0       8.0      17.0  \n",
       "int_memory                 0.01      16.0      32.0      64.0     136.0  \n",
       "battery                   500.0    2100.0    3000.0    4000.0    6850.0  \n",
       "weight                     77.5     142.0     160.0     185.0     249.5  \n",
       "days_used                  91.0     533.5     690.5    868.75    1094.0  \n",
       "normalized_used_price  2.951277  4.033931  4.405133    4.7557  5.838354  \n",
       "normalized_new_price   3.465277  4.790342  5.245892  5.673718  6.998783  \n",
       "years_since_release         1.0       3.0       5.5       7.0       8.0  "
      ]
     },
     "execution_count": 34,
     "metadata": {},
     "output_type": "execute_result"
    },
    {
     "data": {
      "application/javascript": [
       "\n",
       "            setTimeout(function() {\n",
       "                var nbb_cell_id = 34;\n",
       "                var nbb_unformatted_code = \"# check the statistical summary once again\\ndf2.describe(include=\\\"all\\\").T\";\n",
       "                var nbb_formatted_code = \"# check the statistical summary once again\\ndf2.describe(include=\\\"all\\\").T\";\n",
       "                var nbb_cells = Jupyter.notebook.get_cells();\n",
       "                for (var i = 0; i < nbb_cells.length; ++i) {\n",
       "                    if (nbb_cells[i].input_prompt_number == nbb_cell_id) {\n",
       "                        if (nbb_cells[i].get_text() == nbb_unformatted_code) {\n",
       "                             nbb_cells[i].set_text(nbb_formatted_code);\n",
       "                        }\n",
       "                        break;\n",
       "                    }\n",
       "                }\n",
       "            }, 500);\n",
       "            "
      ],
      "text/plain": [
       "<IPython.core.display.Javascript object>"
      ]
     },
     "metadata": {},
     "output_type": "display_data"
    }
   ],
   "source": [
    "# check the statistical summary once again\n",
    "df2.describe(include=\"all\").T"
   ]
  },
  {
   "cell_type": "code",
   "execution_count": 35,
   "metadata": {},
   "outputs": [
    {
     "data": {
      "text/plain": [
       "0"
      ]
     },
     "execution_count": 35,
     "metadata": {},
     "output_type": "execute_result"
    },
    {
     "data": {
      "application/javascript": [
       "\n",
       "            setTimeout(function() {\n",
       "                var nbb_cell_id = 35;\n",
       "                var nbb_unformatted_code = \"# check missing values of df2\\ndf2.isnull().sum().sum()\";\n",
       "                var nbb_formatted_code = \"# check missing values of df2\\ndf2.isnull().sum().sum()\";\n",
       "                var nbb_cells = Jupyter.notebook.get_cells();\n",
       "                for (var i = 0; i < nbb_cells.length; ++i) {\n",
       "                    if (nbb_cells[i].input_prompt_number == nbb_cell_id) {\n",
       "                        if (nbb_cells[i].get_text() == nbb_unformatted_code) {\n",
       "                             nbb_cells[i].set_text(nbb_formatted_code);\n",
       "                        }\n",
       "                        break;\n",
       "                    }\n",
       "                }\n",
       "            }, 500);\n",
       "            "
      ],
      "text/plain": [
       "<IPython.core.display.Javascript object>"
      ]
     },
     "metadata": {},
     "output_type": "display_data"
    }
   ],
   "source": [
    "# check missing values of df2\n",
    "df2.isnull().sum().sum()"
   ]
  },
  {
   "cell_type": "code",
   "execution_count": 36,
   "metadata": {},
   "outputs": [
    {
     "data": {
      "text/html": [
       "<div>\n",
       "<style scoped>\n",
       "    .dataframe tbody tr th:only-of-type {\n",
       "        vertical-align: middle;\n",
       "    }\n",
       "\n",
       "    .dataframe tbody tr th {\n",
       "        vertical-align: top;\n",
       "    }\n",
       "\n",
       "    .dataframe thead th {\n",
       "        text-align: right;\n",
       "    }\n",
       "</style>\n",
       "<table border=\"1\" class=\"dataframe\">\n",
       "  <thead>\n",
       "    <tr style=\"text-align: right;\">\n",
       "      <th></th>\n",
       "      <th>brand_name</th>\n",
       "      <th>os</th>\n",
       "      <th>screen_size</th>\n",
       "      <th>4g</th>\n",
       "      <th>5g</th>\n",
       "      <th>main_camera_mp</th>\n",
       "      <th>selfie_camera_mp</th>\n",
       "      <th>int_memory</th>\n",
       "      <th>battery</th>\n",
       "      <th>weight</th>\n",
       "      <th>days_used</th>\n",
       "      <th>normalized_used_price</th>\n",
       "      <th>normalized_new_price</th>\n",
       "      <th>years_since_release</th>\n",
       "    </tr>\n",
       "  </thead>\n",
       "  <tbody>\n",
       "    <tr>\n",
       "      <th>0</th>\n",
       "      <td>Honor</td>\n",
       "      <td>Android</td>\n",
       "      <td>14.50</td>\n",
       "      <td>yes</td>\n",
       "      <td>no</td>\n",
       "      <td>13.0</td>\n",
       "      <td>5.0</td>\n",
       "      <td>64.0</td>\n",
       "      <td>3020.0</td>\n",
       "      <td>146.0</td>\n",
       "      <td>127</td>\n",
       "      <td>4.307572</td>\n",
       "      <td>4.715100</td>\n",
       "      <td>1</td>\n",
       "    </tr>\n",
       "    <tr>\n",
       "      <th>1</th>\n",
       "      <td>Honor</td>\n",
       "      <td>Android</td>\n",
       "      <td>17.30</td>\n",
       "      <td>yes</td>\n",
       "      <td>yes</td>\n",
       "      <td>13.0</td>\n",
       "      <td>16.0</td>\n",
       "      <td>128.0</td>\n",
       "      <td>4300.0</td>\n",
       "      <td>213.0</td>\n",
       "      <td>325</td>\n",
       "      <td>5.162097</td>\n",
       "      <td>5.519018</td>\n",
       "      <td>1</td>\n",
       "    </tr>\n",
       "    <tr>\n",
       "      <th>2</th>\n",
       "      <td>Honor</td>\n",
       "      <td>Android</td>\n",
       "      <td>16.69</td>\n",
       "      <td>yes</td>\n",
       "      <td>yes</td>\n",
       "      <td>13.0</td>\n",
       "      <td>8.0</td>\n",
       "      <td>128.0</td>\n",
       "      <td>4200.0</td>\n",
       "      <td>213.0</td>\n",
       "      <td>162</td>\n",
       "      <td>5.111084</td>\n",
       "      <td>5.884631</td>\n",
       "      <td>1</td>\n",
       "    </tr>\n",
       "    <tr>\n",
       "      <th>3</th>\n",
       "      <td>Honor</td>\n",
       "      <td>Android</td>\n",
       "      <td>19.30</td>\n",
       "      <td>yes</td>\n",
       "      <td>yes</td>\n",
       "      <td>13.0</td>\n",
       "      <td>8.0</td>\n",
       "      <td>64.0</td>\n",
       "      <td>6850.0</td>\n",
       "      <td>249.5</td>\n",
       "      <td>345</td>\n",
       "      <td>5.135387</td>\n",
       "      <td>5.630961</td>\n",
       "      <td>1</td>\n",
       "    </tr>\n",
       "    <tr>\n",
       "      <th>4</th>\n",
       "      <td>Honor</td>\n",
       "      <td>Android</td>\n",
       "      <td>15.32</td>\n",
       "      <td>yes</td>\n",
       "      <td>no</td>\n",
       "      <td>13.0</td>\n",
       "      <td>8.0</td>\n",
       "      <td>64.0</td>\n",
       "      <td>5000.0</td>\n",
       "      <td>185.0</td>\n",
       "      <td>293</td>\n",
       "      <td>4.389995</td>\n",
       "      <td>4.947837</td>\n",
       "      <td>1</td>\n",
       "    </tr>\n",
       "  </tbody>\n",
       "</table>\n",
       "</div>"
      ],
      "text/plain": [
       "  brand_name       os  screen_size   4g   5g  main_camera_mp  \\\n",
       "0      Honor  Android        14.50  yes   no            13.0   \n",
       "1      Honor  Android        17.30  yes  yes            13.0   \n",
       "2      Honor  Android        16.69  yes  yes            13.0   \n",
       "3      Honor  Android        19.30  yes  yes            13.0   \n",
       "4      Honor  Android        15.32  yes   no            13.0   \n",
       "\n",
       "   selfie_camera_mp  int_memory  battery  weight  days_used  \\\n",
       "0               5.0        64.0   3020.0   146.0        127   \n",
       "1              16.0       128.0   4300.0   213.0        325   \n",
       "2               8.0       128.0   4200.0   213.0        162   \n",
       "3               8.0        64.0   6850.0   249.5        345   \n",
       "4               8.0        64.0   5000.0   185.0        293   \n",
       "\n",
       "   normalized_used_price  normalized_new_price  years_since_release  \n",
       "0               4.307572              4.715100                    1  \n",
       "1               5.162097              5.519018                    1  \n",
       "2               5.111084              5.884631                    1  \n",
       "3               5.135387              5.630961                    1  \n",
       "4               4.389995              4.947837                    1  "
      ]
     },
     "execution_count": 36,
     "metadata": {},
     "output_type": "execute_result"
    },
    {
     "data": {
      "application/javascript": [
       "\n",
       "            setTimeout(function() {\n",
       "                var nbb_cell_id = 36;\n",
       "                var nbb_unformatted_code = \"# display the first 5 rows of df2\\ndf2.head()\";\n",
       "                var nbb_formatted_code = \"# display the first 5 rows of df2\\ndf2.head()\";\n",
       "                var nbb_cells = Jupyter.notebook.get_cells();\n",
       "                for (var i = 0; i < nbb_cells.length; ++i) {\n",
       "                    if (nbb_cells[i].input_prompt_number == nbb_cell_id) {\n",
       "                        if (nbb_cells[i].get_text() == nbb_unformatted_code) {\n",
       "                             nbb_cells[i].set_text(nbb_formatted_code);\n",
       "                        }\n",
       "                        break;\n",
       "                    }\n",
       "                }\n",
       "            }, 500);\n",
       "            "
      ],
      "text/plain": [
       "<IPython.core.display.Javascript object>"
      ]
     },
     "metadata": {},
     "output_type": "display_data"
    }
   ],
   "source": [
    "# display the first 5 rows of df2\n",
    "df2.head()"
   ]
  },
  {
   "cell_type": "code",
   "execution_count": 37,
   "metadata": {},
   "outputs": [
    {
     "data": {
      "text/plain": [
       "34"
      ]
     },
     "execution_count": 37,
     "metadata": {},
     "output_type": "execute_result"
    },
    {
     "data": {
      "application/javascript": [
       "\n",
       "            setTimeout(function() {\n",
       "                var nbb_cell_id = 37;\n",
       "                var nbb_unformatted_code = \"# check the unique value\\ndf2[\\\"brand_name\\\"].nunique()\";\n",
       "                var nbb_formatted_code = \"# check the unique value\\ndf2[\\\"brand_name\\\"].nunique()\";\n",
       "                var nbb_cells = Jupyter.notebook.get_cells();\n",
       "                for (var i = 0; i < nbb_cells.length; ++i) {\n",
       "                    if (nbb_cells[i].input_prompt_number == nbb_cell_id) {\n",
       "                        if (nbb_cells[i].get_text() == nbb_unformatted_code) {\n",
       "                             nbb_cells[i].set_text(nbb_formatted_code);\n",
       "                        }\n",
       "                        break;\n",
       "                    }\n",
       "                }\n",
       "            }, 500);\n",
       "            "
      ],
      "text/plain": [
       "<IPython.core.display.Javascript object>"
      ]
     },
     "metadata": {},
     "output_type": "display_data"
    }
   ],
   "source": [
    "# check the unique value\n",
    "df2[\"brand_name\"].nunique()"
   ]
  },
  {
   "cell_type": "markdown",
   "metadata": {},
   "source": [
    "- This column has a lot of categories (34), which means that after creating dummies, there will be a lot of columns. Let's get rid of it."
   ]
  },
  {
   "cell_type": "code",
   "execution_count": 38,
   "metadata": {},
   "outputs": [
    {
     "data": {
      "text/html": [
       "<div>\n",
       "<style scoped>\n",
       "    .dataframe tbody tr th:only-of-type {\n",
       "        vertical-align: middle;\n",
       "    }\n",
       "\n",
       "    .dataframe tbody tr th {\n",
       "        vertical-align: top;\n",
       "    }\n",
       "\n",
       "    .dataframe thead th {\n",
       "        text-align: right;\n",
       "    }\n",
       "</style>\n",
       "<table border=\"1\" class=\"dataframe\">\n",
       "  <thead>\n",
       "    <tr style=\"text-align: right;\">\n",
       "      <th></th>\n",
       "      <th>os</th>\n",
       "      <th>screen_size</th>\n",
       "      <th>4g</th>\n",
       "      <th>5g</th>\n",
       "      <th>main_camera_mp</th>\n",
       "      <th>selfie_camera_mp</th>\n",
       "      <th>int_memory</th>\n",
       "      <th>battery</th>\n",
       "      <th>weight</th>\n",
       "      <th>days_used</th>\n",
       "      <th>normalized_used_price</th>\n",
       "      <th>normalized_new_price</th>\n",
       "      <th>years_since_release</th>\n",
       "    </tr>\n",
       "  </thead>\n",
       "  <tbody>\n",
       "    <tr>\n",
       "      <th>0</th>\n",
       "      <td>Android</td>\n",
       "      <td>14.50</td>\n",
       "      <td>yes</td>\n",
       "      <td>no</td>\n",
       "      <td>13.0</td>\n",
       "      <td>5.0</td>\n",
       "      <td>64.0</td>\n",
       "      <td>3020.0</td>\n",
       "      <td>146.0</td>\n",
       "      <td>127</td>\n",
       "      <td>4.307572</td>\n",
       "      <td>4.715100</td>\n",
       "      <td>1</td>\n",
       "    </tr>\n",
       "    <tr>\n",
       "      <th>1</th>\n",
       "      <td>Android</td>\n",
       "      <td>17.30</td>\n",
       "      <td>yes</td>\n",
       "      <td>yes</td>\n",
       "      <td>13.0</td>\n",
       "      <td>16.0</td>\n",
       "      <td>128.0</td>\n",
       "      <td>4300.0</td>\n",
       "      <td>213.0</td>\n",
       "      <td>325</td>\n",
       "      <td>5.162097</td>\n",
       "      <td>5.519018</td>\n",
       "      <td>1</td>\n",
       "    </tr>\n",
       "    <tr>\n",
       "      <th>2</th>\n",
       "      <td>Android</td>\n",
       "      <td>16.69</td>\n",
       "      <td>yes</td>\n",
       "      <td>yes</td>\n",
       "      <td>13.0</td>\n",
       "      <td>8.0</td>\n",
       "      <td>128.0</td>\n",
       "      <td>4200.0</td>\n",
       "      <td>213.0</td>\n",
       "      <td>162</td>\n",
       "      <td>5.111084</td>\n",
       "      <td>5.884631</td>\n",
       "      <td>1</td>\n",
       "    </tr>\n",
       "    <tr>\n",
       "      <th>3</th>\n",
       "      <td>Android</td>\n",
       "      <td>19.30</td>\n",
       "      <td>yes</td>\n",
       "      <td>yes</td>\n",
       "      <td>13.0</td>\n",
       "      <td>8.0</td>\n",
       "      <td>64.0</td>\n",
       "      <td>6850.0</td>\n",
       "      <td>249.5</td>\n",
       "      <td>345</td>\n",
       "      <td>5.135387</td>\n",
       "      <td>5.630961</td>\n",
       "      <td>1</td>\n",
       "    </tr>\n",
       "    <tr>\n",
       "      <th>4</th>\n",
       "      <td>Android</td>\n",
       "      <td>15.32</td>\n",
       "      <td>yes</td>\n",
       "      <td>no</td>\n",
       "      <td>13.0</td>\n",
       "      <td>8.0</td>\n",
       "      <td>64.0</td>\n",
       "      <td>5000.0</td>\n",
       "      <td>185.0</td>\n",
       "      <td>293</td>\n",
       "      <td>4.389995</td>\n",
       "      <td>4.947837</td>\n",
       "      <td>1</td>\n",
       "    </tr>\n",
       "  </tbody>\n",
       "</table>\n",
       "</div>"
      ],
      "text/plain": [
       "        os  screen_size   4g   5g  main_camera_mp  selfie_camera_mp  \\\n",
       "0  Android        14.50  yes   no            13.0               5.0   \n",
       "1  Android        17.30  yes  yes            13.0              16.0   \n",
       "2  Android        16.69  yes  yes            13.0               8.0   \n",
       "3  Android        19.30  yes  yes            13.0               8.0   \n",
       "4  Android        15.32  yes   no            13.0               8.0   \n",
       "\n",
       "   int_memory  battery  weight  days_used  normalized_used_price  \\\n",
       "0        64.0   3020.0   146.0        127               4.307572   \n",
       "1       128.0   4300.0   213.0        325               5.162097   \n",
       "2       128.0   4200.0   213.0        162               5.111084   \n",
       "3        64.0   6850.0   249.5        345               5.135387   \n",
       "4        64.0   5000.0   185.0        293               4.389995   \n",
       "\n",
       "   normalized_new_price  years_since_release  \n",
       "0              4.715100                    1  \n",
       "1              5.519018                    1  \n",
       "2              5.884631                    1  \n",
       "3              5.630961                    1  \n",
       "4              4.947837                    1  "
      ]
     },
     "execution_count": 38,
     "metadata": {},
     "output_type": "execute_result"
    },
    {
     "data": {
      "application/javascript": [
       "\n",
       "            setTimeout(function() {\n",
       "                var nbb_cell_id = 38;\n",
       "                var nbb_unformatted_code = \"df2.drop([\\\"brand_name\\\"], axis=1, inplace=True)  # drop brand_name column\\ndf2.head()\";\n",
       "                var nbb_formatted_code = \"df2.drop([\\\"brand_name\\\"], axis=1, inplace=True)  # drop brand_name column\\ndf2.head()\";\n",
       "                var nbb_cells = Jupyter.notebook.get_cells();\n",
       "                for (var i = 0; i < nbb_cells.length; ++i) {\n",
       "                    if (nbb_cells[i].input_prompt_number == nbb_cell_id) {\n",
       "                        if (nbb_cells[i].get_text() == nbb_unformatted_code) {\n",
       "                             nbb_cells[i].set_text(nbb_formatted_code);\n",
       "                        }\n",
       "                        break;\n",
       "                    }\n",
       "                }\n",
       "            }, 500);\n",
       "            "
      ],
      "text/plain": [
       "<IPython.core.display.Javascript object>"
      ]
     },
     "metadata": {},
     "output_type": "display_data"
    }
   ],
   "source": [
    "df2.drop([\"brand_name\"], axis=1, inplace=True)  # drop brand_name column\n",
    "df2.head()"
   ]
  },
  {
   "cell_type": "markdown",
   "metadata": {},
   "source": [
    "- brand_name column dropped."
   ]
  },
  {
   "cell_type": "code",
   "execution_count": 39,
   "metadata": {
    "id": "4lcDTGi9EZ1M"
   },
   "outputs": [
    {
     "data": {
      "image/png": "[encoded data removed]",
      "text/plain": [
       "<Figure size 1080x504 with 2 Axes>"
      ]
     },
     "metadata": {
      "needs_background": "light"
     },
     "output_type": "display_data"
    },
    {
     "data": {
      "application/javascript": [
       "\n",
       "            setTimeout(function() {\n",
       "                var nbb_cell_id = 39;\n",
       "                var nbb_unformatted_code = \"# Now let's plot the correlation coefficients as a heatmap AFTER Outlier treatment (df2)\\nplt.figure(figsize=(15, 7))\\nsns.heatmap(df2.corr(), annot=True, vmin=-1, vmax=1, fmt=\\\".2f\\\", cmap=\\\"viridis_r\\\")\\nplt.show()\";\n",
       "                var nbb_formatted_code = \"# Now let's plot the correlation coefficients as a heatmap AFTER Outlier treatment (df2)\\nplt.figure(figsize=(15, 7))\\nsns.heatmap(df2.corr(), annot=True, vmin=-1, vmax=1, fmt=\\\".2f\\\", cmap=\\\"viridis_r\\\")\\nplt.show()\";\n",
       "                var nbb_cells = Jupyter.notebook.get_cells();\n",
       "                for (var i = 0; i < nbb_cells.length; ++i) {\n",
       "                    if (nbb_cells[i].input_prompt_number == nbb_cell_id) {\n",
       "                        if (nbb_cells[i].get_text() == nbb_unformatted_code) {\n",
       "                             nbb_cells[i].set_text(nbb_formatted_code);\n",
       "                        }\n",
       "                        break;\n",
       "                    }\n",
       "                }\n",
       "            }, 500);\n",
       "            "
      ],
      "text/plain": [
       "<IPython.core.display.Javascript object>"
      ]
     },
     "metadata": {},
     "output_type": "display_data"
    }
   ],
   "source": [
    "# Now let's plot the correlation coefficients as a heatmap AFTER Outlier treatment (df2)\n",
    "plt.figure(figsize=(15, 7))\n",
    "sns.heatmap(df2.corr(), annot=True, vmin=-1, vmax=1, fmt=\".2f\", cmap=\"viridis_r\")\n",
    "plt.show()"
   ]
  },
  {
   "cell_type": "code",
   "execution_count": 40,
   "metadata": {},
   "outputs": [
    {
     "data": {
      "text/html": [
       "<div>\n",
       "<style scoped>\n",
       "    .dataframe tbody tr th:only-of-type {\n",
       "        vertical-align: middle;\n",
       "    }\n",
       "\n",
       "    .dataframe tbody tr th {\n",
       "        vertical-align: top;\n",
       "    }\n",
       "\n",
       "    .dataframe thead th {\n",
       "        text-align: right;\n",
       "    }\n",
       "</style>\n",
       "<table border=\"1\" class=\"dataframe\">\n",
       "  <thead>\n",
       "    <tr style=\"text-align: right;\">\n",
       "      <th></th>\n",
       "      <th>screen_size</th>\n",
       "      <th>main_camera_mp</th>\n",
       "      <th>selfie_camera_mp</th>\n",
       "      <th>int_memory</th>\n",
       "      <th>battery</th>\n",
       "      <th>weight</th>\n",
       "      <th>days_used</th>\n",
       "      <th>normalized_used_price</th>\n",
       "      <th>normalized_new_price</th>\n",
       "      <th>years_since_release</th>\n",
       "    </tr>\n",
       "  </thead>\n",
       "  <tbody>\n",
       "    <tr>\n",
       "      <th>screen_size</th>\n",
       "      <td>1.000000</td>\n",
       "      <td>0.204570</td>\n",
       "      <td>0.403687</td>\n",
       "      <td>0.300567</td>\n",
       "      <td>0.803481</td>\n",
       "      <td>0.834742</td>\n",
       "      <td>-0.386352</td>\n",
       "      <td>0.641348</td>\n",
       "      <td>0.455358</td>\n",
       "      <td>-0.468920</td>\n",
       "    </tr>\n",
       "    <tr>\n",
       "      <th>main_camera_mp</th>\n",
       "      <td>0.204570</td>\n",
       "      <td>1.000000</td>\n",
       "      <td>0.520887</td>\n",
       "      <td>0.226755</td>\n",
       "      <td>0.298228</td>\n",
       "      <td>0.076556</td>\n",
       "      <td>-0.188209</td>\n",
       "      <td>0.604814</td>\n",
       "      <td>0.552803</td>\n",
       "      <td>-0.385520</td>\n",
       "    </tr>\n",
       "    <tr>\n",
       "      <th>selfie_camera_mp</th>\n",
       "      <td>0.403687</td>\n",
       "      <td>0.520887</td>\n",
       "      <td>1.000000</td>\n",
       "      <td>0.642208</td>\n",
       "      <td>0.445141</td>\n",
       "      <td>0.223409</td>\n",
       "      <td>-0.570164</td>\n",
       "      <td>0.662302</td>\n",
       "      <td>0.516408</td>\n",
       "      <td>-0.749158</td>\n",
       "    </tr>\n",
       "    <tr>\n",
       "      <th>int_memory</th>\n",
       "      <td>0.300567</td>\n",
       "      <td>0.226755</td>\n",
       "      <td>0.642208</td>\n",
       "      <td>1.000000</td>\n",
       "      <td>0.327993</td>\n",
       "      <td>0.208781</td>\n",
       "      <td>-0.494464</td>\n",
       "      <td>0.481600</td>\n",
       "      <td>0.414988</td>\n",
       "      <td>-0.549332</td>\n",
       "    </tr>\n",
       "    <tr>\n",
       "      <th>battery</th>\n",
       "      <td>0.803481</td>\n",
       "      <td>0.298228</td>\n",
       "      <td>0.445141</td>\n",
       "      <td>0.327993</td>\n",
       "      <td>1.000000</td>\n",
       "      <td>0.747080</td>\n",
       "      <td>-0.398989</td>\n",
       "      <td>0.641453</td>\n",
       "      <td>0.486278</td>\n",
       "      <td>-0.524084</td>\n",
       "    </tr>\n",
       "    <tr>\n",
       "      <th>weight</th>\n",
       "      <td>0.834742</td>\n",
       "      <td>0.076556</td>\n",
       "      <td>0.223409</td>\n",
       "      <td>0.208781</td>\n",
       "      <td>0.747080</td>\n",
       "      <td>1.000000</td>\n",
       "      <td>-0.238867</td>\n",
       "      <td>0.538237</td>\n",
       "      <td>0.402394</td>\n",
       "      <td>-0.285722</td>\n",
       "    </tr>\n",
       "    <tr>\n",
       "      <th>days_used</th>\n",
       "      <td>-0.386352</td>\n",
       "      <td>-0.188209</td>\n",
       "      <td>-0.570164</td>\n",
       "      <td>-0.494464</td>\n",
       "      <td>-0.398989</td>\n",
       "      <td>-0.238867</td>\n",
       "      <td>1.000000</td>\n",
       "      <td>-0.369863</td>\n",
       "      <td>-0.217342</td>\n",
       "      <td>0.750390</td>\n",
       "    </tr>\n",
       "    <tr>\n",
       "      <th>normalized_used_price</th>\n",
       "      <td>0.641348</td>\n",
       "      <td>0.604814</td>\n",
       "      <td>0.662302</td>\n",
       "      <td>0.481600</td>\n",
       "      <td>0.641453</td>\n",
       "      <td>0.538237</td>\n",
       "      <td>-0.369863</td>\n",
       "      <td>1.000000</td>\n",
       "      <td>0.828082</td>\n",
       "      <td>-0.519885</td>\n",
       "    </tr>\n",
       "    <tr>\n",
       "      <th>normalized_new_price</th>\n",
       "      <td>0.455358</td>\n",
       "      <td>0.552803</td>\n",
       "      <td>0.516408</td>\n",
       "      <td>0.414988</td>\n",
       "      <td>0.486278</td>\n",
       "      <td>0.402394</td>\n",
       "      <td>-0.217342</td>\n",
       "      <td>0.828082</td>\n",
       "      <td>1.000000</td>\n",
       "      <td>-0.302553</td>\n",
       "    </tr>\n",
       "    <tr>\n",
       "      <th>years_since_release</th>\n",
       "      <td>-0.468920</td>\n",
       "      <td>-0.385520</td>\n",
       "      <td>-0.749158</td>\n",
       "      <td>-0.549332</td>\n",
       "      <td>-0.524084</td>\n",
       "      <td>-0.285722</td>\n",
       "      <td>0.750390</td>\n",
       "      <td>-0.519885</td>\n",
       "      <td>-0.302553</td>\n",
       "      <td>1.000000</td>\n",
       "    </tr>\n",
       "  </tbody>\n",
       "</table>\n",
       "</div>"
      ],
      "text/plain": [
       "                       screen_size  main_camera_mp  selfie_camera_mp  \\\n",
       "screen_size               1.000000        0.204570          0.403687   \n",
       "main_camera_mp            0.204570        1.000000          0.520887   \n",
       "selfie_camera_mp          0.403687        0.520887          1.000000   \n",
       "int_memory                0.300567        0.226755          0.642208   \n",
       "battery                   0.803481        0.298228          0.445141   \n",
       "weight                    0.834742        0.076556          0.223409   \n",
       "days_used                -0.386352       -0.188209         -0.570164   \n",
       "normalized_used_price     0.641348        0.604814          0.662302   \n",
       "normalized_new_price      0.455358        0.552803          0.516408   \n",
       "years_since_release      -0.468920       -0.385520         -0.749158   \n",
       "\n",
       "                       int_memory   battery    weight  days_used  \\\n",
       "screen_size              0.300567  0.803481  0.834742  -0.386352   \n",
       "main_camera_mp           0.226755  0.298228  0.076556  -0.188209   \n",
       "selfie_camera_mp         0.642208  0.445141  0.223409  -0.570164   \n",
       "int_memory               1.000000  0.327993  0.208781  -0.494464   \n",
       "battery                  0.327993  1.000000  0.747080  -0.398989   \n",
       "weight                   0.208781  0.747080  1.000000  -0.238867   \n",
       "days_used               -0.494464 -0.398989 -0.238867   1.000000   \n",
       "normalized_used_price    0.481600  0.641453  0.538237  -0.369863   \n",
       "normalized_new_price     0.414988  0.486278  0.402394  -0.217342   \n",
       "years_since_release     -0.549332 -0.524084 -0.285722   0.750390   \n",
       "\n",
       "                       normalized_used_price  normalized_new_price  \\\n",
       "screen_size                         0.641348              0.455358   \n",
       "main_camera_mp                      0.604814              0.552803   \n",
       "selfie_camera_mp                    0.662302              0.516408   \n",
       "int_memory                          0.481600              0.414988   \n",
       "battery                             0.641453              0.486278   \n",
       "weight                              0.538237              0.402394   \n",
       "days_used                          -0.369863             -0.217342   \n",
       "normalized_used_price               1.000000              0.828082   \n",
       "normalized_new_price                0.828082              1.000000   \n",
       "years_since_release                -0.519885             -0.302553   \n",
       "\n",
       "                       years_since_release  \n",
       "screen_size                      -0.468920  \n",
       "main_camera_mp                   -0.385520  \n",
       "selfie_camera_mp                 -0.749158  \n",
       "int_memory                       -0.549332  \n",
       "battery                          -0.524084  \n",
       "weight                           -0.285722  \n",
       "days_used                         0.750390  \n",
       "normalized_used_price            -0.519885  \n",
       "normalized_new_price             -0.302553  \n",
       "years_since_release               1.000000  "
      ]
     },
     "execution_count": 40,
     "metadata": {},
     "output_type": "execute_result"
    },
    {
     "data": {
      "application/javascript": [
       "\n",
       "            setTimeout(function() {\n",
       "                var nbb_cell_id = 40;\n",
       "                var nbb_unformatted_code = \"df2.corr()\";\n",
       "                var nbb_formatted_code = \"df2.corr()\";\n",
       "                var nbb_cells = Jupyter.notebook.get_cells();\n",
       "                for (var i = 0; i < nbb_cells.length; ++i) {\n",
       "                    if (nbb_cells[i].input_prompt_number == nbb_cell_id) {\n",
       "                        if (nbb_cells[i].get_text() == nbb_unformatted_code) {\n",
       "                             nbb_cells[i].set_text(nbb_formatted_code);\n",
       "                        }\n",
       "                        break;\n",
       "                    }\n",
       "                }\n",
       "            }, 500);\n",
       "            "
      ],
      "text/plain": [
       "<IPython.core.display.Javascript object>"
      ]
     },
     "metadata": {},
     "output_type": "display_data"
    }
   ],
   "source": [
    "df2.corr()"
   ]
  },
  {
   "cell_type": "markdown",
   "metadata": {},
   "source": [
    "- Screen_size, main_camera_mp, selfie_camera_mp, int_memory, battery, normalized_new_price, weight have positive coefficients. So, as they increase, the price of used devices also increases."
   ]
  },
  {
   "cell_type": "markdown",
   "metadata": {
    "id": "cN1lyueHttwW",
    "tags": []
   },
   "source": [
    "#### Data preparation for modeling"
   ]
  },
  {
   "cell_type": "code",
   "execution_count": 41,
   "metadata": {},
   "outputs": [
    {
     "name": "stdout",
     "output_type": "stream",
     "text": [
      "        os  screen_size   4g   5g  main_camera_mp  selfie_camera_mp  \\\n",
      "0  Android        14.50  yes   no            13.0               5.0   \n",
      "1  Android        17.30  yes  yes            13.0              16.0   \n",
      "2  Android        16.69  yes  yes            13.0               8.0   \n",
      "3  Android        19.30  yes  yes            13.0               8.0   \n",
      "4  Android        15.32  yes   no            13.0               8.0   \n",
      "\n",
      "   int_memory  battery  weight  days_used  normalized_new_price  \\\n",
      "0        64.0   3020.0   146.0        127              4.715100   \n",
      "1       128.0   4300.0   213.0        325              5.519018   \n",
      "2       128.0   4200.0   213.0        162              5.884631   \n",
      "3        64.0   6850.0   249.5        345              5.630961   \n",
      "4        64.0   5000.0   185.0        293              4.947837   \n",
      "\n",
      "   years_since_release  \n",
      "0                    1  \n",
      "1                    1  \n",
      "2                    1  \n",
      "3                    1  \n",
      "4                    1  \n",
      "\n",
      "0    4.307572\n",
      "1    5.162097\n",
      "2    5.111084\n",
      "3    5.135387\n",
      "4    4.389995\n",
      "Name: normalized_used_price, dtype: float64\n"
     ]
    },
    {
     "data": {
      "application/javascript": [
       "\n",
       "            setTimeout(function() {\n",
       "                var nbb_cell_id = 41;\n",
       "                var nbb_unformatted_code = \"# define dependent and independent variables\\nX = df2.drop([\\\"normalized_used_price\\\"], axis=1)\\ny = df2[\\\"normalized_used_price\\\"]\\n\\nprint(X.head())\\nprint()\\nprint(y.head())\";\n",
       "                var nbb_formatted_code = \"# define dependent and independent variables\\nX = df2.drop([\\\"normalized_used_price\\\"], axis=1)\\ny = df2[\\\"normalized_used_price\\\"]\\n\\nprint(X.head())\\nprint()\\nprint(y.head())\";\n",
       "                var nbb_cells = Jupyter.notebook.get_cells();\n",
       "                for (var i = 0; i < nbb_cells.length; ++i) {\n",
       "                    if (nbb_cells[i].input_prompt_number == nbb_cell_id) {\n",
       "                        if (nbb_cells[i].get_text() == nbb_unformatted_code) {\n",
       "                             nbb_cells[i].set_text(nbb_formatted_code);\n",
       "                        }\n",
       "                        break;\n",
       "                    }\n",
       "                }\n",
       "            }, 500);\n",
       "            "
      ],
      "text/plain": [
       "<IPython.core.display.Javascript object>"
      ]
     },
     "metadata": {},
     "output_type": "display_data"
    }
   ],
   "source": [
    "# define dependent and independent variables\n",
    "X = df2.drop([\"normalized_used_price\"], axis=1)\n",
    "y = df2[\"normalized_used_price\"]\n",
    "\n",
    "print(X.head())\n",
    "print()\n",
    "print(y.head())"
   ]
  },
  {
   "cell_type": "code",
   "execution_count": 42,
   "metadata": {},
   "outputs": [
    {
     "data": {
      "application/javascript": [
       "\n",
       "            setTimeout(function() {\n",
       "                var nbb_cell_id = 42;\n",
       "                var nbb_unformatted_code = \"# add the intercept to data\\nX = sm.add_constant(X)\";\n",
       "                var nbb_formatted_code = \"# add the intercept to data\\nX = sm.add_constant(X)\";\n",
       "                var nbb_cells = Jupyter.notebook.get_cells();\n",
       "                for (var i = 0; i < nbb_cells.length; ++i) {\n",
       "                    if (nbb_cells[i].input_prompt_number == nbb_cell_id) {\n",
       "                        if (nbb_cells[i].get_text() == nbb_unformatted_code) {\n",
       "                             nbb_cells[i].set_text(nbb_formatted_code);\n",
       "                        }\n",
       "                        break;\n",
       "                    }\n",
       "                }\n",
       "            }, 500);\n",
       "            "
      ],
      "text/plain": [
       "<IPython.core.display.Javascript object>"
      ]
     },
     "metadata": {},
     "output_type": "display_data"
    }
   ],
   "source": [
    "# add the intercept to data\n",
    "X = sm.add_constant(X)"
   ]
  },
  {
   "cell_type": "code",
   "execution_count": 43,
   "metadata": {},
   "outputs": [
    {
     "data": {
      "text/html": [
       "<div>\n",
       "<style scoped>\n",
       "    .dataframe tbody tr th:only-of-type {\n",
       "        vertical-align: middle;\n",
       "    }\n",
       "\n",
       "    .dataframe tbody tr th {\n",
       "        vertical-align: top;\n",
       "    }\n",
       "\n",
       "    .dataframe thead th {\n",
       "        text-align: right;\n",
       "    }\n",
       "</style>\n",
       "<table border=\"1\" class=\"dataframe\">\n",
       "  <thead>\n",
       "    <tr style=\"text-align: right;\">\n",
       "      <th></th>\n",
       "      <th>const</th>\n",
       "      <th>screen_size</th>\n",
       "      <th>main_camera_mp</th>\n",
       "      <th>selfie_camera_mp</th>\n",
       "      <th>int_memory</th>\n",
       "      <th>battery</th>\n",
       "      <th>weight</th>\n",
       "      <th>days_used</th>\n",
       "      <th>normalized_new_price</th>\n",
       "      <th>years_since_release</th>\n",
       "      <th>os_Others</th>\n",
       "      <th>os_Windows</th>\n",
       "      <th>os_iOS</th>\n",
       "      <th>4g_yes</th>\n",
       "      <th>5g_yes</th>\n",
       "    </tr>\n",
       "  </thead>\n",
       "  <tbody>\n",
       "    <tr>\n",
       "      <th>0</th>\n",
       "      <td>1.0</td>\n",
       "      <td>14.50</td>\n",
       "      <td>13.0</td>\n",
       "      <td>5.0</td>\n",
       "      <td>64.0</td>\n",
       "      <td>3020.0</td>\n",
       "      <td>146.0</td>\n",
       "      <td>127</td>\n",
       "      <td>4.715100</td>\n",
       "      <td>1</td>\n",
       "      <td>0</td>\n",
       "      <td>0</td>\n",
       "      <td>0</td>\n",
       "      <td>1</td>\n",
       "      <td>0</td>\n",
       "    </tr>\n",
       "    <tr>\n",
       "      <th>1</th>\n",
       "      <td>1.0</td>\n",
       "      <td>17.30</td>\n",
       "      <td>13.0</td>\n",
       "      <td>16.0</td>\n",
       "      <td>128.0</td>\n",
       "      <td>4300.0</td>\n",
       "      <td>213.0</td>\n",
       "      <td>325</td>\n",
       "      <td>5.519018</td>\n",
       "      <td>1</td>\n",
       "      <td>0</td>\n",
       "      <td>0</td>\n",
       "      <td>0</td>\n",
       "      <td>1</td>\n",
       "      <td>1</td>\n",
       "    </tr>\n",
       "    <tr>\n",
       "      <th>2</th>\n",
       "      <td>1.0</td>\n",
       "      <td>16.69</td>\n",
       "      <td>13.0</td>\n",
       "      <td>8.0</td>\n",
       "      <td>128.0</td>\n",
       "      <td>4200.0</td>\n",
       "      <td>213.0</td>\n",
       "      <td>162</td>\n",
       "      <td>5.884631</td>\n",
       "      <td>1</td>\n",
       "      <td>0</td>\n",
       "      <td>0</td>\n",
       "      <td>0</td>\n",
       "      <td>1</td>\n",
       "      <td>1</td>\n",
       "    </tr>\n",
       "    <tr>\n",
       "      <th>3</th>\n",
       "      <td>1.0</td>\n",
       "      <td>19.30</td>\n",
       "      <td>13.0</td>\n",
       "      <td>8.0</td>\n",
       "      <td>64.0</td>\n",
       "      <td>6850.0</td>\n",
       "      <td>249.5</td>\n",
       "      <td>345</td>\n",
       "      <td>5.630961</td>\n",
       "      <td>1</td>\n",
       "      <td>0</td>\n",
       "      <td>0</td>\n",
       "      <td>0</td>\n",
       "      <td>1</td>\n",
       "      <td>1</td>\n",
       "    </tr>\n",
       "    <tr>\n",
       "      <th>4</th>\n",
       "      <td>1.0</td>\n",
       "      <td>15.32</td>\n",
       "      <td>13.0</td>\n",
       "      <td>8.0</td>\n",
       "      <td>64.0</td>\n",
       "      <td>5000.0</td>\n",
       "      <td>185.0</td>\n",
       "      <td>293</td>\n",
       "      <td>4.947837</td>\n",
       "      <td>1</td>\n",
       "      <td>0</td>\n",
       "      <td>0</td>\n",
       "      <td>0</td>\n",
       "      <td>1</td>\n",
       "      <td>0</td>\n",
       "    </tr>\n",
       "  </tbody>\n",
       "</table>\n",
       "</div>"
      ],
      "text/plain": [
       "   const  screen_size  main_camera_mp  selfie_camera_mp  int_memory  battery  \\\n",
       "0    1.0        14.50            13.0               5.0        64.0   3020.0   \n",
       "1    1.0        17.30            13.0              16.0       128.0   4300.0   \n",
       "2    1.0        16.69            13.0               8.0       128.0   4200.0   \n",
       "3    1.0        19.30            13.0               8.0        64.0   6850.0   \n",
       "4    1.0        15.32            13.0               8.0        64.0   5000.0   \n",
       "\n",
       "   weight  days_used  normalized_new_price  years_since_release  os_Others  \\\n",
       "0   146.0        127              4.715100                    1          0   \n",
       "1   213.0        325              5.519018                    1          0   \n",
       "2   213.0        162              5.884631                    1          0   \n",
       "3   249.5        345              5.630961                    1          0   \n",
       "4   185.0        293              4.947837                    1          0   \n",
       "\n",
       "   os_Windows  os_iOS  4g_yes  5g_yes  \n",
       "0           0       0       1       0  \n",
       "1           0       0       1       1  \n",
       "2           0       0       1       1  \n",
       "3           0       0       1       1  \n",
       "4           0       0       1       0  "
      ]
     },
     "execution_count": 43,
     "metadata": {},
     "output_type": "execute_result"
    },
    {
     "data": {
      "application/javascript": [
       "\n",
       "            setTimeout(function() {\n",
       "                var nbb_cell_id = 43;\n",
       "                var nbb_unformatted_code = \"# creating dummy variables\\nX = pd.get_dummies(\\n    X,\\n    columns=X.select_dtypes(include=[\\\"object\\\", \\\"category\\\"]).columns.tolist(),\\n    drop_first=True,\\n)\\n\\nX.head()\";\n",
       "                var nbb_formatted_code = \"# creating dummy variables\\nX = pd.get_dummies(\\n    X,\\n    columns=X.select_dtypes(include=[\\\"object\\\", \\\"category\\\"]).columns.tolist(),\\n    drop_first=True,\\n)\\n\\nX.head()\";\n",
       "                var nbb_cells = Jupyter.notebook.get_cells();\n",
       "                for (var i = 0; i < nbb_cells.length; ++i) {\n",
       "                    if (nbb_cells[i].input_prompt_number == nbb_cell_id) {\n",
       "                        if (nbb_cells[i].get_text() == nbb_unformatted_code) {\n",
       "                             nbb_cells[i].set_text(nbb_formatted_code);\n",
       "                        }\n",
       "                        break;\n",
       "                    }\n",
       "                }\n",
       "            }, 500);\n",
       "            "
      ],
      "text/plain": [
       "<IPython.core.display.Javascript object>"
      ]
     },
     "metadata": {},
     "output_type": "display_data"
    }
   ],
   "source": [
    "# creating dummy variables\n",
    "X = pd.get_dummies(\n",
    "    X,\n",
    "    columns=X.select_dtypes(include=[\"object\", \"category\"]).columns.tolist(),\n",
    "    drop_first=True,\n",
    ")\n",
    "\n",
    "X.head()\n",
    "\n"
   ]
  },
  {
   "cell_type": "code",
   "execution_count": 44,
   "metadata": {},
   "outputs": [
    {
     "data": {
      "text/plain": [
       "(3454, 15)"
      ]
     },
     "execution_count": 44,
     "metadata": {},
     "output_type": "execute_result"
    },
    {
     "data": {
      "application/javascript": [
       "\n",
       "            setTimeout(function() {\n",
       "                var nbb_cell_id = 44;\n",
       "                var nbb_unformatted_code = \"X.shape\";\n",
       "                var nbb_formatted_code = \"X.shape\";\n",
       "                var nbb_cells = Jupyter.notebook.get_cells();\n",
       "                for (var i = 0; i < nbb_cells.length; ++i) {\n",
       "                    if (nbb_cells[i].input_prompt_number == nbb_cell_id) {\n",
       "                        if (nbb_cells[i].get_text() == nbb_unformatted_code) {\n",
       "                             nbb_cells[i].set_text(nbb_formatted_code);\n",
       "                        }\n",
       "                        break;\n",
       "                    }\n",
       "                }\n",
       "            }, 500);\n",
       "            "
      ],
      "text/plain": [
       "<IPython.core.display.Javascript object>"
      ]
     },
     "metadata": {},
     "output_type": "display_data"
    }
   ],
   "source": [
    "X.shape"
   ]
  },
  {
   "cell_type": "code",
   "execution_count": 45,
   "metadata": {},
   "outputs": [
    {
     "data": {
      "application/javascript": [
       "\n",
       "            setTimeout(function() {\n",
       "                var nbb_cell_id = 45;\n",
       "                var nbb_unformatted_code = \"# splitting the data in 70:30 ratio for train to test data\\nx_train, x_test, y_train, y_test = train_test_split(\\n    X, y, test_size=0.3, random_state=42\\n)\";\n",
       "                var nbb_formatted_code = \"# splitting the data in 70:30 ratio for train to test data\\nx_train, x_test, y_train, y_test = train_test_split(\\n    X, y, test_size=0.3, random_state=42\\n)\";\n",
       "                var nbb_cells = Jupyter.notebook.get_cells();\n",
       "                for (var i = 0; i < nbb_cells.length; ++i) {\n",
       "                    if (nbb_cells[i].input_prompt_number == nbb_cell_id) {\n",
       "                        if (nbb_cells[i].get_text() == nbb_unformatted_code) {\n",
       "                             nbb_cells[i].set_text(nbb_formatted_code);\n",
       "                        }\n",
       "                        break;\n",
       "                    }\n",
       "                }\n",
       "            }, 500);\n",
       "            "
      ],
      "text/plain": [
       "<IPython.core.display.Javascript object>"
      ]
     },
     "metadata": {},
     "output_type": "display_data"
    }
   ],
   "source": [
    "# splitting the data in 70:30 ratio for train to test data\n",
    "x_train, x_test, y_train, y_test = train_test_split(\n",
    "    X, y, test_size=0.3, random_state=42\n",
    ")"
   ]
  },
  {
   "cell_type": "code",
   "execution_count": 46,
   "metadata": {},
   "outputs": [
    {
     "name": "stdout",
     "output_type": "stream",
     "text": [
      "Number of rows in train data = 2417\n",
      "Number of rows in test data = 1037\n"
     ]
    },
    {
     "data": {
      "application/javascript": [
       "\n",
       "            setTimeout(function() {\n",
       "                var nbb_cell_id = 46;\n",
       "                var nbb_unformatted_code = \"print(\\\"Number of rows in train data =\\\", x_train.shape[0])\\nprint(\\\"Number of rows in test data =\\\", x_test.shape[0])\";\n",
       "                var nbb_formatted_code = \"print(\\\"Number of rows in train data =\\\", x_train.shape[0])\\nprint(\\\"Number of rows in test data =\\\", x_test.shape[0])\";\n",
       "                var nbb_cells = Jupyter.notebook.get_cells();\n",
       "                for (var i = 0; i < nbb_cells.length; ++i) {\n",
       "                    if (nbb_cells[i].input_prompt_number == nbb_cell_id) {\n",
       "                        if (nbb_cells[i].get_text() == nbb_unformatted_code) {\n",
       "                             nbb_cells[i].set_text(nbb_formatted_code);\n",
       "                        }\n",
       "                        break;\n",
       "                    }\n",
       "                }\n",
       "            }, 500);\n",
       "            "
      ],
      "text/plain": [
       "<IPython.core.display.Javascript object>"
      ]
     },
     "metadata": {},
     "output_type": "display_data"
    }
   ],
   "source": [
    "print(\"Number of rows in train data =\", x_train.shape[0])\n",
    "print(\"Number of rows in test data =\", x_test.shape[0])"
   ]
  },
  {
   "cell_type": "markdown",
   "metadata": {
    "id": "HeUzI1OB4rqM"
   },
   "source": [
    "## Model Building - Linear Regression"
   ]
  },
  {
   "cell_type": "code",
   "execution_count": 47,
   "metadata": {
    "id": "ZNRiMg0wMKth"
   },
   "outputs": [
    {
     "name": "stdout",
     "output_type": "stream",
     "text": [
      "                              OLS Regression Results                             \n",
      "=================================================================================\n",
      "Dep. Variable:     normalized_used_price   R-squared:                       0.842\n",
      "Model:                               OLS   Adj. R-squared:                  0.841\n",
      "Method:                    Least Squares   F-statistic:                     913.3\n",
      "Date:                   Sun, 09 Oct 2022   Prob (F-statistic):               0.00\n",
      "Time:                           10:47:14   Log-Likelihood:                 180.11\n",
      "No. Observations:                   2417   AIC:                            -330.2\n",
      "Df Residuals:                       2402   BIC:                            -243.4\n",
      "Df Model:                             14                                         \n",
      "Covariance Type:               nonrobust                                         \n",
      "========================================================================================\n",
      "                           coef    std err          t      P>|t|      [0.025      0.975]\n",
      "----------------------------------------------------------------------------------------\n",
      "const                    1.1421      0.051     22.185      0.000       1.041       1.243\n",
      "screen_size              0.0437      0.004     11.693      0.000       0.036       0.051\n",
      "main_camera_mp           0.0217      0.001     14.753      0.000       0.019       0.025\n",
      "selfie_camera_mp         0.0160      0.002      9.870      0.000       0.013       0.019\n",
      "int_memory               0.0004      0.000      2.314      0.021    5.92e-05       0.001\n",
      "battery               1.191e-05   7.23e-06      1.647      0.100   -2.27e-06    2.61e-05\n",
      "weight                   0.0012      0.000      4.668      0.000       0.001       0.002\n",
      "days_used             4.084e-05   2.92e-05      1.399      0.162   -1.64e-05    9.81e-05\n",
      "normalized_new_price     0.3980      0.011     36.003      0.000       0.376       0.420\n",
      "years_since_release     -0.0096      0.004     -2.141      0.032      -0.018      -0.001\n",
      "os_Others                0.0061      0.026      0.238      0.812      -0.044       0.057\n",
      "os_Windows               0.0584      0.032      1.810      0.070      -0.005       0.122\n",
      "os_iOS                   0.0595      0.047      1.269      0.204      -0.032       0.151\n",
      "4g_yes                   0.0273      0.015      1.824      0.068      -0.002       0.057\n",
      "5g_yes                   0.0111      0.027      0.410      0.682      -0.042       0.064\n",
      "==============================================================================\n",
      "Omnibus:                      114.167   Durbin-Watson:                   2.006\n",
      "Prob(Omnibus):                  0.000   Jarque-Bera (JB):              189.070\n",
      "Skew:                          -0.389   Prob(JB):                     8.79e-42\n",
      "Kurtosis:                       4.128   Cond. No.                     4.04e+04\n",
      "==============================================================================\n",
      "\n",
      "Notes:\n",
      "[1] Standard Errors assume that the covariance matrix of the errors is correctly specified.\n",
      "[2] The condition number is large, 4.04e+04. This might indicate that there are\n",
      "strong multicollinearity or other numerical problems.\n"
     ]
    },
    {
     "data": {
      "application/javascript": [
       "\n",
       "            setTimeout(function() {\n",
       "                var nbb_cell_id = 47;\n",
       "                var nbb_unformatted_code = \"# fitting a linear model\\nolsmodel = sm.OLS(y_train, x_train).fit()\\nprint(olsmodel.summary())\";\n",
       "                var nbb_formatted_code = \"# fitting a linear model\\nolsmodel = sm.OLS(y_train, x_train).fit()\\nprint(olsmodel.summary())\";\n",
       "                var nbb_cells = Jupyter.notebook.get_cells();\n",
       "                for (var i = 0; i < nbb_cells.length; ++i) {\n",
       "                    if (nbb_cells[i].input_prompt_number == nbb_cell_id) {\n",
       "                        if (nbb_cells[i].get_text() == nbb_unformatted_code) {\n",
       "                             nbb_cells[i].set_text(nbb_formatted_code);\n",
       "                        }\n",
       "                        break;\n",
       "                    }\n",
       "                }\n",
       "            }, 500);\n",
       "            "
      ],
      "text/plain": [
       "<IPython.core.display.Javascript object>"
      ]
     },
     "metadata": {},
     "output_type": "display_data"
    }
   ],
   "source": [
    "# fitting a linear model\n",
    "olsmodel = sm.OLS(y_train, x_train).fit()\n",
    "print(olsmodel.summary())"
   ]
  },
  {
   "cell_type": "markdown",
   "metadata": {},
   "source": [
    "- Adjusted R-Squared is equal 0.841, which is good\n",
    "- The y-intercept is equal to the value of the const coeffiecient which is 1.1698\n",
    "- The coefficients of the different predictor variables is well listed in the model summary forexample;\n",
    "- The coefficient of normalized_new_price is equal to 0.3960\n",
    "- if the p-value is very high, there are some variables are reductant and not significant -> drop brand name to make p-value < 0.05\n",
    "- the higher adjR2, the more accurate of the model is"
   ]
  },
  {
   "cell_type": "markdown",
   "metadata": {
    "id": "jvoU3F6oMKti"
   },
   "source": [
    "## Model Performance Check"
   ]
  },
  {
   "cell_type": "code",
   "execution_count": 48,
   "metadata": {
    "id": "k3e6gzxdMKti"
   },
   "outputs": [
    {
     "data": {
      "application/javascript": [
       "\n",
       "            setTimeout(function() {\n",
       "                var nbb_cell_id = 48;\n",
       "                var nbb_unformatted_code = \"# function to compute adjusted R-squared\\ndef adj_r2_score(predictors, targets, predictions):\\n    r2 = r2_score(targets, predictions)\\n    n = predictors.shape[0]\\n    k = predictors.shape[1]\\n    return 1 - ((1 - r2) * (n - 1) / (n - k - 1))\\n\\n\\n# function to compute MAPE\\ndef mape_score(targets, predictions):\\n    return np.mean(np.abs(targets - predictions) / targets) * 100\\n\\n\\n# function to compute different metrics to check performance of a regression model\\ndef model_performance_regression(model, predictors, target):\\n    \\\"\\\"\\\"\\n    Function to compute different metrics to check regression model performance\\n\\n    model: regressor\\n    predictors: independent variables\\n    target: dependent variable\\n    \\\"\\\"\\\"\\n\\n    # predicting using the independent variables\\n    pred = model.predict(predictors)\\n\\n    r2 = r2_score(target, pred)  # to compute R-squared\\n    adjr2 = adj_r2_score(predictors, target, pred)  # to compute adjusted R-squared\\n    rmse = np.sqrt(mean_squared_error(target, pred))  # to compute RMSE\\n    mae = mean_absolute_error(target, pred)  # to compute MAE\\n    mape = mape_score(target, pred)  # to compute MAPE\\n\\n    # creating a dataframe of metrics\\n    df_perf = pd.DataFrame(\\n        {\\n            \\\"RMSE\\\": rmse,\\n            \\\"MAE\\\": mae,\\n            \\\"R-squared\\\": r2,\\n            \\\"Adj. R-squared\\\": adjr2,\\n            \\\"MAPE\\\": mape,\\n        },\\n        index=[0],\\n    )\\n\\n    return df_perf\";\n",
       "                var nbb_formatted_code = \"# function to compute adjusted R-squared\\ndef adj_r2_score(predictors, targets, predictions):\\n    r2 = r2_score(targets, predictions)\\n    n = predictors.shape[0]\\n    k = predictors.shape[1]\\n    return 1 - ((1 - r2) * (n - 1) / (n - k - 1))\\n\\n\\n# function to compute MAPE\\ndef mape_score(targets, predictions):\\n    return np.mean(np.abs(targets - predictions) / targets) * 100\\n\\n\\n# function to compute different metrics to check performance of a regression model\\ndef model_performance_regression(model, predictors, target):\\n    \\\"\\\"\\\"\\n    Function to compute different metrics to check regression model performance\\n\\n    model: regressor\\n    predictors: independent variables\\n    target: dependent variable\\n    \\\"\\\"\\\"\\n\\n    # predicting using the independent variables\\n    pred = model.predict(predictors)\\n\\n    r2 = r2_score(target, pred)  # to compute R-squared\\n    adjr2 = adj_r2_score(predictors, target, pred)  # to compute adjusted R-squared\\n    rmse = np.sqrt(mean_squared_error(target, pred))  # to compute RMSE\\n    mae = mean_absolute_error(target, pred)  # to compute MAE\\n    mape = mape_score(target, pred)  # to compute MAPE\\n\\n    # creating a dataframe of metrics\\n    df_perf = pd.DataFrame(\\n        {\\n            \\\"RMSE\\\": rmse,\\n            \\\"MAE\\\": mae,\\n            \\\"R-squared\\\": r2,\\n            \\\"Adj. R-squared\\\": adjr2,\\n            \\\"MAPE\\\": mape,\\n        },\\n        index=[0],\\n    )\\n\\n    return df_perf\";\n",
       "                var nbb_cells = Jupyter.notebook.get_cells();\n",
       "                for (var i = 0; i < nbb_cells.length; ++i) {\n",
       "                    if (nbb_cells[i].input_prompt_number == nbb_cell_id) {\n",
       "                        if (nbb_cells[i].get_text() == nbb_unformatted_code) {\n",
       "                             nbb_cells[i].set_text(nbb_formatted_code);\n",
       "                        }\n",
       "                        break;\n",
       "                    }\n",
       "                }\n",
       "            }, 500);\n",
       "            "
      ],
      "text/plain": [
       "<IPython.core.display.Javascript object>"
      ]
     },
     "metadata": {},
     "output_type": "display_data"
    }
   ],
   "source": [
    "# function to compute adjusted R-squared\n",
    "def adj_r2_score(predictors, targets, predictions):\n",
    "    r2 = r2_score(targets, predictions)\n",
    "    n = predictors.shape[0]\n",
    "    k = predictors.shape[1]\n",
    "    return 1 - ((1 - r2) * (n - 1) / (n - k - 1))\n",
    "\n",
    "\n",
    "# function to compute MAPE\n",
    "def mape_score(targets, predictions):\n",
    "    return np.mean(np.abs(targets - predictions) / targets) * 100\n",
    "\n",
    "\n",
    "# function to compute different metrics to check performance of a regression model\n",
    "def model_performance_regression(model, predictors, target):\n",
    "    \"\"\"\n",
    "    Function to compute different metrics to check regression model performance\n",
    "\n",
    "    model: regressor\n",
    "    predictors: independent variables\n",
    "    target: dependent variable\n",
    "    \"\"\"\n",
    "\n",
    "    # predicting using the independent variables\n",
    "    pred = model.predict(predictors)\n",
    "\n",
    "    r2 = r2_score(target, pred)  # to compute R-squared\n",
    "    adjr2 = adj_r2_score(predictors, target, pred)  # to compute adjusted R-squared\n",
    "    rmse = np.sqrt(mean_squared_error(target, pred))  # to compute RMSE\n",
    "    mae = mean_absolute_error(target, pred)  # to compute MAE\n",
    "    mape = mape_score(target, pred)  # to compute MAPE\n",
    "\n",
    "    # creating a dataframe of metrics\n",
    "    df_perf = pd.DataFrame(\n",
    "        {\n",
    "            \"RMSE\": rmse,\n",
    "            \"MAE\": mae,\n",
    "            \"R-squared\": r2,\n",
    "            \"Adj. R-squared\": adjr2,\n",
    "            \"MAPE\": mape,\n",
    "        },\n",
    "        index=[0],\n",
    "    )\n",
    "\n",
    "    return df_perf"
   ]
  },
  {
   "cell_type": "code",
   "execution_count": 49,
   "metadata": {},
   "outputs": [
    {
     "name": "stdout",
     "output_type": "stream",
     "text": [
      "Training Performance\n",
      "\n"
     ]
    },
    {
     "data": {
      "text/html": [
       "<div>\n",
       "<style scoped>\n",
       "    .dataframe tbody tr th:only-of-type {\n",
       "        vertical-align: middle;\n",
       "    }\n",
       "\n",
       "    .dataframe tbody tr th {\n",
       "        vertical-align: top;\n",
       "    }\n",
       "\n",
       "    .dataframe thead th {\n",
       "        text-align: right;\n",
       "    }\n",
       "</style>\n",
       "<table border=\"1\" class=\"dataframe\">\n",
       "  <thead>\n",
       "    <tr style=\"text-align: right;\">\n",
       "      <th></th>\n",
       "      <th>RMSE</th>\n",
       "      <th>MAE</th>\n",
       "      <th>R-squared</th>\n",
       "      <th>Adj. R-squared</th>\n",
       "      <th>MAPE</th>\n",
       "    </tr>\n",
       "  </thead>\n",
       "  <tbody>\n",
       "    <tr>\n",
       "      <th>0</th>\n",
       "      <td>0.224595</td>\n",
       "      <td>0.17736</td>\n",
       "      <td>0.841858</td>\n",
       "      <td>0.84087</td>\n",
       "      <td>4.167574</td>\n",
       "    </tr>\n",
       "  </tbody>\n",
       "</table>\n",
       "</div>"
      ],
      "text/plain": [
       "       RMSE      MAE  R-squared  Adj. R-squared      MAPE\n",
       "0  0.224595  0.17736   0.841858         0.84087  4.167574"
      ]
     },
     "execution_count": 49,
     "metadata": {},
     "output_type": "execute_result"
    },
    {
     "data": {
      "application/javascript": [
       "\n",
       "            setTimeout(function() {\n",
       "                var nbb_cell_id = 49;\n",
       "                var nbb_unformatted_code = \"# checking model performance on train set (seen 70% data)\\nprint(\\\"Training Performance\\\\n\\\")\\nolsmodel_train_perf = model_performance_regression(olsmodel, x_train, y_train)\\nolsmodel_train_perf\";\n",
       "                var nbb_formatted_code = \"# checking model performance on train set (seen 70% data)\\nprint(\\\"Training Performance\\\\n\\\")\\nolsmodel_train_perf = model_performance_regression(olsmodel, x_train, y_train)\\nolsmodel_train_perf\";\n",
       "                var nbb_cells = Jupyter.notebook.get_cells();\n",
       "                for (var i = 0; i < nbb_cells.length; ++i) {\n",
       "                    if (nbb_cells[i].input_prompt_number == nbb_cell_id) {\n",
       "                        if (nbb_cells[i].get_text() == nbb_unformatted_code) {\n",
       "                             nbb_cells[i].set_text(nbb_formatted_code);\n",
       "                        }\n",
       "                        break;\n",
       "                    }\n",
       "                }\n",
       "            }, 500);\n",
       "            "
      ],
      "text/plain": [
       "<IPython.core.display.Javascript object>"
      ]
     },
     "metadata": {},
     "output_type": "display_data"
    }
   ],
   "source": [
    "# checking model performance on train set (seen 70% data)\n",
    "print(\"Training Performance\\n\")\n",
    "olsmodel_train_perf = model_performance_regression(olsmodel, x_train, y_train)\n",
    "olsmodel_train_perf"
   ]
  },
  {
   "cell_type": "code",
   "execution_count": 50,
   "metadata": {},
   "outputs": [
    {
     "name": "stdout",
     "output_type": "stream",
     "text": [
      "Test Performance\n",
      "\n"
     ]
    },
    {
     "data": {
      "text/html": [
       "<div>\n",
       "<style scoped>\n",
       "    .dataframe tbody tr th:only-of-type {\n",
       "        vertical-align: middle;\n",
       "    }\n",
       "\n",
       "    .dataframe tbody tr th {\n",
       "        vertical-align: top;\n",
       "    }\n",
       "\n",
       "    .dataframe thead th {\n",
       "        text-align: right;\n",
       "    }\n",
       "</style>\n",
       "<table border=\"1\" class=\"dataframe\">\n",
       "  <thead>\n",
       "    <tr style=\"text-align: right;\">\n",
       "      <th></th>\n",
       "      <th>RMSE</th>\n",
       "      <th>MAE</th>\n",
       "      <th>R-squared</th>\n",
       "      <th>Adj. R-squared</th>\n",
       "      <th>MAPE</th>\n",
       "    </tr>\n",
       "  </thead>\n",
       "  <tbody>\n",
       "    <tr>\n",
       "      <th>0</th>\n",
       "      <td>0.223944</td>\n",
       "      <td>0.179852</td>\n",
       "      <td>0.839123</td>\n",
       "      <td>0.83676</td>\n",
       "      <td>4.192989</td>\n",
       "    </tr>\n",
       "  </tbody>\n",
       "</table>\n",
       "</div>"
      ],
      "text/plain": [
       "       RMSE       MAE  R-squared  Adj. R-squared      MAPE\n",
       "0  0.223944  0.179852   0.839123         0.83676  4.192989"
      ]
     },
     "execution_count": 50,
     "metadata": {},
     "output_type": "execute_result"
    },
    {
     "data": {
      "application/javascript": [
       "\n",
       "            setTimeout(function() {\n",
       "                var nbb_cell_id = 50;\n",
       "                var nbb_unformatted_code = \"# Checking model performance on test set\\nprint(\\\"Test Performance\\\\n\\\")\\nolsmodel_test_perf = model_performance_regression(olsmodel, x_test, y_test)\\nolsmodel_test_perf\";\n",
       "                var nbb_formatted_code = \"# Checking model performance on test set\\nprint(\\\"Test Performance\\\\n\\\")\\nolsmodel_test_perf = model_performance_regression(olsmodel, x_test, y_test)\\nolsmodel_test_perf\";\n",
       "                var nbb_cells = Jupyter.notebook.get_cells();\n",
       "                for (var i = 0; i < nbb_cells.length; ++i) {\n",
       "                    if (nbb_cells[i].input_prompt_number == nbb_cell_id) {\n",
       "                        if (nbb_cells[i].get_text() == nbb_unformatted_code) {\n",
       "                             nbb_cells[i].set_text(nbb_formatted_code);\n",
       "                        }\n",
       "                        break;\n",
       "                    }\n",
       "                }\n",
       "            }, 500);\n",
       "            "
      ],
      "text/plain": [
       "<IPython.core.display.Javascript object>"
      ]
     },
     "metadata": {},
     "output_type": "display_data"
    }
   ],
   "source": [
    "# Checking model performance on test set\n",
    "print(\"Test Performance\\n\")\n",
    "olsmodel_test_perf = model_performance_regression(olsmodel, x_test, y_test)\n",
    "olsmodel_test_perf"
   ]
  },
  {
   "cell_type": "markdown",
   "metadata": {},
   "source": [
    "- The training  is 0.841, which means 84.1%. So the model is not underfitting.\n",
    "- The train and test RMSE and MAE are comparable (close), so the model is not overfitting either.\n",
    "- A mean error (MAE) of 0.1799 shows that the model can predict the price of a used device within that range.\n",
    "- A MAPE of 4.19 based on the test data means that we can predict the prices of used devices to within 4.2%."
   ]
  },
  {
   "cell_type": "markdown",
   "metadata": {
    "id": "a9GxSQf-qH8e"
   },
   "source": [
    "## Checking Linear Regression Assumptions"
   ]
  },
  {
   "cell_type": "markdown",
   "metadata": {
    "id": "UdGv3pQF50xP"
   },
   "source": [
    "- In order to make statistical inferences from a linear regression model, it is important to ensure that the assumptions of linear regression are satisfied."
   ]
  },
  {
   "cell_type": "markdown",
   "metadata": {
    "id": "naX-iXItqH-b"
   },
   "source": [
    "#### TEST FOR MULTICOLLINEARITY"
   ]
  },
  {
   "cell_type": "code",
   "execution_count": 51,
   "metadata": {},
   "outputs": [
    {
     "data": {
      "application/javascript": [
       "\n",
       "            setTimeout(function() {\n",
       "                var nbb_cell_id = 51;\n",
       "                var nbb_unformatted_code = \"from statsmodels.stats.outliers_influence import variance_inflation_factor\\n\\n# we will define a function to check VIF\\ndef checking_vif(predictors):\\n    vif = pd.DataFrame()\\n    vif[\\\"feature\\\"] = predictors.columns\\n\\n    # calculating VIF for each feature\\n    vif[\\\"VIF\\\"] = [\\n        variance_inflation_factor(predictors.values, i)\\n        for i in range(len(predictors.columns))\\n    ]\\n    return vif\";\n",
       "                var nbb_formatted_code = \"from statsmodels.stats.outliers_influence import variance_inflation_factor\\n\\n# we will define a function to check VIF\\ndef checking_vif(predictors):\\n    vif = pd.DataFrame()\\n    vif[\\\"feature\\\"] = predictors.columns\\n\\n    # calculating VIF for each feature\\n    vif[\\\"VIF\\\"] = [\\n        variance_inflation_factor(predictors.values, i)\\n        for i in range(len(predictors.columns))\\n    ]\\n    return vif\";\n",
       "                var nbb_cells = Jupyter.notebook.get_cells();\n",
       "                for (var i = 0; i < nbb_cells.length; ++i) {\n",
       "                    if (nbb_cells[i].input_prompt_number == nbb_cell_id) {\n",
       "                        if (nbb_cells[i].get_text() == nbb_unformatted_code) {\n",
       "                             nbb_cells[i].set_text(nbb_formatted_code);\n",
       "                        }\n",
       "                        break;\n",
       "                    }\n",
       "                }\n",
       "            }, 500);\n",
       "            "
      ],
      "text/plain": [
       "<IPython.core.display.Javascript object>"
      ]
     },
     "metadata": {},
     "output_type": "display_data"
    }
   ],
   "source": [
    "from statsmodels.stats.outliers_influence import variance_inflation_factor\n",
    "\n",
    "# we will define a function to check VIF\n",
    "def checking_vif(predictors):\n",
    "    vif = pd.DataFrame()\n",
    "    vif[\"feature\"] = predictors.columns\n",
    "\n",
    "    # calculating VIF for each feature\n",
    "    vif[\"VIF\"] = [\n",
    "        variance_inflation_factor(predictors.values, i)\n",
    "        for i in range(len(predictors.columns))\n",
    "    ]\n",
    "    return vif"
   ]
  },
  {
   "cell_type": "code",
   "execution_count": 52,
   "metadata": {},
   "outputs": [
    {
     "data": {
      "text/html": [
       "<div>\n",
       "<style scoped>\n",
       "    .dataframe tbody tr th:only-of-type {\n",
       "        vertical-align: middle;\n",
       "    }\n",
       "\n",
       "    .dataframe tbody tr th {\n",
       "        vertical-align: top;\n",
       "    }\n",
       "\n",
       "    .dataframe thead th {\n",
       "        text-align: right;\n",
       "    }\n",
       "</style>\n",
       "<table border=\"1\" class=\"dataframe\">\n",
       "  <thead>\n",
       "    <tr style=\"text-align: right;\">\n",
       "      <th></th>\n",
       "      <th>feature</th>\n",
       "      <th>VIF</th>\n",
       "    </tr>\n",
       "  </thead>\n",
       "  <tbody>\n",
       "    <tr>\n",
       "      <th>0</th>\n",
       "      <td>const</td>\n",
       "      <td>126.208008</td>\n",
       "    </tr>\n",
       "    <tr>\n",
       "      <th>1</th>\n",
       "      <td>screen_size</td>\n",
       "      <td>5.180671</td>\n",
       "    </tr>\n",
       "    <tr>\n",
       "      <th>2</th>\n",
       "      <td>main_camera_mp</td>\n",
       "      <td>2.172605</td>\n",
       "    </tr>\n",
       "    <tr>\n",
       "      <th>3</th>\n",
       "      <td>selfie_camera_mp</td>\n",
       "      <td>3.561893</td>\n",
       "    </tr>\n",
       "    <tr>\n",
       "      <th>4</th>\n",
       "      <td>int_memory</td>\n",
       "      <td>2.031449</td>\n",
       "    </tr>\n",
       "    <tr>\n",
       "      <th>5</th>\n",
       "      <td>battery</td>\n",
       "      <td>3.643153</td>\n",
       "    </tr>\n",
       "    <tr>\n",
       "      <th>6</th>\n",
       "      <td>weight</td>\n",
       "      <td>4.384869</td>\n",
       "    </tr>\n",
       "    <tr>\n",
       "      <th>7</th>\n",
       "      <td>days_used</td>\n",
       "      <td>2.480683</td>\n",
       "    </tr>\n",
       "    <tr>\n",
       "      <th>8</th>\n",
       "      <td>normalized_new_price</td>\n",
       "      <td>2.640945</td>\n",
       "    </tr>\n",
       "    <tr>\n",
       "      <th>9</th>\n",
       "      <td>years_since_release</td>\n",
       "      <td>4.949382</td>\n",
       "    </tr>\n",
       "    <tr>\n",
       "      <th>10</th>\n",
       "      <td>os_Others</td>\n",
       "      <td>1.256359</td>\n",
       "    </tr>\n",
       "    <tr>\n",
       "      <th>11</th>\n",
       "      <td>os_Windows</td>\n",
       "      <td>1.023937</td>\n",
       "    </tr>\n",
       "    <tr>\n",
       "      <th>12</th>\n",
       "      <td>os_iOS</td>\n",
       "      <td>1.072144</td>\n",
       "    </tr>\n",
       "    <tr>\n",
       "      <th>13</th>\n",
       "      <td>4g_yes</td>\n",
       "      <td>2.325938</td>\n",
       "    </tr>\n",
       "    <tr>\n",
       "      <th>14</th>\n",
       "      <td>5g_yes</td>\n",
       "      <td>1.348997</td>\n",
       "    </tr>\n",
       "  </tbody>\n",
       "</table>\n",
       "</div>"
      ],
      "text/plain": [
       "                 feature         VIF\n",
       "0                  const  126.208008\n",
       "1            screen_size    5.180671\n",
       "2         main_camera_mp    2.172605\n",
       "3       selfie_camera_mp    3.561893\n",
       "4             int_memory    2.031449\n",
       "5                battery    3.643153\n",
       "6                 weight    4.384869\n",
       "7              days_used    2.480683\n",
       "8   normalized_new_price    2.640945\n",
       "9    years_since_release    4.949382\n",
       "10             os_Others    1.256359\n",
       "11            os_Windows    1.023937\n",
       "12                os_iOS    1.072144\n",
       "13                4g_yes    2.325938\n",
       "14                5g_yes    1.348997"
      ]
     },
     "execution_count": 52,
     "metadata": {},
     "output_type": "execute_result"
    },
    {
     "data": {
      "application/javascript": [
       "\n",
       "            setTimeout(function() {\n",
       "                var nbb_cell_id = 52;\n",
       "                var nbb_unformatted_code = \"checking_vif(x_train)\";\n",
       "                var nbb_formatted_code = \"checking_vif(x_train)\";\n",
       "                var nbb_cells = Jupyter.notebook.get_cells();\n",
       "                for (var i = 0; i < nbb_cells.length; ++i) {\n",
       "                    if (nbb_cells[i].input_prompt_number == nbb_cell_id) {\n",
       "                        if (nbb_cells[i].get_text() == nbb_unformatted_code) {\n",
       "                             nbb_cells[i].set_text(nbb_formatted_code);\n",
       "                        }\n",
       "                        break;\n",
       "                    }\n",
       "                }\n",
       "            }, 500);\n",
       "            "
      ],
      "text/plain": [
       "<IPython.core.display.Javascript object>"
      ]
     },
     "metadata": {},
     "output_type": "display_data"
    }
   ],
   "source": [
    "checking_vif(x_train)"
   ]
  },
  {
   "cell_type": "markdown",
   "metadata": {},
   "source": [
    "- If VIF is between 1 and 5, then there is low multicollinearity.\n",
    "- If VIF is between 5 and 10, we say there is moderate multicollinearity.\n",
    "- If VIF is exceeding 10, it shows signs of high multicollinearity.\n",
    "- Therefore: - screen_size shows moderate collinearity. Let us go ahead and treat the multicollinearity"
   ]
  },
  {
   "cell_type": "code",
   "execution_count": 53,
   "metadata": {},
   "outputs": [
    {
     "data": {
      "application/javascript": [
       "\n",
       "            setTimeout(function() {\n",
       "                var nbb_cell_id = 53;\n",
       "                var nbb_unformatted_code = \"def treating_multicollinearity(predictors, target, high_vif_columns):\\n    \\\"\\\"\\\"\\n    Checking the effect of dropping the columns showing high multicollinearity\\n    on model performance (adj. R-squared and RMSE)\\n\\n    predictors: independent variables\\n    target: dependent variable\\n    high_vif_columns: columns having high VIF\\n    \\\"\\\"\\\"\\n    # empty lists to store adj. R-squared and RMSE values\\n    adj_r2 = []\\n    rmse = []\\n\\n    # build ols models by dropping one of the high VIF columns at a time\\n    # store the adjusted R-squared and RMSE in the lists defined previously\\n    for cols in high_vif_columns:\\n        # defining the new train set\\n        train = predictors.loc[:, ~predictors.columns.str.startswith(cols)]\\n\\n        # create the model\\n        olsmodel = sm.OLS(target, train).fit()\\n\\n        # adding adj. R-squared and RMSE to the lists\\n        adj_r2.append(olsmodel.rsquared_adj)\\n        rmse.append(np.sqrt(olsmodel.mse_resid))\\n\\n    # creating a dataframe for the results\\n    temp = pd.DataFrame(\\n        {\\n            \\\"col\\\": high_vif_columns,\\n            \\\"Adj. R-squared after_dropping col\\\": adj_r2,\\n            \\\"RMSE after dropping col\\\": rmse,\\n        }\\n    ).sort_values(by=\\\"Adj. R-squared after_dropping col\\\", ascending=False)\\n    temp.reset_index(drop=True, inplace=True)\\n\\n    return temp\";\n",
       "                var nbb_formatted_code = \"def treating_multicollinearity(predictors, target, high_vif_columns):\\n    \\\"\\\"\\\"\\n    Checking the effect of dropping the columns showing high multicollinearity\\n    on model performance (adj. R-squared and RMSE)\\n\\n    predictors: independent variables\\n    target: dependent variable\\n    high_vif_columns: columns having high VIF\\n    \\\"\\\"\\\"\\n    # empty lists to store adj. R-squared and RMSE values\\n    adj_r2 = []\\n    rmse = []\\n\\n    # build ols models by dropping one of the high VIF columns at a time\\n    # store the adjusted R-squared and RMSE in the lists defined previously\\n    for cols in high_vif_columns:\\n        # defining the new train set\\n        train = predictors.loc[:, ~predictors.columns.str.startswith(cols)]\\n\\n        # create the model\\n        olsmodel = sm.OLS(target, train).fit()\\n\\n        # adding adj. R-squared and RMSE to the lists\\n        adj_r2.append(olsmodel.rsquared_adj)\\n        rmse.append(np.sqrt(olsmodel.mse_resid))\\n\\n    # creating a dataframe for the results\\n    temp = pd.DataFrame(\\n        {\\n            \\\"col\\\": high_vif_columns,\\n            \\\"Adj. R-squared after_dropping col\\\": adj_r2,\\n            \\\"RMSE after dropping col\\\": rmse,\\n        }\\n    ).sort_values(by=\\\"Adj. R-squared after_dropping col\\\", ascending=False)\\n    temp.reset_index(drop=True, inplace=True)\\n\\n    return temp\";\n",
       "                var nbb_cells = Jupyter.notebook.get_cells();\n",
       "                for (var i = 0; i < nbb_cells.length; ++i) {\n",
       "                    if (nbb_cells[i].input_prompt_number == nbb_cell_id) {\n",
       "                        if (nbb_cells[i].get_text() == nbb_unformatted_code) {\n",
       "                             nbb_cells[i].set_text(nbb_formatted_code);\n",
       "                        }\n",
       "                        break;\n",
       "                    }\n",
       "                }\n",
       "            }, 500);\n",
       "            "
      ],
      "text/plain": [
       "<IPython.core.display.Javascript object>"
      ]
     },
     "metadata": {},
     "output_type": "display_data"
    }
   ],
   "source": [
    "def treating_multicollinearity(predictors, target, high_vif_columns):\n",
    "    \"\"\"\n",
    "    Checking the effect of dropping the columns showing high multicollinearity\n",
    "    on model performance (adj. R-squared and RMSE)\n",
    "\n",
    "    predictors: independent variables\n",
    "    target: dependent variable\n",
    "    high_vif_columns: columns having high VIF\n",
    "    \"\"\"\n",
    "    # empty lists to store adj. R-squared and RMSE values\n",
    "    adj_r2 = []\n",
    "    rmse = []\n",
    "\n",
    "    # build ols models by dropping one of the high VIF columns at a time\n",
    "    # store the adjusted R-squared and RMSE in the lists defined previously\n",
    "    for cols in high_vif_columns:\n",
    "        # defining the new train set\n",
    "        train = predictors.loc[:, ~predictors.columns.str.startswith(cols)]\n",
    "\n",
    "        # create the model\n",
    "        olsmodel = sm.OLS(target, train).fit()\n",
    "\n",
    "        # adding adj. R-squared and RMSE to the lists\n",
    "        adj_r2.append(olsmodel.rsquared_adj)\n",
    "        rmse.append(np.sqrt(olsmodel.mse_resid))\n",
    "\n",
    "    # creating a dataframe for the results\n",
    "    temp = pd.DataFrame(\n",
    "        {\n",
    "            \"col\": high_vif_columns,\n",
    "            \"Adj. R-squared after_dropping col\": adj_r2,\n",
    "            \"RMSE after dropping col\": rmse,\n",
    "        }\n",
    "    ).sort_values(by=\"Adj. R-squared after_dropping col\", ascending=False)\n",
    "    temp.reset_index(drop=True, inplace=True)\n",
    "\n",
    "    return temp"
   ]
  },
  {
   "cell_type": "code",
   "execution_count": 54,
   "metadata": {},
   "outputs": [
    {
     "data": {
      "text/html": [
       "<div>\n",
       "<style scoped>\n",
       "    .dataframe tbody tr th:only-of-type {\n",
       "        vertical-align: middle;\n",
       "    }\n",
       "\n",
       "    .dataframe tbody tr th {\n",
       "        vertical-align: top;\n",
       "    }\n",
       "\n",
       "    .dataframe thead th {\n",
       "        text-align: right;\n",
       "    }\n",
       "</style>\n",
       "<table border=\"1\" class=\"dataframe\">\n",
       "  <thead>\n",
       "    <tr style=\"text-align: right;\">\n",
       "      <th></th>\n",
       "      <th>col</th>\n",
       "      <th>Adj. R-squared after_dropping col</th>\n",
       "      <th>RMSE after dropping col</th>\n",
       "    </tr>\n",
       "  </thead>\n",
       "  <tbody>\n",
       "    <tr>\n",
       "      <th>0</th>\n",
       "      <td>screen_size</td>\n",
       "      <td>0.831952</td>\n",
       "      <td>0.23157</td>\n",
       "    </tr>\n",
       "  </tbody>\n",
       "</table>\n",
       "</div>"
      ],
      "text/plain": [
       "           col  Adj. R-squared after_dropping col  RMSE after dropping col\n",
       "0  screen_size                           0.831952                  0.23157"
      ]
     },
     "execution_count": 54,
     "metadata": {},
     "output_type": "execute_result"
    },
    {
     "data": {
      "application/javascript": [
       "\n",
       "            setTimeout(function() {\n",
       "                var nbb_cell_id = 54;\n",
       "                var nbb_unformatted_code = \"col_list = [\\\"screen_size\\\"]\\n\\nres = treating_multicollinearity(x_train, y_train, col_list)\\nres\";\n",
       "                var nbb_formatted_code = \"col_list = [\\\"screen_size\\\"]\\n\\nres = treating_multicollinearity(x_train, y_train, col_list)\\nres\";\n",
       "                var nbb_cells = Jupyter.notebook.get_cells();\n",
       "                for (var i = 0; i < nbb_cells.length; ++i) {\n",
       "                    if (nbb_cells[i].input_prompt_number == nbb_cell_id) {\n",
       "                        if (nbb_cells[i].get_text() == nbb_unformatted_code) {\n",
       "                             nbb_cells[i].set_text(nbb_formatted_code);\n",
       "                        }\n",
       "                        break;\n",
       "                    }\n",
       "                }\n",
       "            }, 500);\n",
       "            "
      ],
      "text/plain": [
       "<IPython.core.display.Javascript object>"
      ]
     },
     "metadata": {},
     "output_type": "display_data"
    }
   ],
   "source": [
    "col_list = [\"screen_size\"]\n",
    "\n",
    "res = treating_multicollinearity(x_train, y_train, col_list)\n",
    "res"
   ]
  },
  {
   "cell_type": "markdown",
   "metadata": {},
   "source": [
    "Therefore we'll drop screen_size and check the VIF again."
   ]
  },
  {
   "cell_type": "code",
   "execution_count": 55,
   "metadata": {},
   "outputs": [
    {
     "name": "stdout",
     "output_type": "stream",
     "text": [
      "VIF after dropping  screen_size\n"
     ]
    },
    {
     "data": {
      "text/html": [
       "<div>\n",
       "<style scoped>\n",
       "    .dataframe tbody tr th:only-of-type {\n",
       "        vertical-align: middle;\n",
       "    }\n",
       "\n",
       "    .dataframe tbody tr th {\n",
       "        vertical-align: top;\n",
       "    }\n",
       "\n",
       "    .dataframe thead th {\n",
       "        text-align: right;\n",
       "    }\n",
       "</style>\n",
       "<table border=\"1\" class=\"dataframe\">\n",
       "  <thead>\n",
       "    <tr style=\"text-align: right;\">\n",
       "      <th></th>\n",
       "      <th>feature</th>\n",
       "      <th>VIF</th>\n",
       "    </tr>\n",
       "  </thead>\n",
       "  <tbody>\n",
       "    <tr>\n",
       "      <th>0</th>\n",
       "      <td>const</td>\n",
       "      <td>109.960713</td>\n",
       "    </tr>\n",
       "    <tr>\n",
       "      <th>1</th>\n",
       "      <td>main_camera_mp</td>\n",
       "      <td>2.167107</td>\n",
       "    </tr>\n",
       "    <tr>\n",
       "      <th>2</th>\n",
       "      <td>selfie_camera_mp</td>\n",
       "      <td>3.537312</td>\n",
       "    </tr>\n",
       "    <tr>\n",
       "      <th>3</th>\n",
       "      <td>int_memory</td>\n",
       "      <td>2.028173</td>\n",
       "    </tr>\n",
       "    <tr>\n",
       "      <th>4</th>\n",
       "      <td>battery</td>\n",
       "      <td>3.298705</td>\n",
       "    </tr>\n",
       "    <tr>\n",
       "      <th>5</th>\n",
       "      <td>weight</td>\n",
       "      <td>2.659448</td>\n",
       "    </tr>\n",
       "    <tr>\n",
       "      <th>6</th>\n",
       "      <td>days_used</td>\n",
       "      <td>2.473587</td>\n",
       "    </tr>\n",
       "    <tr>\n",
       "      <th>7</th>\n",
       "      <td>normalized_new_price</td>\n",
       "      <td>2.627941</td>\n",
       "    </tr>\n",
       "    <tr>\n",
       "      <th>8</th>\n",
       "      <td>years_since_release</td>\n",
       "      <td>4.873495</td>\n",
       "    </tr>\n",
       "    <tr>\n",
       "      <th>9</th>\n",
       "      <td>os_Others</td>\n",
       "      <td>1.227859</td>\n",
       "    </tr>\n",
       "    <tr>\n",
       "      <th>10</th>\n",
       "      <td>os_Windows</td>\n",
       "      <td>1.023902</td>\n",
       "    </tr>\n",
       "    <tr>\n",
       "      <th>11</th>\n",
       "      <td>os_iOS</td>\n",
       "      <td>1.070581</td>\n",
       "    </tr>\n",
       "    <tr>\n",
       "      <th>12</th>\n",
       "      <td>4g_yes</td>\n",
       "      <td>2.319244</td>\n",
       "    </tr>\n",
       "    <tr>\n",
       "      <th>13</th>\n",
       "      <td>5g_yes</td>\n",
       "      <td>1.346508</td>\n",
       "    </tr>\n",
       "  </tbody>\n",
       "</table>\n",
       "</div>"
      ],
      "text/plain": [
       "                 feature         VIF\n",
       "0                  const  109.960713\n",
       "1         main_camera_mp    2.167107\n",
       "2       selfie_camera_mp    3.537312\n",
       "3             int_memory    2.028173\n",
       "4                battery    3.298705\n",
       "5                 weight    2.659448\n",
       "6              days_used    2.473587\n",
       "7   normalized_new_price    2.627941\n",
       "8    years_since_release    4.873495\n",
       "9              os_Others    1.227859\n",
       "10            os_Windows    1.023902\n",
       "11                os_iOS    1.070581\n",
       "12                4g_yes    2.319244\n",
       "13                5g_yes    1.346508"
      ]
     },
     "execution_count": 55,
     "metadata": {},
     "output_type": "execute_result"
    },
    {
     "data": {
      "application/javascript": [
       "\n",
       "            setTimeout(function() {\n",
       "                var nbb_cell_id = 55;\n",
       "                var nbb_unformatted_code = \"col_to_drop = \\\"screen_size\\\"\\nx_train2 = x_train.loc[:, ~x_train.columns.str.startswith(col_to_drop)]\\nx_test2 = x_test.loc[:, ~x_test.columns.str.startswith(col_to_drop)]\\n\\n# Check VIF now\\nvif = checking_vif(x_train2)\\nprint(\\\"VIF after dropping \\\", col_to_drop)\\nvif\";\n",
       "                var nbb_formatted_code = \"col_to_drop = \\\"screen_size\\\"\\nx_train2 = x_train.loc[:, ~x_train.columns.str.startswith(col_to_drop)]\\nx_test2 = x_test.loc[:, ~x_test.columns.str.startswith(col_to_drop)]\\n\\n# Check VIF now\\nvif = checking_vif(x_train2)\\nprint(\\\"VIF after dropping \\\", col_to_drop)\\nvif\";\n",
       "                var nbb_cells = Jupyter.notebook.get_cells();\n",
       "                for (var i = 0; i < nbb_cells.length; ++i) {\n",
       "                    if (nbb_cells[i].input_prompt_number == nbb_cell_id) {\n",
       "                        if (nbb_cells[i].get_text() == nbb_unformatted_code) {\n",
       "                             nbb_cells[i].set_text(nbb_formatted_code);\n",
       "                        }\n",
       "                        break;\n",
       "                    }\n",
       "                }\n",
       "            }, 500);\n",
       "            "
      ],
      "text/plain": [
       "<IPython.core.display.Javascript object>"
      ]
     },
     "metadata": {},
     "output_type": "display_data"
    }
   ],
   "source": [
    "col_to_drop = \"screen_size\"\n",
    "x_train2 = x_train.loc[:, ~x_train.columns.str.startswith(col_to_drop)]\n",
    "x_test2 = x_test.loc[:, ~x_test.columns.str.startswith(col_to_drop)]\n",
    "\n",
    "# Check VIF now\n",
    "vif = checking_vif(x_train2)\n",
    "print(\"VIF after dropping \", col_to_drop)\n",
    "vif"
   ]
  },
  {
   "cell_type": "markdown",
   "metadata": {},
   "source": [
    "- Hence the above predictors have no multicollinearity and the assumption is satisfied\n",
    "- Let us check the model summary again"
   ]
  },
  {
   "cell_type": "code",
   "execution_count": 56,
   "metadata": {},
   "outputs": [
    {
     "name": "stdout",
     "output_type": "stream",
     "text": [
      "                              OLS Regression Results                             \n",
      "=================================================================================\n",
      "Dep. Variable:     normalized_used_price   R-squared:                       0.833\n",
      "Model:                               OLS   Adj. R-squared:                  0.832\n",
      "Method:                    Least Squares   F-statistic:                     921.1\n",
      "Date:                   Sun, 09 Oct 2022   Prob (F-statistic):               0.00\n",
      "Time:                           10:47:26   Log-Likelihood:                 113.21\n",
      "No. Observations:                   2417   AIC:                            -198.4\n",
      "Df Residuals:                       2403   BIC:                            -117.3\n",
      "Df Model:                             13                                         \n",
      "Covariance Type:               nonrobust                                         \n",
      "========================================================================================\n",
      "                           coef    std err          t      P>|t|      [0.025      0.975]\n",
      "----------------------------------------------------------------------------------------\n",
      "const                    1.3581      0.049     27.496      0.000       1.261       1.455\n",
      "main_camera_mp           0.0208      0.002     13.798      0.000       0.018       0.024\n",
      "selfie_camera_mp         0.0176      0.002     10.584      0.000       0.014       0.021\n",
      "int_memory               0.0003      0.000      1.796      0.073   -2.85e-05       0.001\n",
      "battery                3.79e-05   7.07e-06      5.360      0.000     2.4e-05    5.18e-05\n",
      "weight                   0.0030      0.000     14.995      0.000       0.003       0.003\n",
      "days_used             2.259e-05      3e-05      0.754      0.451   -3.62e-05    8.13e-05\n",
      "normalized_new_price     0.4071      0.011     35.915      0.000       0.385       0.429\n",
      "years_since_release     -0.0160      0.005     -3.519      0.000      -0.025      -0.007\n",
      "os_Others               -0.0393      0.026     -1.499      0.134      -0.091       0.012\n",
      "os_Windows               0.0562      0.033      1.694      0.090      -0.009       0.121\n",
      "os_iOS                   0.0386      0.048      0.801      0.423      -0.056       0.133\n",
      "4g_yes                   0.0179      0.015      1.166      0.244      -0.012       0.048\n",
      "5g_yes                  -0.0025      0.028     -0.090      0.928      -0.057       0.052\n",
      "==============================================================================\n",
      "Omnibus:                      108.497   Durbin-Watson:                   1.993\n",
      "Prob(Omnibus):                  0.000   Jarque-Bera (JB):              175.860\n",
      "Skew:                          -0.379   Prob(JB):                     6.49e-39\n",
      "Kurtosis:                       4.082   Cond. No.                     3.89e+04\n",
      "==============================================================================\n",
      "\n",
      "Notes:\n",
      "[1] Standard Errors assume that the covariance matrix of the errors is correctly specified.\n",
      "[2] The condition number is large, 3.89e+04. This might indicate that there are\n",
      "strong multicollinearity or other numerical problems.\n"
     ]
    },
    {
     "data": {
      "application/javascript": [
       "\n",
       "            setTimeout(function() {\n",
       "                var nbb_cell_id = 56;\n",
       "                var nbb_unformatted_code = \"olsmod1 = sm.OLS(y_train, x_train2).fit()\\nprint(olsmod1.summary())\";\n",
       "                var nbb_formatted_code = \"olsmod1 = sm.OLS(y_train, x_train2).fit()\\nprint(olsmod1.summary())\";\n",
       "                var nbb_cells = Jupyter.notebook.get_cells();\n",
       "                for (var i = 0; i < nbb_cells.length; ++i) {\n",
       "                    if (nbb_cells[i].input_prompt_number == nbb_cell_id) {\n",
       "                        if (nbb_cells[i].get_text() == nbb_unformatted_code) {\n",
       "                             nbb_cells[i].set_text(nbb_formatted_code);\n",
       "                        }\n",
       "                        break;\n",
       "                    }\n",
       "                }\n",
       "            }, 500);\n",
       "            "
      ],
      "text/plain": [
       "<IPython.core.display.Javascript object>"
      ]
     },
     "metadata": {},
     "output_type": "display_data"
    }
   ],
   "source": [
    "olsmod1 = sm.OLS(y_train, x_train2).fit()\n",
    "print(olsmod1.summary())"
   ]
  },
  {
   "cell_type": "markdown",
   "metadata": {},
   "source": [
    "- We can see that adj. R-squared has changed from 0.841 to 0.832 which shows that the dropped column had much effect on the model.\n",
    "- As there is no multicollinearity, we can look at the p-values of predictor variables to check their significance."
   ]
  },
  {
   "cell_type": "markdown",
   "metadata": {},
   "source": [
    "#### Dropping high p-value variables"
   ]
  },
  {
   "cell_type": "markdown",
   "metadata": {},
   "source": [
    "Instead of removing the variables with p-value > 0.05, we will: \n",
    "- Build a model, check the p-values of the variables, and drop the column with the highest p-value.\n",
    "- Create a new model without the dropped feature, check the p-values of the variables, and drop the column with the highest p-value.\n",
    "- Repeat the above two steps till there are no columns with p-value > 0.05."
   ]
  },
  {
   "cell_type": "code",
   "execution_count": 57,
   "metadata": {},
   "outputs": [
    {
     "data": {
      "text/html": [
       "<div>\n",
       "<style scoped>\n",
       "    .dataframe tbody tr th:only-of-type {\n",
       "        vertical-align: middle;\n",
       "    }\n",
       "\n",
       "    .dataframe tbody tr th {\n",
       "        vertical-align: top;\n",
       "    }\n",
       "\n",
       "    .dataframe thead th {\n",
       "        text-align: right;\n",
       "    }\n",
       "</style>\n",
       "<table border=\"1\" class=\"dataframe\">\n",
       "  <thead>\n",
       "    <tr style=\"text-align: right;\">\n",
       "      <th></th>\n",
       "      <th>const</th>\n",
       "      <th>main_camera_mp</th>\n",
       "      <th>selfie_camera_mp</th>\n",
       "      <th>int_memory</th>\n",
       "      <th>battery</th>\n",
       "      <th>weight</th>\n",
       "      <th>days_used</th>\n",
       "      <th>normalized_new_price</th>\n",
       "      <th>years_since_release</th>\n",
       "      <th>os_Others</th>\n",
       "      <th>os_Windows</th>\n",
       "      <th>os_iOS</th>\n",
       "      <th>4g_yes</th>\n",
       "      <th>5g_yes</th>\n",
       "    </tr>\n",
       "  </thead>\n",
       "  <tbody>\n",
       "    <tr>\n",
       "      <th>1744</th>\n",
       "      <td>1.0</td>\n",
       "      <td>13.0</td>\n",
       "      <td>1.3</td>\n",
       "      <td>32.0</td>\n",
       "      <td>2440.0</td>\n",
       "      <td>121.0</td>\n",
       "      <td>632</td>\n",
       "      <td>5.477969</td>\n",
       "      <td>7</td>\n",
       "      <td>0</td>\n",
       "      <td>0</td>\n",
       "      <td>0</td>\n",
       "      <td>1</td>\n",
       "      <td>0</td>\n",
       "    </tr>\n",
       "    <tr>\n",
       "      <th>3141</th>\n",
       "      <td>1.0</td>\n",
       "      <td>8.0</td>\n",
       "      <td>2.0</td>\n",
       "      <td>32.0</td>\n",
       "      <td>1800.0</td>\n",
       "      <td>166.0</td>\n",
       "      <td>828</td>\n",
       "      <td>4.593604</td>\n",
       "      <td>6</td>\n",
       "      <td>0</td>\n",
       "      <td>0</td>\n",
       "      <td>0</td>\n",
       "      <td>0</td>\n",
       "      <td>0</td>\n",
       "    </tr>\n",
       "    <tr>\n",
       "      <th>1233</th>\n",
       "      <td>1.0</td>\n",
       "      <td>13.0</td>\n",
       "      <td>5.0</td>\n",
       "      <td>32.0</td>\n",
       "      <td>2600.0</td>\n",
       "      <td>165.0</td>\n",
       "      <td>620</td>\n",
       "      <td>5.523179</td>\n",
       "      <td>7</td>\n",
       "      <td>0</td>\n",
       "      <td>0</td>\n",
       "      <td>0</td>\n",
       "      <td>0</td>\n",
       "      <td>0</td>\n",
       "    </tr>\n",
       "    <tr>\n",
       "      <th>3046</th>\n",
       "      <td>1.0</td>\n",
       "      <td>5.0</td>\n",
       "      <td>0.3</td>\n",
       "      <td>16.0</td>\n",
       "      <td>2000.0</td>\n",
       "      <td>150.0</td>\n",
       "      <td>739</td>\n",
       "      <td>4.939640</td>\n",
       "      <td>8</td>\n",
       "      <td>0</td>\n",
       "      <td>0</td>\n",
       "      <td>0</td>\n",
       "      <td>0</td>\n",
       "      <td>0</td>\n",
       "    </tr>\n",
       "    <tr>\n",
       "      <th>2649</th>\n",
       "      <td>1.0</td>\n",
       "      <td>8.0</td>\n",
       "      <td>1.9</td>\n",
       "      <td>32.0</td>\n",
       "      <td>2100.0</td>\n",
       "      <td>134.0</td>\n",
       "      <td>785</td>\n",
       "      <td>4.702751</td>\n",
       "      <td>8</td>\n",
       "      <td>0</td>\n",
       "      <td>0</td>\n",
       "      <td>0</td>\n",
       "      <td>1</td>\n",
       "      <td>0</td>\n",
       "    </tr>\n",
       "    <tr>\n",
       "      <th>...</th>\n",
       "      <td>...</td>\n",
       "      <td>...</td>\n",
       "      <td>...</td>\n",
       "      <td>...</td>\n",
       "      <td>...</td>\n",
       "      <td>...</td>\n",
       "      <td>...</td>\n",
       "      <td>...</td>\n",
       "      <td>...</td>\n",
       "      <td>...</td>\n",
       "      <td>...</td>\n",
       "      <td>...</td>\n",
       "      <td>...</td>\n",
       "      <td>...</td>\n",
       "    </tr>\n",
       "    <tr>\n",
       "      <th>1095</th>\n",
       "      <td>1.0</td>\n",
       "      <td>13.0</td>\n",
       "      <td>8.0</td>\n",
       "      <td>32.0</td>\n",
       "      <td>3020.0</td>\n",
       "      <td>150.0</td>\n",
       "      <td>283</td>\n",
       "      <td>4.610357</td>\n",
       "      <td>2</td>\n",
       "      <td>0</td>\n",
       "      <td>0</td>\n",
       "      <td>0</td>\n",
       "      <td>1</td>\n",
       "      <td>0</td>\n",
       "    </tr>\n",
       "    <tr>\n",
       "      <th>1130</th>\n",
       "      <td>1.0</td>\n",
       "      <td>13.0</td>\n",
       "      <td>5.0</td>\n",
       "      <td>32.0</td>\n",
       "      <td>3000.0</td>\n",
       "      <td>165.0</td>\n",
       "      <td>904</td>\n",
       "      <td>5.294410</td>\n",
       "      <td>7</td>\n",
       "      <td>0</td>\n",
       "      <td>0</td>\n",
       "      <td>0</td>\n",
       "      <td>1</td>\n",
       "      <td>0</td>\n",
       "    </tr>\n",
       "    <tr>\n",
       "      <th>1294</th>\n",
       "      <td>1.0</td>\n",
       "      <td>13.0</td>\n",
       "      <td>8.0</td>\n",
       "      <td>64.0</td>\n",
       "      <td>4000.0</td>\n",
       "      <td>170.0</td>\n",
       "      <td>706</td>\n",
       "      <td>5.390760</td>\n",
       "      <td>3</td>\n",
       "      <td>0</td>\n",
       "      <td>0</td>\n",
       "      <td>0</td>\n",
       "      <td>1</td>\n",
       "      <td>0</td>\n",
       "    </tr>\n",
       "    <tr>\n",
       "      <th>860</th>\n",
       "      <td>1.0</td>\n",
       "      <td>8.0</td>\n",
       "      <td>2.0</td>\n",
       "      <td>32.0</td>\n",
       "      <td>2200.0</td>\n",
       "      <td>139.0</td>\n",
       "      <td>637</td>\n",
       "      <td>5.003611</td>\n",
       "      <td>7</td>\n",
       "      <td>0</td>\n",
       "      <td>1</td>\n",
       "      <td>0</td>\n",
       "      <td>0</td>\n",
       "      <td>0</td>\n",
       "    </tr>\n",
       "    <tr>\n",
       "      <th>3174</th>\n",
       "      <td>1.0</td>\n",
       "      <td>8.0</td>\n",
       "      <td>1.0</td>\n",
       "      <td>16.0</td>\n",
       "      <td>2300.0</td>\n",
       "      <td>130.0</td>\n",
       "      <td>916</td>\n",
       "      <td>5.735636</td>\n",
       "      <td>8</td>\n",
       "      <td>0</td>\n",
       "      <td>0</td>\n",
       "      <td>0</td>\n",
       "      <td>1</td>\n",
       "      <td>0</td>\n",
       "    </tr>\n",
       "  </tbody>\n",
       "</table>\n",
       "<p>2417 rows × 14 columns</p>\n",
       "</div>"
      ],
      "text/plain": [
       "      const  main_camera_mp  selfie_camera_mp  int_memory  battery  weight  \\\n",
       "1744    1.0            13.0               1.3        32.0   2440.0   121.0   \n",
       "3141    1.0             8.0               2.0        32.0   1800.0   166.0   \n",
       "1233    1.0            13.0               5.0        32.0   2600.0   165.0   \n",
       "3046    1.0             5.0               0.3        16.0   2000.0   150.0   \n",
       "2649    1.0             8.0               1.9        32.0   2100.0   134.0   \n",
       "...     ...             ...               ...         ...      ...     ...   \n",
       "1095    1.0            13.0               8.0        32.0   3020.0   150.0   \n",
       "1130    1.0            13.0               5.0        32.0   3000.0   165.0   \n",
       "1294    1.0            13.0               8.0        64.0   4000.0   170.0   \n",
       "860     1.0             8.0               2.0        32.0   2200.0   139.0   \n",
       "3174    1.0             8.0               1.0        16.0   2300.0   130.0   \n",
       "\n",
       "      days_used  normalized_new_price  years_since_release  os_Others  \\\n",
       "1744        632              5.477969                    7          0   \n",
       "3141        828              4.593604                    6          0   \n",
       "1233        620              5.523179                    7          0   \n",
       "3046        739              4.939640                    8          0   \n",
       "2649        785              4.702751                    8          0   \n",
       "...         ...                   ...                  ...        ...   \n",
       "1095        283              4.610357                    2          0   \n",
       "1130        904              5.294410                    7          0   \n",
       "1294        706              5.390760                    3          0   \n",
       "860         637              5.003611                    7          0   \n",
       "3174        916              5.735636                    8          0   \n",
       "\n",
       "      os_Windows  os_iOS  4g_yes  5g_yes  \n",
       "1744           0       0       1       0  \n",
       "3141           0       0       0       0  \n",
       "1233           0       0       0       0  \n",
       "3046           0       0       0       0  \n",
       "2649           0       0       1       0  \n",
       "...          ...     ...     ...     ...  \n",
       "1095           0       0       1       0  \n",
       "1130           0       0       1       0  \n",
       "1294           0       0       1       0  \n",
       "860            1       0       0       0  \n",
       "3174           0       0       1       0  \n",
       "\n",
       "[2417 rows x 14 columns]"
      ]
     },
     "execution_count": 57,
     "metadata": {},
     "output_type": "execute_result"
    },
    {
     "data": {
      "application/javascript": [
       "\n",
       "            setTimeout(function() {\n",
       "                var nbb_cell_id = 57;\n",
       "                var nbb_unformatted_code = \"predictors = x_train2\\npredictors\";\n",
       "                var nbb_formatted_code = \"predictors = x_train2\\npredictors\";\n",
       "                var nbb_cells = Jupyter.notebook.get_cells();\n",
       "                for (var i = 0; i < nbb_cells.length; ++i) {\n",
       "                    if (nbb_cells[i].input_prompt_number == nbb_cell_id) {\n",
       "                        if (nbb_cells[i].get_text() == nbb_unformatted_code) {\n",
       "                             nbb_cells[i].set_text(nbb_formatted_code);\n",
       "                        }\n",
       "                        break;\n",
       "                    }\n",
       "                }\n",
       "            }, 500);\n",
       "            "
      ],
      "text/plain": [
       "<IPython.core.display.Javascript object>"
      ]
     },
     "metadata": {},
     "output_type": "display_data"
    }
   ],
   "source": [
    "predictors = x_train2\n",
    "predictors"
   ]
  },
  {
   "cell_type": "code",
   "execution_count": 58,
   "metadata": {},
   "outputs": [
    {
     "name": "stdout",
     "output_type": "stream",
     "text": [
      "['const', 'main_camera_mp', 'selfie_camera_mp', 'battery', 'weight', 'normalized_new_price', 'years_since_release']\n"
     ]
    },
    {
     "data": {
      "application/javascript": [
       "\n",
       "            setTimeout(function() {\n",
       "                var nbb_cell_id = 58;\n",
       "                var nbb_unformatted_code = \"# initial list of columns\\ncols = x_train2.columns.tolist()\\n\\n# setting an initial max p-value\\nmax_p_value = 1\\n\\nwhile len(cols) > 0:\\n    # defining the train set\\n    x_train_aux = x_train2[cols]\\n\\n    # fitting the model\\n    model = sm.OLS(y_train, x_train_aux).fit()\\n\\n    # getting the p-values and the maximum p-value\\n    p_values = model.pvalues\\n    max_p_value = max(p_values)\\n\\n    # name of the variable with maximum p-value\\n    feature_with_p_max = p_values.idxmax()\\n\\n    if max_p_value > 0.05:\\n        cols.remove(feature_with_p_max)\\n    else:\\n        break\\n\\nselected_features = cols\\nprint(selected_features)\";\n",
       "                var nbb_formatted_code = \"# initial list of columns\\ncols = x_train2.columns.tolist()\\n\\n# setting an initial max p-value\\nmax_p_value = 1\\n\\nwhile len(cols) > 0:\\n    # defining the train set\\n    x_train_aux = x_train2[cols]\\n\\n    # fitting the model\\n    model = sm.OLS(y_train, x_train_aux).fit()\\n\\n    # getting the p-values and the maximum p-value\\n    p_values = model.pvalues\\n    max_p_value = max(p_values)\\n\\n    # name of the variable with maximum p-value\\n    feature_with_p_max = p_values.idxmax()\\n\\n    if max_p_value > 0.05:\\n        cols.remove(feature_with_p_max)\\n    else:\\n        break\\n\\nselected_features = cols\\nprint(selected_features)\";\n",
       "                var nbb_cells = Jupyter.notebook.get_cells();\n",
       "                for (var i = 0; i < nbb_cells.length; ++i) {\n",
       "                    if (nbb_cells[i].input_prompt_number == nbb_cell_id) {\n",
       "                        if (nbb_cells[i].get_text() == nbb_unformatted_code) {\n",
       "                             nbb_cells[i].set_text(nbb_formatted_code);\n",
       "                        }\n",
       "                        break;\n",
       "                    }\n",
       "                }\n",
       "            }, 500);\n",
       "            "
      ],
      "text/plain": [
       "<IPython.core.display.Javascript object>"
      ]
     },
     "metadata": {},
     "output_type": "display_data"
    }
   ],
   "source": [
    "# initial list of columns\n",
    "cols = x_train2.columns.tolist()\n",
    "\n",
    "# setting an initial max p-value\n",
    "max_p_value = 1\n",
    "\n",
    "while len(cols) > 0:\n",
    "    # defining the train set\n",
    "    x_train_aux = x_train2[cols]\n",
    "\n",
    "    # fitting the model\n",
    "    model = sm.OLS(y_train, x_train_aux).fit()\n",
    "\n",
    "    # getting the p-values and the maximum p-value\n",
    "    p_values = model.pvalues\n",
    "    max_p_value = max(p_values)\n",
    "\n",
    "    # name of the variable with maximum p-value\n",
    "    feature_with_p_max = p_values.idxmax()\n",
    "\n",
    "    if max_p_value > 0.05:\n",
    "        cols.remove(feature_with_p_max)\n",
    "    else:\n",
    "        break\n",
    "\n",
    "selected_features = cols\n",
    "print(selected_features)"
   ]
  },
  {
   "cell_type": "code",
   "execution_count": 59,
   "metadata": {},
   "outputs": [
    {
     "data": {
      "application/javascript": [
       "\n",
       "            setTimeout(function() {\n",
       "                var nbb_cell_id = 59;\n",
       "                var nbb_unformatted_code = \"x_train3 = x_train2[[\\\"const\\\"] + selected_features]\\nx_test3 = x_test2[[\\\"const\\\"] + selected_features]\";\n",
       "                var nbb_formatted_code = \"x_train3 = x_train2[[\\\"const\\\"] + selected_features]\\nx_test3 = x_test2[[\\\"const\\\"] + selected_features]\";\n",
       "                var nbb_cells = Jupyter.notebook.get_cells();\n",
       "                for (var i = 0; i < nbb_cells.length; ++i) {\n",
       "                    if (nbb_cells[i].input_prompt_number == nbb_cell_id) {\n",
       "                        if (nbb_cells[i].get_text() == nbb_unformatted_code) {\n",
       "                             nbb_cells[i].set_text(nbb_formatted_code);\n",
       "                        }\n",
       "                        break;\n",
       "                    }\n",
       "                }\n",
       "            }, 500);\n",
       "            "
      ],
      "text/plain": [
       "<IPython.core.display.Javascript object>"
      ]
     },
     "metadata": {},
     "output_type": "display_data"
    }
   ],
   "source": [
    "x_train3 = x_train2[[\"const\"] + selected_features]\n",
    "x_test3 = x_test2[[\"const\"] + selected_features]"
   ]
  },
  {
   "cell_type": "code",
   "execution_count": 60,
   "metadata": {},
   "outputs": [
    {
     "name": "stdout",
     "output_type": "stream",
     "text": [
      "                              OLS Regression Results                             \n",
      "=================================================================================\n",
      "Dep. Variable:     normalized_used_price   R-squared:                       0.832\n",
      "Model:                               OLS   Adj. R-squared:                  0.832\n",
      "Method:                    Least Squares   F-statistic:                     1991.\n",
      "Date:                   Sun, 09 Oct 2022   Prob (F-statistic):               0.00\n",
      "Time:                           10:47:30   Log-Likelihood:                 108.07\n",
      "No. Observations:                   2417   AIC:                            -202.1\n",
      "Df Residuals:                       2410   BIC:                            -161.6\n",
      "Df Model:                              6                                         \n",
      "Covariance Type:               nonrobust                                         \n",
      "========================================================================================\n",
      "                           coef    std err          t      P>|t|      [0.025      0.975]\n",
      "----------------------------------------------------------------------------------------\n",
      "const                    0.6682      0.022     29.801      0.000       0.624       0.712\n",
      "const                    0.6682      0.022     29.801      0.000       0.624       0.712\n",
      "main_camera_mp           0.0214      0.001     15.758      0.000       0.019       0.024\n",
      "selfie_camera_mp         0.0183      0.002     11.897      0.000       0.015       0.021\n",
      "battery               3.781e-05   6.99e-06      5.408      0.000    2.41e-05    5.15e-05\n",
      "weight                   0.0030      0.000     15.335      0.000       0.003       0.003\n",
      "normalized_new_price     0.4173      0.010     41.180      0.000       0.397       0.437\n",
      "years_since_release     -0.0165      0.003     -4.862      0.000      -0.023      -0.010\n",
      "==============================================================================\n",
      "Omnibus:                      107.627   Durbin-Watson:                   1.990\n",
      "Prob(Omnibus):                  0.000   Jarque-Bera (JB):              176.518\n",
      "Skew:                          -0.373   Prob(JB):                     4.67e-39\n",
      "Kurtosis:                       4.093   Cond. No.                     5.15e+17\n",
      "==============================================================================\n",
      "\n",
      "Notes:\n",
      "[1] Standard Errors assume that the covariance matrix of the errors is correctly specified.\n",
      "[2] The smallest eigenvalue is 1.02e-25. This might indicate that there are\n",
      "strong multicollinearity problems or that the design matrix is singular.\n"
     ]
    },
    {
     "data": {
      "application/javascript": [
       "\n",
       "            setTimeout(function() {\n",
       "                var nbb_cell_id = 60;\n",
       "                var nbb_unformatted_code = \"# print model summary\\nolsmod2 = sm.OLS(y_train, x_train3).fit()\\nprint(olsmod2.summary())\";\n",
       "                var nbb_formatted_code = \"# print model summary\\nolsmod2 = sm.OLS(y_train, x_train3).fit()\\nprint(olsmod2.summary())\";\n",
       "                var nbb_cells = Jupyter.notebook.get_cells();\n",
       "                for (var i = 0; i < nbb_cells.length; ++i) {\n",
       "                    if (nbb_cells[i].input_prompt_number == nbb_cell_id) {\n",
       "                        if (nbb_cells[i].get_text() == nbb_unformatted_code) {\n",
       "                             nbb_cells[i].set_text(nbb_formatted_code);\n",
       "                        }\n",
       "                        break;\n",
       "                    }\n",
       "                }\n",
       "            }, 500);\n",
       "            "
      ],
      "text/plain": [
       "<IPython.core.display.Javascript object>"
      ]
     },
     "metadata": {},
     "output_type": "display_data"
    }
   ],
   "source": [
    "# print model summary\n",
    "olsmod2 = sm.OLS(y_train, x_train3).fit()\n",
    "print(olsmod2.summary())"
   ]
  },
  {
   "cell_type": "markdown",
   "metadata": {},
   "source": [
    "- Now, no feature (other than the constant) has a p-value greater than 0.05, so we'll use the features in x train3 as the final set of predictor variables and olsmod2 as the final model.\n",
    "- Now, the adjusted R-squared value is 0.832, which means that our model can explain about 83% of the variation. The model is good because of this.\n",
    "- In olsmodel, where we looked at all of the variables, the adjusted R-squared was 0.832. This shows that the variables we took out didn't have much of an effect on the model."
   ]
  },
  {
   "cell_type": "markdown",
   "metadata": {},
   "source": [
    "#### TEST FOR LINEARITY AND INDEPENDENCE"
   ]
  },
  {
   "cell_type": "code",
   "execution_count": 61,
   "metadata": {},
   "outputs": [
    {
     "data": {
      "text/html": [
       "<div>\n",
       "<style scoped>\n",
       "    .dataframe tbody tr th:only-of-type {\n",
       "        vertical-align: middle;\n",
       "    }\n",
       "\n",
       "    .dataframe tbody tr th {\n",
       "        vertical-align: top;\n",
       "    }\n",
       "\n",
       "    .dataframe thead th {\n",
       "        text-align: right;\n",
       "    }\n",
       "</style>\n",
       "<table border=\"1\" class=\"dataframe\">\n",
       "  <thead>\n",
       "    <tr style=\"text-align: right;\">\n",
       "      <th></th>\n",
       "      <th>Actual Values</th>\n",
       "      <th>Fitted Values</th>\n",
       "      <th>Residuals</th>\n",
       "    </tr>\n",
       "  </thead>\n",
       "  <tbody>\n",
       "    <tr>\n",
       "      <th>1744</th>\n",
       "      <td>4.261975</td>\n",
       "      <td>4.264041</td>\n",
       "      <td>-0.002066</td>\n",
       "    </tr>\n",
       "    <tr>\n",
       "      <th>3141</th>\n",
       "      <td>4.175156</td>\n",
       "      <td>3.928034</td>\n",
       "      <td>0.247123</td>\n",
       "    </tr>\n",
       "    <tr>\n",
       "      <th>1233</th>\n",
       "      <td>4.117410</td>\n",
       "      <td>4.488655</td>\n",
       "      <td>-0.371245</td>\n",
       "    </tr>\n",
       "    <tr>\n",
       "      <th>3046</th>\n",
       "      <td>3.782597</td>\n",
       "      <td>3.903572</td>\n",
       "      <td>-0.120974</td>\n",
       "    </tr>\n",
       "    <tr>\n",
       "      <th>2649</th>\n",
       "      <td>3.981922</td>\n",
       "      <td>3.854052</td>\n",
       "      <td>0.127870</td>\n",
       "    </tr>\n",
       "  </tbody>\n",
       "</table>\n",
       "</div>"
      ],
      "text/plain": [
       "      Actual Values  Fitted Values  Residuals\n",
       "1744       4.261975       4.264041  -0.002066\n",
       "3141       4.175156       3.928034   0.247123\n",
       "1233       4.117410       4.488655  -0.371245\n",
       "3046       3.782597       3.903572  -0.120974\n",
       "2649       3.981922       3.854052   0.127870"
      ]
     },
     "execution_count": 61,
     "metadata": {},
     "output_type": "execute_result"
    },
    {
     "data": {
      "application/javascript": [
       "\n",
       "            setTimeout(function() {\n",
       "                var nbb_cell_id = 61;\n",
       "                var nbb_unformatted_code = \"# let us create a dataframe with actual, fitted and residual values\\ndf_pred = pd.DataFrame()\\n\\ndf_pred[\\\"Actual Values\\\"] = y_train  # actual values\\ndf_pred[\\\"Fitted Values\\\"] = olsmod2.fittedvalues  # predicted values\\ndf_pred[\\\"Residuals\\\"] = olsmod2.resid  # residuals\\n\\ndf_pred.head()\";\n",
       "                var nbb_formatted_code = \"# let us create a dataframe with actual, fitted and residual values\\ndf_pred = pd.DataFrame()\\n\\ndf_pred[\\\"Actual Values\\\"] = y_train  # actual values\\ndf_pred[\\\"Fitted Values\\\"] = olsmod2.fittedvalues  # predicted values\\ndf_pred[\\\"Residuals\\\"] = olsmod2.resid  # residuals\\n\\ndf_pred.head()\";\n",
       "                var nbb_cells = Jupyter.notebook.get_cells();\n",
       "                for (var i = 0; i < nbb_cells.length; ++i) {\n",
       "                    if (nbb_cells[i].input_prompt_number == nbb_cell_id) {\n",
       "                        if (nbb_cells[i].get_text() == nbb_unformatted_code) {\n",
       "                             nbb_cells[i].set_text(nbb_formatted_code);\n",
       "                        }\n",
       "                        break;\n",
       "                    }\n",
       "                }\n",
       "            }, 500);\n",
       "            "
      ],
      "text/plain": [
       "<IPython.core.display.Javascript object>"
      ]
     },
     "metadata": {},
     "output_type": "display_data"
    }
   ],
   "source": [
    "# let us create a dataframe with actual, fitted and residual values\n",
    "df_pred = pd.DataFrame()\n",
    "\n",
    "df_pred[\"Actual Values\"] = y_train  # actual values\n",
    "df_pred[\"Fitted Values\"] = olsmod2.fittedvalues  # predicted values\n",
    "df_pred[\"Residuals\"] = olsmod2.resid  # residuals\n",
    "\n",
    "df_pred.head()"
   ]
  },
  {
   "cell_type": "code",
   "execution_count": 62,
   "metadata": {},
   "outputs": [
    {
     "data": {
      "image/png": "[encoded data removed]",
      "text/plain": [
       "<Figure size 432x288 with 1 Axes>"
      ]
     },
     "metadata": {
      "needs_background": "light"
     },
     "output_type": "display_data"
    },
    {
     "data": {
      "application/javascript": [
       "\n",
       "            setTimeout(function() {\n",
       "                var nbb_cell_id = 62;\n",
       "                var nbb_unformatted_code = \"# let's plot the fitted values vs residuals\\n\\nsns.residplot(\\n    data=df_pred, x=\\\"Fitted Values\\\", y=\\\"Residuals\\\", color=\\\"purple\\\", lowess=True\\n)\\nplt.xlabel(\\\"Fitted Values\\\")\\nplt.ylabel(\\\"Residuals\\\")\\nplt.title(\\\"Fitted vs Residual plot\\\")\\nplt.show()\";\n",
       "                var nbb_formatted_code = \"# let's plot the fitted values vs residuals\\n\\nsns.residplot(\\n    data=df_pred, x=\\\"Fitted Values\\\", y=\\\"Residuals\\\", color=\\\"purple\\\", lowess=True\\n)\\nplt.xlabel(\\\"Fitted Values\\\")\\nplt.ylabel(\\\"Residuals\\\")\\nplt.title(\\\"Fitted vs Residual plot\\\")\\nplt.show()\";\n",
       "                var nbb_cells = Jupyter.notebook.get_cells();\n",
       "                for (var i = 0; i < nbb_cells.length; ++i) {\n",
       "                    if (nbb_cells[i].input_prompt_number == nbb_cell_id) {\n",
       "                        if (nbb_cells[i].get_text() == nbb_unformatted_code) {\n",
       "                             nbb_cells[i].set_text(nbb_formatted_code);\n",
       "                        }\n",
       "                        break;\n",
       "                    }\n",
       "                }\n",
       "            }, 500);\n",
       "            "
      ],
      "text/plain": [
       "<IPython.core.display.Javascript object>"
      ]
     },
     "metadata": {},
     "output_type": "display_data"
    }
   ],
   "source": [
    "# let's plot the fitted values vs residuals\n",
    "\n",
    "sns.residplot(\n",
    "    data=df_pred, x=\"Fitted Values\", y=\"Residuals\", color=\"purple\", lowess=True\n",
    ")\n",
    "plt.xlabel(\"Fitted Values\")\n",
    "plt.ylabel(\"Residuals\")\n",
    "plt.title(\"Fitted vs Residual plot\")\n",
    "plt.show()"
   ]
  },
  {
   "cell_type": "markdown",
   "metadata": {},
   "source": [
    "- The scatter plot shows the distribution of residuals (errors) vs fitted values (predicted values).\n",
    "- There is no pattern in the plot above. Hence, the assumptions of linearity and independence are satisfied."
   ]
  },
  {
   "cell_type": "markdown",
   "metadata": {},
   "source": [
    "#### TEST FOR NORMALITY"
   ]
  },
  {
   "cell_type": "code",
   "execution_count": 63,
   "metadata": {},
   "outputs": [
    {
     "data": {
      "image/png": "[encoded data removed]",
      "text/plain": [
       "<Figure size 432x288 with 1 Axes>"
      ]
     },
     "metadata": {
      "needs_background": "light"
     },
     "output_type": "display_data"
    },
    {
     "data": {
      "application/javascript": [
       "\n",
       "            setTimeout(function() {\n",
       "                var nbb_cell_id = 63;\n",
       "                var nbb_unformatted_code = \"sns.histplot(data=df_pred, x=\\\"Residuals\\\", kde=True)\\nplt.title(\\\"Normality of residuals\\\")\\nplt.show()\";\n",
       "                var nbb_formatted_code = \"sns.histplot(data=df_pred, x=\\\"Residuals\\\", kde=True)\\nplt.title(\\\"Normality of residuals\\\")\\nplt.show()\";\n",
       "                var nbb_cells = Jupyter.notebook.get_cells();\n",
       "                for (var i = 0; i < nbb_cells.length; ++i) {\n",
       "                    if (nbb_cells[i].input_prompt_number == nbb_cell_id) {\n",
       "                        if (nbb_cells[i].get_text() == nbb_unformatted_code) {\n",
       "                             nbb_cells[i].set_text(nbb_formatted_code);\n",
       "                        }\n",
       "                        break;\n",
       "                    }\n",
       "                }\n",
       "            }, 500);\n",
       "            "
      ],
      "text/plain": [
       "<IPython.core.display.Javascript object>"
      ]
     },
     "metadata": {},
     "output_type": "display_data"
    }
   ],
   "source": [
    "sns.histplot(data=df_pred, x=\"Residuals\", kde=True)\n",
    "plt.title(\"Normality of residuals\")\n",
    "plt.show()"
   ]
  },
  {
   "cell_type": "markdown",
   "metadata": {},
   "source": [
    "- The histogram of residuals does have a bell shape.\n",
    "- Let's check the Q-Q plot."
   ]
  },
  {
   "cell_type": "code",
   "execution_count": 64,
   "metadata": {},
   "outputs": [
    {
     "data": {
      "image/png": "[encoded data removed]",
      "text/plain": [
       "<Figure size 432x288 with 1 Axes>"
      ]
     },
     "metadata": {
      "needs_background": "light"
     },
     "output_type": "display_data"
    },
    {
     "data": {
      "application/javascript": [
       "\n",
       "            setTimeout(function() {\n",
       "                var nbb_cell_id = 64;\n",
       "                var nbb_unformatted_code = \"import pylab\\nimport scipy.stats as stats\\n\\nstats.probplot(df_pred[\\\"Residuals\\\"], dist=\\\"norm\\\", plot=pylab)\\nplt.show()\";\n",
       "                var nbb_formatted_code = \"import pylab\\nimport scipy.stats as stats\\n\\nstats.probplot(df_pred[\\\"Residuals\\\"], dist=\\\"norm\\\", plot=pylab)\\nplt.show()\";\n",
       "                var nbb_cells = Jupyter.notebook.get_cells();\n",
       "                for (var i = 0; i < nbb_cells.length; ++i) {\n",
       "                    if (nbb_cells[i].input_prompt_number == nbb_cell_id) {\n",
       "                        if (nbb_cells[i].get_text() == nbb_unformatted_code) {\n",
       "                             nbb_cells[i].set_text(nbb_formatted_code);\n",
       "                        }\n",
       "                        break;\n",
       "                    }\n",
       "                }\n",
       "            }, 500);\n",
       "            "
      ],
      "text/plain": [
       "<IPython.core.display.Javascript object>"
      ]
     },
     "metadata": {},
     "output_type": "display_data"
    }
   ],
   "source": [
    "import pylab\n",
    "import scipy.stats as stats\n",
    "\n",
    "stats.probplot(df_pred[\"Residuals\"], dist=\"norm\", plot=pylab)\n",
    "plt.show()"
   ]
  },
  {
   "cell_type": "markdown",
   "metadata": {},
   "source": [
    "- The residuals more or less follow a straight line except for the tails.\n",
    "- Let's us see the results of the Shapiro-Wilk test."
   ]
  },
  {
   "cell_type": "code",
   "execution_count": 65,
   "metadata": {},
   "outputs": [
    {
     "data": {
      "text/plain": [
       "ShapiroResult(statistic=0.9810413718223572, pvalue=1.995171052570356e-17)"
      ]
     },
     "execution_count": 65,
     "metadata": {},
     "output_type": "execute_result"
    },
    {
     "data": {
      "application/javascript": [
       "\n",
       "            setTimeout(function() {\n",
       "                var nbb_cell_id = 65;\n",
       "                var nbb_unformatted_code = \"stats.shapiro(df_pred[\\\"Residuals\\\"])\";\n",
       "                var nbb_formatted_code = \"stats.shapiro(df_pred[\\\"Residuals\\\"])\";\n",
       "                var nbb_cells = Jupyter.notebook.get_cells();\n",
       "                for (var i = 0; i < nbb_cells.length; ++i) {\n",
       "                    if (nbb_cells[i].input_prompt_number == nbb_cell_id) {\n",
       "                        if (nbb_cells[i].get_text() == nbb_unformatted_code) {\n",
       "                             nbb_cells[i].set_text(nbb_formatted_code);\n",
       "                        }\n",
       "                        break;\n",
       "                    }\n",
       "                }\n",
       "            }, 500);\n",
       "            "
      ],
      "text/plain": [
       "<IPython.core.display.Javascript object>"
      ]
     },
     "metadata": {},
     "output_type": "display_data"
    }
   ],
   "source": [
    "stats.shapiro(df_pred[\"Residuals\"])"
   ]
  },
  {
   "cell_type": "markdown",
   "metadata": {},
   "source": [
    "- The Shapiro-Wilk test says that the residuals are not normal because the p-value is less than 0.05.\n",
    "- But as a rough estimate, we can think of this distribution as close to normal. So, we can say that the assumption is true."
   ]
  },
  {
   "cell_type": "markdown",
   "metadata": {},
   "source": [
    "#### TEST FOR HOMOSCEDASTICITY"
   ]
  },
  {
   "cell_type": "code",
   "execution_count": 66,
   "metadata": {},
   "outputs": [
    {
     "data": {
      "text/plain": [
       "[('F statistic', 1.0095157703353355), ('p-value', 0.43482035974660294)]"
      ]
     },
     "execution_count": 66,
     "metadata": {},
     "output_type": "execute_result"
    },
    {
     "data": {
      "application/javascript": [
       "\n",
       "            setTimeout(function() {\n",
       "                var nbb_cell_id = 66;\n",
       "                var nbb_unformatted_code = \"import statsmodels.stats.api as sms\\nfrom statsmodels.compat import lzip\\n\\nname = [\\\"F statistic\\\", \\\"p-value\\\"]\\ntest = sms.het_goldfeldquandt(df_pred[\\\"Residuals\\\"], x_train3)\\nlzip(name, test)\";\n",
       "                var nbb_formatted_code = \"import statsmodels.stats.api as sms\\nfrom statsmodels.compat import lzip\\n\\nname = [\\\"F statistic\\\", \\\"p-value\\\"]\\ntest = sms.het_goldfeldquandt(df_pred[\\\"Residuals\\\"], x_train3)\\nlzip(name, test)\";\n",
       "                var nbb_cells = Jupyter.notebook.get_cells();\n",
       "                for (var i = 0; i < nbb_cells.length; ++i) {\n",
       "                    if (nbb_cells[i].input_prompt_number == nbb_cell_id) {\n",
       "                        if (nbb_cells[i].get_text() == nbb_unformatted_code) {\n",
       "                             nbb_cells[i].set_text(nbb_formatted_code);\n",
       "                        }\n",
       "                        break;\n",
       "                    }\n",
       "                }\n",
       "            }, 500);\n",
       "            "
      ],
      "text/plain": [
       "<IPython.core.display.Javascript object>"
      ]
     },
     "metadata": {},
     "output_type": "display_data"
    }
   ],
   "source": [
    "import statsmodels.stats.api as sms\n",
    "from statsmodels.compat import lzip\n",
    "\n",
    "name = [\"F statistic\", \"p-value\"]\n",
    "test = sms.het_goldfeldquandt(df_pred[\"Residuals\"], x_train3)\n",
    "lzip(name, test)"
   ]
  },
  {
   "cell_type": "markdown",
   "metadata": {},
   "source": [
    "- Since p-value > 0.05, we can say that the residuals are homoscedastic. So, this assumption is satisfied.\n",
    "\n",
    "Now that we have checked all the assumptions of linear regression and they are satisfied, let's go ahead with prediction."
   ]
  },
  {
   "cell_type": "code",
   "execution_count": 67,
   "metadata": {},
   "outputs": [
    {
     "name": "stdout",
     "output_type": "stream",
     "text": [
      "Sample of Actual and Predicted used_price by the ML model (in €)\n"
     ]
    },
    {
     "data": {
      "text/html": [
       "<div>\n",
       "<style scoped>\n",
       "    .dataframe tbody tr th:only-of-type {\n",
       "        vertical-align: middle;\n",
       "    }\n",
       "\n",
       "    .dataframe tbody tr th {\n",
       "        vertical-align: top;\n",
       "    }\n",
       "\n",
       "    .dataframe thead th {\n",
       "        text-align: right;\n",
       "    }\n",
       "</style>\n",
       "<table border=\"1\" class=\"dataframe\">\n",
       "  <thead>\n",
       "    <tr style=\"text-align: right;\">\n",
       "      <th></th>\n",
       "      <th>Actual</th>\n",
       "      <th>Predicted</th>\n",
       "    </tr>\n",
       "  </thead>\n",
       "  <tbody>\n",
       "    <tr>\n",
       "      <th>1174</th>\n",
       "      <td>94.430815</td>\n",
       "      <td>90.568049</td>\n",
       "    </tr>\n",
       "    <tr>\n",
       "      <th>2247</th>\n",
       "      <td>81.238798</td>\n",
       "      <td>66.212932</td>\n",
       "    </tr>\n",
       "    <tr>\n",
       "      <th>2991</th>\n",
       "      <td>73.078043</td>\n",
       "      <td>61.810534</td>\n",
       "    </tr>\n",
       "    <tr>\n",
       "      <th>2997</th>\n",
       "      <td>79.009214</td>\n",
       "      <td>79.849972</td>\n",
       "    </tr>\n",
       "    <tr>\n",
       "      <th>2982</th>\n",
       "      <td>100.529127</td>\n",
       "      <td>100.694775</td>\n",
       "    </tr>\n",
       "    <tr>\n",
       "      <th>479</th>\n",
       "      <td>78.660741</td>\n",
       "      <td>74.567407</td>\n",
       "    </tr>\n",
       "    <tr>\n",
       "      <th>17</th>\n",
       "      <td>109.011245</td>\n",
       "      <td>111.346647</td>\n",
       "    </tr>\n",
       "    <tr>\n",
       "      <th>471</th>\n",
       "      <td>105.280149</td>\n",
       "      <td>88.169874</td>\n",
       "    </tr>\n",
       "    <tr>\n",
       "      <th>2918</th>\n",
       "      <td>90.069046</td>\n",
       "      <td>86.841551</td>\n",
       "    </tr>\n",
       "    <tr>\n",
       "      <th>602</th>\n",
       "      <td>57.177211</td>\n",
       "      <td>70.070159</td>\n",
       "    </tr>\n",
       "  </tbody>\n",
       "</table>\n",
       "</div>"
      ],
      "text/plain": [
       "          Actual   Predicted\n",
       "1174   94.430815   90.568049\n",
       "2247   81.238798   66.212932\n",
       "2991   73.078043   61.810534\n",
       "2997   79.009214   79.849972\n",
       "2982  100.529127  100.694775\n",
       "479    78.660741   74.567407\n",
       "17    109.011245  111.346647\n",
       "471   105.280149   88.169874\n",
       "2918   90.069046   86.841551\n",
       "602    57.177211   70.070159"
      ]
     },
     "execution_count": 67,
     "metadata": {},
     "output_type": "execute_result"
    },
    {
     "data": {
      "application/javascript": [
       "\n",
       "            setTimeout(function() {\n",
       "                var nbb_cell_id = 67;\n",
       "                var nbb_unformatted_code = \"# predictions on the test set\\npred = olsmod2.predict(x_test3)\\n\\ndf_pred_test = pd.DataFrame({\\\"Actual\\\": y_test ** (3), \\\"Predicted\\\": pred ** (3)})\\nprint(\\\"Sample of Actual and Predicted used_price by the ML model (in \\u20ac)\\\")\\ndf_pred_test.sample(10, random_state=1)\";\n",
       "                var nbb_formatted_code = \"# predictions on the test set\\npred = olsmod2.predict(x_test3)\\n\\ndf_pred_test = pd.DataFrame({\\\"Actual\\\": y_test ** (3), \\\"Predicted\\\": pred ** (3)})\\nprint(\\\"Sample of Actual and Predicted used_price by the ML model (in \\u20ac)\\\")\\ndf_pred_test.sample(10, random_state=1)\";\n",
       "                var nbb_cells = Jupyter.notebook.get_cells();\n",
       "                for (var i = 0; i < nbb_cells.length; ++i) {\n",
       "                    if (nbb_cells[i].input_prompt_number == nbb_cell_id) {\n",
       "                        if (nbb_cells[i].get_text() == nbb_unformatted_code) {\n",
       "                             nbb_cells[i].set_text(nbb_formatted_code);\n",
       "                        }\n",
       "                        break;\n",
       "                    }\n",
       "                }\n",
       "            }, 500);\n",
       "            "
      ],
      "text/plain": [
       "<IPython.core.display.Javascript object>"
      ]
     },
     "metadata": {},
     "output_type": "display_data"
    }
   ],
   "source": [
    "# predictions on the test set\n",
    "pred = olsmod2.predict(x_test3)\n",
    "\n",
    "df_pred_test = pd.DataFrame({\"Actual\": y_test ** (3), \"Predicted\": pred ** (3)})\n",
    "print(\"Sample of Actual and Predicted used_price by the ML model (in €)\")\n",
    "df_pred_test.sample(10, random_state=1)"
   ]
  },
  {
   "cell_type": "markdown",
   "metadata": {},
   "source": [
    "- Here, we can see that our model's predictions are pretty good, and the actual and predicted values are comparable.\n",
    "- We can also see the results of comparing 25 records as a bar graph."
   ]
  },
  {
   "cell_type": "code",
   "execution_count": 68,
   "metadata": {},
   "outputs": [
    {
     "data": {
      "image/png": "[encoded data removed]",
      "text/plain": [
       "<Figure size 1080x504 with 1 Axes>"
      ]
     },
     "metadata": {
      "needs_background": "light"
     },
     "output_type": "display_data"
    },
    {
     "data": {
      "application/javascript": [
       "\n",
       "            setTimeout(function() {\n",
       "                var nbb_cell_id = 68;\n",
       "                var nbb_unformatted_code = \"df3 = df_pred_test.sample(25, random_state=1)\\ndf3.plot(kind=\\\"bar\\\", figsize=(15, 7))\\nplt.show()\";\n",
       "                var nbb_formatted_code = \"df3 = df_pred_test.sample(25, random_state=1)\\ndf3.plot(kind=\\\"bar\\\", figsize=(15, 7))\\nplt.show()\";\n",
       "                var nbb_cells = Jupyter.notebook.get_cells();\n",
       "                for (var i = 0; i < nbb_cells.length; ++i) {\n",
       "                    if (nbb_cells[i].input_prompt_number == nbb_cell_id) {\n",
       "                        if (nbb_cells[i].get_text() == nbb_unformatted_code) {\n",
       "                             nbb_cells[i].set_text(nbb_formatted_code);\n",
       "                        }\n",
       "                        break;\n",
       "                    }\n",
       "                }\n",
       "            }, 500);\n",
       "            "
      ],
      "text/plain": [
       "<IPython.core.display.Javascript object>"
      ]
     },
     "metadata": {},
     "output_type": "display_data"
    }
   ],
   "source": [
    "df3 = df_pred_test.sample(25, random_state=1)\n",
    "df3.plot(kind=\"bar\", figsize=(15, 7))\n",
    "plt.show()"
   ]
  },
  {
   "cell_type": "markdown",
   "metadata": {
    "id": "jRYSDgFZMKtm"
   },
   "source": [
    "## Final Model"
   ]
  },
  {
   "cell_type": "code",
   "execution_count": 69,
   "metadata": {
    "id": "x_Sqvs4TMKtn"
   },
   "outputs": [
    {
     "name": "stdout",
     "output_type": "stream",
     "text": [
      "                              OLS Regression Results                             \n",
      "=================================================================================\n",
      "Dep. Variable:     normalized_used_price   R-squared:                       0.832\n",
      "Model:                               OLS   Adj. R-squared:                  0.832\n",
      "Method:                    Least Squares   F-statistic:                     1991.\n",
      "Date:                   Sun, 09 Oct 2022   Prob (F-statistic):               0.00\n",
      "Time:                           10:47:44   Log-Likelihood:                 108.07\n",
      "No. Observations:                   2417   AIC:                            -202.1\n",
      "Df Residuals:                       2410   BIC:                            -161.6\n",
      "Df Model:                              6                                         \n",
      "Covariance Type:               nonrobust                                         \n",
      "========================================================================================\n",
      "                           coef    std err          t      P>|t|      [0.025      0.975]\n",
      "----------------------------------------------------------------------------------------\n",
      "const                    0.6682      0.022     29.801      0.000       0.624       0.712\n",
      "const                    0.6682      0.022     29.801      0.000       0.624       0.712\n",
      "main_camera_mp           0.0214      0.001     15.758      0.000       0.019       0.024\n",
      "selfie_camera_mp         0.0183      0.002     11.897      0.000       0.015       0.021\n",
      "battery               3.781e-05   6.99e-06      5.408      0.000    2.41e-05    5.15e-05\n",
      "weight                   0.0030      0.000     15.335      0.000       0.003       0.003\n",
      "normalized_new_price     0.4173      0.010     41.180      0.000       0.397       0.437\n",
      "years_since_release     -0.0165      0.003     -4.862      0.000      -0.023      -0.010\n",
      "==============================================================================\n",
      "Omnibus:                      107.627   Durbin-Watson:                   1.990\n",
      "Prob(Omnibus):                  0.000   Jarque-Bera (JB):              176.518\n",
      "Skew:                          -0.373   Prob(JB):                     4.67e-39\n",
      "Kurtosis:                       4.093   Cond. No.                     5.15e+17\n",
      "==============================================================================\n",
      "\n",
      "Notes:\n",
      "[1] Standard Errors assume that the covariance matrix of the errors is correctly specified.\n",
      "[2] The smallest eigenvalue is 1.02e-25. This might indicate that there are\n",
      "strong multicollinearity problems or that the design matrix is singular.\n"
     ]
    },
    {
     "data": {
      "application/javascript": [
       "\n",
       "            setTimeout(function() {\n",
       "                var nbb_cell_id = 69;\n",
       "                var nbb_unformatted_code = \"olsmodel_final = sm.OLS(y_train, x_train3).fit()\\nprint(olsmodel_final.summary())\";\n",
       "                var nbb_formatted_code = \"olsmodel_final = sm.OLS(y_train, x_train3).fit()\\nprint(olsmodel_final.summary())\";\n",
       "                var nbb_cells = Jupyter.notebook.get_cells();\n",
       "                for (var i = 0; i < nbb_cells.length; ++i) {\n",
       "                    if (nbb_cells[i].input_prompt_number == nbb_cell_id) {\n",
       "                        if (nbb_cells[i].get_text() == nbb_unformatted_code) {\n",
       "                             nbb_cells[i].set_text(nbb_formatted_code);\n",
       "                        }\n",
       "                        break;\n",
       "                    }\n",
       "                }\n",
       "            }, 500);\n",
       "            "
      ],
      "text/plain": [
       "<IPython.core.display.Javascript object>"
      ]
     },
     "metadata": {},
     "output_type": "display_data"
    }
   ],
   "source": [
    "olsmodel_final = sm.OLS(y_train, x_train3).fit()\n",
    "print(olsmodel_final.summary())"
   ]
  },
  {
   "cell_type": "code",
   "execution_count": 70,
   "metadata": {},
   "outputs": [
    {
     "name": "stdout",
     "output_type": "stream",
     "text": [
      "Training Performance\n",
      "\n"
     ]
    },
    {
     "data": {
      "text/html": [
       "<div>\n",
       "<style scoped>\n",
       "    .dataframe tbody tr th:only-of-type {\n",
       "        vertical-align: middle;\n",
       "    }\n",
       "\n",
       "    .dataframe tbody tr th {\n",
       "        vertical-align: top;\n",
       "    }\n",
       "\n",
       "    .dataframe thead th {\n",
       "        text-align: right;\n",
       "    }\n",
       "</style>\n",
       "<table border=\"1\" class=\"dataframe\">\n",
       "  <thead>\n",
       "    <tr style=\"text-align: right;\">\n",
       "      <th></th>\n",
       "      <th>RMSE</th>\n",
       "      <th>MAE</th>\n",
       "      <th>R-squared</th>\n",
       "      <th>Adj. R-squared</th>\n",
       "      <th>MAPE</th>\n",
       "    </tr>\n",
       "  </thead>\n",
       "  <tbody>\n",
       "    <tr>\n",
       "      <th>0</th>\n",
       "      <td>0.23139</td>\n",
       "      <td>0.182041</td>\n",
       "      <td>0.832145</td>\n",
       "      <td>0.831587</td>\n",
       "      <td>4.28006</td>\n",
       "    </tr>\n",
       "  </tbody>\n",
       "</table>\n",
       "</div>"
      ],
      "text/plain": [
       "      RMSE       MAE  R-squared  Adj. R-squared     MAPE\n",
       "0  0.23139  0.182041   0.832145        0.831587  4.28006"
      ]
     },
     "execution_count": 70,
     "metadata": {},
     "output_type": "execute_result"
    },
    {
     "data": {
      "application/javascript": [
       "\n",
       "            setTimeout(function() {\n",
       "                var nbb_cell_id = 70;\n",
       "                var nbb_unformatted_code = \"# checking model performance on train set (seen 70% data)\\nprint(\\\"Training Performance\\\\n\\\")\\nolsmod2_train_perf = model_performance_regression(olsmodel_final, x_train3, y_train)\\nolsmod2_train_perf\";\n",
       "                var nbb_formatted_code = \"# checking model performance on train set (seen 70% data)\\nprint(\\\"Training Performance\\\\n\\\")\\nolsmod2_train_perf = model_performance_regression(olsmodel_final, x_train3, y_train)\\nolsmod2_train_perf\";\n",
       "                var nbb_cells = Jupyter.notebook.get_cells();\n",
       "                for (var i = 0; i < nbb_cells.length; ++i) {\n",
       "                    if (nbb_cells[i].input_prompt_number == nbb_cell_id) {\n",
       "                        if (nbb_cells[i].get_text() == nbb_unformatted_code) {\n",
       "                             nbb_cells[i].set_text(nbb_formatted_code);\n",
       "                        }\n",
       "                        break;\n",
       "                    }\n",
       "                }\n",
       "            }, 500);\n",
       "            "
      ],
      "text/plain": [
       "<IPython.core.display.Javascript object>"
      ]
     },
     "metadata": {},
     "output_type": "display_data"
    }
   ],
   "source": [
    "# checking model performance on train set (seen 70% data)\n",
    "print(\"Training Performance\\n\")\n",
    "olsmod2_train_perf = model_performance_regression(olsmodel_final, x_train3, y_train)\n",
    "olsmod2_train_perf"
   ]
  },
  {
   "cell_type": "code",
   "execution_count": 71,
   "metadata": {},
   "outputs": [
    {
     "name": "stdout",
     "output_type": "stream",
     "text": [
      "Test Performance\n",
      "\n"
     ]
    },
    {
     "data": {
      "text/html": [
       "<div>\n",
       "<style scoped>\n",
       "    .dataframe tbody tr th:only-of-type {\n",
       "        vertical-align: middle;\n",
       "    }\n",
       "\n",
       "    .dataframe tbody tr th {\n",
       "        vertical-align: top;\n",
       "    }\n",
       "\n",
       "    .dataframe thead th {\n",
       "        text-align: right;\n",
       "    }\n",
       "</style>\n",
       "<table border=\"1\" class=\"dataframe\">\n",
       "  <thead>\n",
       "    <tr style=\"text-align: right;\">\n",
       "      <th></th>\n",
       "      <th>RMSE</th>\n",
       "      <th>MAE</th>\n",
       "      <th>R-squared</th>\n",
       "      <th>Adj. R-squared</th>\n",
       "      <th>MAPE</th>\n",
       "    </tr>\n",
       "  </thead>\n",
       "  <tbody>\n",
       "    <tr>\n",
       "      <th>0</th>\n",
       "      <td>0.227382</td>\n",
       "      <td>0.182662</td>\n",
       "      <td>0.834146</td>\n",
       "      <td>0.832855</td>\n",
       "      <td>4.262054</td>\n",
       "    </tr>\n",
       "  </tbody>\n",
       "</table>\n",
       "</div>"
      ],
      "text/plain": [
       "       RMSE       MAE  R-squared  Adj. R-squared      MAPE\n",
       "0  0.227382  0.182662   0.834146        0.832855  4.262054"
      ]
     },
     "execution_count": 71,
     "metadata": {},
     "output_type": "execute_result"
    },
    {
     "data": {
      "application/javascript": [
       "\n",
       "            setTimeout(function() {\n",
       "                var nbb_cell_id = 71;\n",
       "                var nbb_unformatted_code = \"# checking model performance on test set (seen 30% data)\\nprint(\\\"Test Performance\\\\n\\\")\\nolsmod2_test_perf = model_performance_regression(olsmodel_final, x_test3, y_test)\\nolsmod2_test_perf\";\n",
       "                var nbb_formatted_code = \"# checking model performance on test set (seen 30% data)\\nprint(\\\"Test Performance\\\\n\\\")\\nolsmod2_test_perf = model_performance_regression(olsmodel_final, x_test3, y_test)\\nolsmod2_test_perf\";\n",
       "                var nbb_cells = Jupyter.notebook.get_cells();\n",
       "                for (var i = 0; i < nbb_cells.length; ++i) {\n",
       "                    if (nbb_cells[i].input_prompt_number == nbb_cell_id) {\n",
       "                        if (nbb_cells[i].get_text() == nbb_unformatted_code) {\n",
       "                             nbb_cells[i].set_text(nbb_formatted_code);\n",
       "                        }\n",
       "                        break;\n",
       "                    }\n",
       "                }\n",
       "            }, 500);\n",
       "            "
      ],
      "text/plain": [
       "<IPython.core.display.Javascript object>"
      ]
     },
     "metadata": {},
     "output_type": "display_data"
    }
   ],
   "source": [
    "# checking model performance on test set (seen 30% data)\n",
    "print(\"Test Performance\\n\")\n",
    "olsmod2_test_perf = model_performance_regression(olsmodel_final, x_test3, y_test)\n",
    "olsmod2_test_perf"
   ]
  },
  {
   "cell_type": "markdown",
   "metadata": {},
   "source": [
    "#### Summary:\n",
    "- The model can explain about 83% of the variation in the data, which is great.\n",
    "- The RMSE and MAE for both the train and test are low and comparable. So, our model doesn't have the problem of being too good.\n",
    "- The Mean Absolute Percentage Error (MAPE) on the test set shows that we can predict the prices of used devices to within 4.3% error, which is good because it is a low value.\n",
    "- So, we can say that the olsmod2 model is good for both making predictions and drawing conclusions."
   ]
  },
  {
   "cell_type": "markdown",
   "metadata": {
    "id": "2BkZh6eHluZK"
   },
   "source": [
    "## Actionable Insights and Recommendations "
   ]
  },
  {
   "cell_type": "markdown",
   "metadata": {},
   "source": [
    "### Actionable insights"
   ]
  },
  {
   "cell_type": "markdown",
   "metadata": {
    "id": "Mh_zkgqs4rqN"
   },
   "source": [
    "- The RAM on the refurbished phones was found to be about 4GB on average across all of the phones in the dataset. This is not significant.\n",
    "- Like RAM, it was found that almost 93% of phones ran on Android OS, which is also not a good predictor.\n",
    "- Huawei has the highest number of the refurbish phones with large screen size (>6 inches) and high-quality selfie camera (>8MP). \n",
    "- Panasonic has the lowest number of the refurbish phones with large screen size (>6 inches) and high-quality selfie camera (>8MP). \n",
    "- normalized_new_price has a strong positive correlation with used price. Other positive ones are screen_size, main_camera_mp, selfie_camera_mp, int_memory, battery and weight. This means as they increase, the price of used devices also increases.\n",
    "- days_used is negatively correlated to the price of used devices, which means it increases, the price of used devices decreases.\n",
    "- The model is able to explain ~83% of the variation in the data and within 4.3 % of the price of used devices on the test data, which is good. This indicates that the model is good for prediction as well as inference purposes.\n",
    "- If the main_camera_mp increases by one unit, then its price increases by 0.0214 units, all other variables held constant.\n",
    "- If the selfie_camera_mp increases by one unit, then its price increases by 0.0183 units, all other variables held constant.\n",
    "- If the years_since_release increases by one unit, then its price decreases by 0.0165 units, all other variables held constant.\n"
   ]
  },
  {
   "cell_type": "markdown",
   "metadata": {},
   "source": [
    "### Recommendations"
   ]
  },
  {
   "cell_type": "markdown",
   "metadata": {},
   "source": [
    "- As the price of the used devices increases with the increasing quality of main camera, selfie camera, internal memory and battery, the company should improve those factors to attract more customers.\n",
    "- As the price of the used devices increases with the increase of the new device's price, the company can execute marketing campaigns to promote the price of both devices.\n",
    "- Since the number of days the device used and years since release of the device will nagatively impact on the price of the used devices, retailers should run device checks and repairs to make the customers feel more secure when they buy the old device. Therefore, the sales of refurbished devices will increase."
   ]
  },
  {
   "cell_type": "markdown",
   "metadata": {
    "id": "bWXXovuh4rqN"
   },
   "source": [
    "___"
   ]
  }
 ],
 "metadata": {
  "colab": {
   "collapsed_sections": [
    "3SntBY974rqJ",
    "v_-uuGqH-qTt",
    "xxhpZv9y-qTw",
    "UvpMDcaaMKtI",
    "__7ciGcIDPyk",
    "pVn5toJ7MKte",
    "KNzFis7eEaXj",
    "HeUzI1OB4rqM",
    "jvoU3F6oMKti",
    "a9GxSQf-qH8e",
    "jRYSDgFZMKtm",
    "2BkZh6eHluZK"
   ],
   "name": "SLF_Project_LearnerNotebook_FullCode.ipynb",
   "provenance": []
  },
  "kernelspec": {
   "display_name": "Python 3 (ipykernel)",
   "language": "python",
   "name": "python3"
  },
  "language_info": {
   "codemirror_mode": {
    "name": "ipython",
    "version": 3
   },
   "file_extension": ".py",
   "mimetype": "text/x-python",
   "name": "python",
   "nbconvert_exporter": "python",
   "pygments_lexer": "ipython3",
   "version": "3.10.5"
  },
  "vscode": {
   "interpreter": {
    "hash": "43ef180dc804bf3e38d901f73ce1c5f5ffc247396ea722c3f71b1fdc9faed97e"
   }
  }
 },
 "nbformat": 4,
 "nbformat_minor": 4
}
